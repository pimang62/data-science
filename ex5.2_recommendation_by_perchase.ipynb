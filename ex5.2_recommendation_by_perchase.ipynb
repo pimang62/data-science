{
 "cells": [
  {
   "cell_type": "markdown",
   "id": "84a158a1",
   "metadata": {},
   "source": [
    "Step 1 탐색적 분석 : UK Retail 데이터 분석하기"
   ]
  },
  {
   "cell_type": "code",
   "execution_count": 1,
   "id": "8683eeb5",
   "metadata": {},
   "outputs": [
    {
     "name": "stdout",
     "output_type": "stream",
     "text": [
      "<class 'pandas.core.frame.DataFrame'>\n",
      "RangeIndex: 541909 entries, 0 to 541908\n",
      "Data columns (total 9 columns):\n",
      " #   Column       Non-Null Count   Dtype         \n",
      "---  ------       --------------   -----         \n",
      " 0   InvoiceNo    541909 non-null  object        \n",
      " 1   StockCode    541909 non-null  object        \n",
      " 2   Description  540455 non-null  object        \n",
      " 3   Quantity     541909 non-null  int64         \n",
      " 4   InvoiceDate  541909 non-null  object        \n",
      " 5   UnitPrice    541909 non-null  float64       \n",
      " 6   CustomerID   406829 non-null  object        \n",
      " 7   Country      541909 non-null  object        \n",
      " 8   InvoicdData  541909 non-null  datetime64[ns]\n",
      "dtypes: datetime64[ns](1), float64(1), int64(1), object(6)\n",
      "memory usage: 37.2+ MB\n",
      "None\n"
     ]
    },
    {
     "data": {
      "text/html": [
       "<div>\n",
       "<style scoped>\n",
       "    .dataframe tbody tr th:only-of-type {\n",
       "        vertical-align: middle;\n",
       "    }\n",
       "\n",
       "    .dataframe tbody tr th {\n",
       "        vertical-align: top;\n",
       "    }\n",
       "\n",
       "    .dataframe thead th {\n",
       "        text-align: right;\n",
       "    }\n",
       "</style>\n",
       "<table border=\"1\" class=\"dataframe\">\n",
       "  <thead>\n",
       "    <tr style=\"text-align: right;\">\n",
       "      <th></th>\n",
       "      <th>InvoiceNo</th>\n",
       "      <th>StockCode</th>\n",
       "      <th>Description</th>\n",
       "      <th>Quantity</th>\n",
       "      <th>InvoiceDate</th>\n",
       "      <th>UnitPrice</th>\n",
       "      <th>CustomerID</th>\n",
       "      <th>Country</th>\n",
       "      <th>InvoicdData</th>\n",
       "    </tr>\n",
       "  </thead>\n",
       "  <tbody>\n",
       "    <tr>\n",
       "      <th>0</th>\n",
       "      <td>536365</td>\n",
       "      <td>85123A</td>\n",
       "      <td>WHITE HANGING HEART T-LIGHT HOLDER</td>\n",
       "      <td>6</td>\n",
       "      <td>12/1/2010 8:26</td>\n",
       "      <td>2.55</td>\n",
       "      <td>17850</td>\n",
       "      <td>United Kingdom</td>\n",
       "      <td>2010-12-01 08:26:00</td>\n",
       "    </tr>\n",
       "    <tr>\n",
       "      <th>1</th>\n",
       "      <td>536365</td>\n",
       "      <td>71053</td>\n",
       "      <td>WHITE METAL LANTERN</td>\n",
       "      <td>6</td>\n",
       "      <td>12/1/2010 8:26</td>\n",
       "      <td>3.39</td>\n",
       "      <td>17850</td>\n",
       "      <td>United Kingdom</td>\n",
       "      <td>2010-12-01 08:26:00</td>\n",
       "    </tr>\n",
       "    <tr>\n",
       "      <th>2</th>\n",
       "      <td>536365</td>\n",
       "      <td>84406B</td>\n",
       "      <td>CREAM CUPID HEARTS COAT HANGER</td>\n",
       "      <td>8</td>\n",
       "      <td>12/1/2010 8:26</td>\n",
       "      <td>2.75</td>\n",
       "      <td>17850</td>\n",
       "      <td>United Kingdom</td>\n",
       "      <td>2010-12-01 08:26:00</td>\n",
       "    </tr>\n",
       "    <tr>\n",
       "      <th>3</th>\n",
       "      <td>536365</td>\n",
       "      <td>84029G</td>\n",
       "      <td>KNITTED UNION FLAG HOT WATER BOTTLE</td>\n",
       "      <td>6</td>\n",
       "      <td>12/1/2010 8:26</td>\n",
       "      <td>3.39</td>\n",
       "      <td>17850</td>\n",
       "      <td>United Kingdom</td>\n",
       "      <td>2010-12-01 08:26:00</td>\n",
       "    </tr>\n",
       "    <tr>\n",
       "      <th>4</th>\n",
       "      <td>536365</td>\n",
       "      <td>84029E</td>\n",
       "      <td>RED WOOLLY HOTTIE WHITE HEART.</td>\n",
       "      <td>6</td>\n",
       "      <td>12/1/2010 8:26</td>\n",
       "      <td>3.39</td>\n",
       "      <td>17850</td>\n",
       "      <td>United Kingdom</td>\n",
       "      <td>2010-12-01 08:26:00</td>\n",
       "    </tr>\n",
       "  </tbody>\n",
       "</table>\n",
       "</div>"
      ],
      "text/plain": [
       "  InvoiceNo StockCode                          Description  Quantity  \\\n",
       "0    536365    85123A   WHITE HANGING HEART T-LIGHT HOLDER         6   \n",
       "1    536365     71053                  WHITE METAL LANTERN         6   \n",
       "2    536365    84406B       CREAM CUPID HEARTS COAT HANGER         8   \n",
       "3    536365    84029G  KNITTED UNION FLAG HOT WATER BOTTLE         6   \n",
       "4    536365    84029E       RED WOOLLY HOTTIE WHITE HEART.         6   \n",
       "\n",
       "      InvoiceDate  UnitPrice CustomerID         Country         InvoicdData  \n",
       "0  12/1/2010 8:26       2.55      17850  United Kingdom 2010-12-01 08:26:00  \n",
       "1  12/1/2010 8:26       3.39      17850  United Kingdom 2010-12-01 08:26:00  \n",
       "2  12/1/2010 8:26       2.75      17850  United Kingdom 2010-12-01 08:26:00  \n",
       "3  12/1/2010 8:26       3.39      17850  United Kingdom 2010-12-01 08:26:00  \n",
       "4  12/1/2010 8:26       3.39      17850  United Kingdom 2010-12-01 08:26:00  "
      ]
     },
     "execution_count": 1,
     "metadata": {},
     "output_type": "execute_result"
    }
   ],
   "source": [
    "%matplotlib inline\n",
    "\n",
    "import pandas as pd\n",
    "import numpy as np\n",
    "import matplotlib.pyplot as plt\n",
    "\n",
    "import warnings\n",
    "warnings.filterwarnings('ignore')\n",
    "\n",
    "df = pd.read_csv(\"../data/online_retail.csv\", dtype = {\"InvoiceNo\":str, \"CustomerID\":str}, encoding = \"ISO-8859-1\")\n",
    "\n",
    "df['InvoicdData'] = pd.to_datetime(df['InvoiceDate'], format = \"%m/%d/%Y %H:%M\")\n",
    "print(df.info())\n",
    "df.head()"
   ]
  },
  {
   "cell_type": "code",
   "execution_count": 2,
   "id": "3ae5bb95",
   "metadata": {},
   "outputs": [
    {
     "data": {
      "text/plain": [
       "InvoiceNo           0\n",
       "StockCode           0\n",
       "Description      1454\n",
       "Quantity            0\n",
       "InvoiceDate         0\n",
       "UnitPrice           0\n",
       "CustomerID     135080\n",
       "Country             0\n",
       "InvoicdData         0\n",
       "dtype: int64"
      ]
     },
     "execution_count": 2,
     "metadata": {},
     "output_type": "execute_result"
    }
   ],
   "source": [
    "df.isnull().sum()"
   ]
  },
  {
   "cell_type": "code",
   "execution_count": 3,
   "id": "9c613fee",
   "metadata": {},
   "outputs": [
    {
     "name": "stdout",
     "output_type": "stream",
     "text": [
      "(406829, 9)\n"
     ]
    }
   ],
   "source": [
    "df = df.dropna()\n",
    "print(df.shape)"
   ]
  },
  {
   "cell_type": "code",
   "execution_count": 4,
   "id": "715d8f4f",
   "metadata": {},
   "outputs": [
    {
     "name": "stdout",
     "output_type": "stream",
     "text": [
      "8905\n"
     ]
    }
   ],
   "source": [
    "# 'Quantity' 양이 0 이하인 것 제거 : shape[0]\n",
    "print(df[df['Quantity']<=0].shape[0])\n",
    "df = df[df['Quantity']>0]"
   ]
  },
  {
   "cell_type": "code",
   "execution_count": 5,
   "id": "395a19f5",
   "metadata": {},
   "outputs": [
    {
     "name": "stdout",
     "output_type": "stream",
     "text": [
      "40\n"
     ]
    }
   ],
   "source": [
    "# 'UnitPrice' 상품 가격 0 이하인 것 제거\n",
    "print(df[df['UnitPrice']<=0].shape[0])\n",
    "df = df[df['UnitPrice']>0]"
   ]
  },
  {
   "cell_type": "code",
   "execution_count": 6,
   "id": "526232d5",
   "metadata": {},
   "outputs": [
    {
     "name": "stdout",
     "output_type": "stream",
     "text": [
      "1414\n"
     ]
    },
    {
     "data": {
      "text/html": [
       "<div>\n",
       "<style scoped>\n",
       "    .dataframe tbody tr th:only-of-type {\n",
       "        vertical-align: middle;\n",
       "    }\n",
       "\n",
       "    .dataframe tbody tr th {\n",
       "        vertical-align: top;\n",
       "    }\n",
       "\n",
       "    .dataframe thead th {\n",
       "        text-align: right;\n",
       "    }\n",
       "</style>\n",
       "<table border=\"1\" class=\"dataframe\">\n",
       "  <thead>\n",
       "    <tr style=\"text-align: right;\">\n",
       "      <th></th>\n",
       "      <th>InvoiceNo</th>\n",
       "      <th>StockCode</th>\n",
       "      <th>Description</th>\n",
       "      <th>Quantity</th>\n",
       "      <th>InvoiceDate</th>\n",
       "      <th>UnitPrice</th>\n",
       "      <th>CustomerID</th>\n",
       "      <th>Country</th>\n",
       "      <th>InvoicdData</th>\n",
       "      <th>ContainDigit</th>\n",
       "    </tr>\n",
       "  </thead>\n",
       "  <tbody>\n",
       "    <tr>\n",
       "      <th>45</th>\n",
       "      <td>536370</td>\n",
       "      <td>POST</td>\n",
       "      <td>POSTAGE</td>\n",
       "      <td>3</td>\n",
       "      <td>12/1/2010 8:45</td>\n",
       "      <td>18.00</td>\n",
       "      <td>12583</td>\n",
       "      <td>France</td>\n",
       "      <td>2010-12-01 08:45:00</td>\n",
       "      <td>False</td>\n",
       "    </tr>\n",
       "    <tr>\n",
       "      <th>386</th>\n",
       "      <td>536403</td>\n",
       "      <td>POST</td>\n",
       "      <td>POSTAGE</td>\n",
       "      <td>1</td>\n",
       "      <td>12/1/2010 11:27</td>\n",
       "      <td>15.00</td>\n",
       "      <td>12791</td>\n",
       "      <td>Netherlands</td>\n",
       "      <td>2010-12-01 11:27:00</td>\n",
       "      <td>False</td>\n",
       "    </tr>\n",
       "    <tr>\n",
       "      <th>1123</th>\n",
       "      <td>536527</td>\n",
       "      <td>POST</td>\n",
       "      <td>POSTAGE</td>\n",
       "      <td>1</td>\n",
       "      <td>12/1/2010 13:04</td>\n",
       "      <td>18.00</td>\n",
       "      <td>12662</td>\n",
       "      <td>Germany</td>\n",
       "      <td>2010-12-01 13:04:00</td>\n",
       "      <td>False</td>\n",
       "    </tr>\n",
       "    <tr>\n",
       "      <th>2239</th>\n",
       "      <td>536569</td>\n",
       "      <td>M</td>\n",
       "      <td>Manual</td>\n",
       "      <td>1</td>\n",
       "      <td>12/1/2010 15:35</td>\n",
       "      <td>1.25</td>\n",
       "      <td>16274</td>\n",
       "      <td>United Kingdom</td>\n",
       "      <td>2010-12-01 15:35:00</td>\n",
       "      <td>False</td>\n",
       "    </tr>\n",
       "    <tr>\n",
       "      <th>2250</th>\n",
       "      <td>536569</td>\n",
       "      <td>M</td>\n",
       "      <td>Manual</td>\n",
       "      <td>1</td>\n",
       "      <td>12/1/2010 15:35</td>\n",
       "      <td>18.95</td>\n",
       "      <td>16274</td>\n",
       "      <td>United Kingdom</td>\n",
       "      <td>2010-12-01 15:35:00</td>\n",
       "      <td>False</td>\n",
       "    </tr>\n",
       "  </tbody>\n",
       "</table>\n",
       "</div>"
      ],
      "text/plain": [
       "     InvoiceNo StockCode Description  Quantity      InvoiceDate  UnitPrice  \\\n",
       "45      536370      POST     POSTAGE         3   12/1/2010 8:45      18.00   \n",
       "386     536403      POST     POSTAGE         1  12/1/2010 11:27      15.00   \n",
       "1123    536527      POST     POSTAGE         1  12/1/2010 13:04      18.00   \n",
       "2239    536569         M      Manual         1  12/1/2010 15:35       1.25   \n",
       "2250    536569         M      Manual         1  12/1/2010 15:35      18.95   \n",
       "\n",
       "     CustomerID         Country         InvoicdData  ContainDigit  \n",
       "45        12583          France 2010-12-01 08:45:00         False  \n",
       "386       12791     Netherlands 2010-12-01 11:27:00         False  \n",
       "1123      12662         Germany 2010-12-01 13:04:00         False  \n",
       "2239      16274  United Kingdom 2010-12-01 15:35:00         False  \n",
       "2250      16274  United Kingdom 2010-12-01 15:35:00         False  "
      ]
     },
     "execution_count": 6,
     "metadata": {},
     "output_type": "execute_result"
    }
   ],
   "source": [
    "# 'StockCode' 상품 코드가 일반적이지 않은 경우를 'ContainDigit'에 False로 저장 : any() T/F 판단\n",
    "df['ContainDigit'] = df['StockCode'].apply(lambda x : any(c.isdigit() for c in x))\n",
    "print(df[df['ContainDigit']==False].shape[0])\n",
    "df[df['ContainDigit']==False].head()"
   ]
  },
  {
   "cell_type": "code",
   "execution_count": 7,
   "id": "e64b8e6e",
   "metadata": {},
   "outputs": [],
   "source": [
    "# 상품 코드가 일반적이지 않은 경우 제거\n",
    "df = df[df['ContainDigit']==True]"
   ]
  },
  {
   "cell_type": "code",
   "execution_count": 8,
   "id": "11746b56",
   "metadata": {},
   "outputs": [
    {
     "name": "stdout",
     "output_type": "stream",
     "text": [
      "2010-12-01\n",
      "2011-12-09\n"
     ]
    }
   ],
   "source": [
    "# dt.date : 날짜 처리법\n",
    "df['InvoiceDate'] = pd.to_datetime(df['InvoiceDate'])\n",
    "df['date'] = df['InvoiceDate'].dt.date\n",
    "print(df['date'].min())\n",
    "print(df['date'].max())"
   ]
  },
  {
   "cell_type": "code",
   "execution_count": 9,
   "id": "f5c3919f",
   "metadata": {},
   "outputs": [
    {
     "data": {
      "text/plain": [
       "<Axes: xlabel='date'>"
      ]
     },
     "execution_count": 9,
     "metadata": {},
     "output_type": "execute_result"
    },
    {
     "data": {
      "image/png": "[encoded data removed]",
      "text/plain": [
       "<Figure size 640x480 with 1 Axes>"
      ]
     },
     "metadata": {},
     "output_type": "display_data"
    }
   ],
   "source": [
    "# 일자별 거래량 : 날짜에 대해 양 sum\n",
    "date_quantity_series = df.groupby('date')['Quantity'].sum()\n",
    "date_quantity_series.plot()"
   ]
  },
  {
   "cell_type": "code",
   "execution_count": 10,
   "id": "94ecd1fb",
   "metadata": {},
   "outputs": [
    {
     "data": {
      "text/plain": [
       "<Axes: xlabel='date'>"
      ]
     },
     "execution_count": 10,
     "metadata": {},
     "output_type": "execute_result"
    },
    {
     "data": {
      "image/png": "[encoded data removed]",
      "text/plain": [
       "<Figure size 640x480 with 1 Axes>"
      ]
     },
     "metadata": {},
     "output_type": "display_data"
    }
   ],
   "source": [
    "# 일자별 거래 횟수 : 날짜에 대해 ID nunique 세기\n",
    "date_transaction_series = df.groupby('date')['InvoiceNo'].nunique()\n",
    "date_transaction_series.plot()"
   ]
  },
  {
   "cell_type": "code",
   "execution_count": 11,
   "id": "5c348cb3",
   "metadata": {},
   "outputs": [
    {
     "data": {
      "text/plain": [
       "<Axes: xlabel='date'>"
      ]
     },
     "execution_count": 11,
     "metadata": {},
     "output_type": "execute_result"
    },
    {
     "data": {
      "image/png": "[encoded data removed]",
      "text/plain": [
       "<Figure size 640x480 with 1 Axes>"
      ]
     },
     "metadata": {},
     "output_type": "display_data"
    }
   ],
   "source": [
    "# 일자별 거래 상품 개수 : \n",
    "date_unique_item_series = df.groupby('date')['StockCode'].nunique()\n",
    "date_unique_item_series.plot()"
   ]
  },
  {
   "cell_type": "code",
   "execution_count": 12,
   "id": "4c28f155",
   "metadata": {},
   "outputs": [
    {
     "name": "stdout",
     "output_type": "stream",
     "text": [
      "4334\n"
     ]
    }
   ],
   "source": [
    "# 총 유저의 수\n",
    "print(len(df['CustomerID'].unique()))"
   ]
  },
  {
   "cell_type": "code",
   "execution_count": 13,
   "id": "8163b43f",
   "metadata": {},
   "outputs": [
    {
     "data": {
      "text/plain": [
       "count    4334.000000\n",
       "mean        4.246654\n",
       "std         7.642535\n",
       "min         1.000000\n",
       "25%         1.000000\n",
       "50%         2.000000\n",
       "75%         5.000000\n",
       "max       206.000000\n",
       "Name: InvoiceNo, dtype: float64"
      ]
     },
     "execution_count": 13,
     "metadata": {},
     "output_type": "execute_result"
    }
   ],
   "source": [
    "# 유저별 거래 횟수의 통계치\n",
    "customer_unique_transaction_series = df.groupby('CustomerID')['InvoiceNo'].nunique()\n",
    "customer_unique_transaction_series.describe()"
   ]
  },
  {
   "cell_type": "code",
   "execution_count": 14,
   "id": "439f3e6d",
   "metadata": {},
   "outputs": [
    {
     "data": {
      "image/png": "[encoded data removed]",
      "text/plain": [
       "<Figure size 640x480 with 1 Axes>"
      ]
     },
     "metadata": {},
     "output_type": "display_data"
    }
   ],
   "source": [
    "plt.boxplot(customer_unique_transaction_series.values)\n",
    "plt.show()"
   ]
  },
  {
   "cell_type": "code",
   "execution_count": 15,
   "id": "b7049b4b",
   "metadata": {},
   "outputs": [
    {
     "data": {
      "text/plain": [
       "count    4334.000000\n",
       "mean       61.432856\n",
       "std        85.312937\n",
       "min         1.000000\n",
       "25%        16.000000\n",
       "50%        35.000000\n",
       "75%        77.000000\n",
       "max      1786.000000\n",
       "Name: StockCode, dtype: float64"
      ]
     },
     "execution_count": 15,
     "metadata": {},
     "output_type": "execute_result"
    }
   ],
   "source": [
    "# 유저별로 구매한 상품의 통계치\n",
    "customer_unique_item_series = df.groupby('CustomerID')['StockCode'].nunique()\n",
    "customer_unique_item_series.describe()"
   ]
  },
  {
   "cell_type": "code",
   "execution_count": 16,
   "id": "ada9d613",
   "metadata": {},
   "outputs": [
    {
     "data": {
      "image/png": "[encoded data removed]",
      "text/plain": [
       "<Figure size 640x480 with 1 Axes>"
      ]
     },
     "metadata": {},
     "output_type": "display_data"
    }
   ],
   "source": [
    "plt.boxplot(customer_unique_item_series.values)\n",
    "plt.show()"
   ]
  },
  {
   "cell_type": "markdown",
   "id": "924bb1d1",
   "metadata": {},
   "source": [
    "미니 퀴즈 5-2 : 유저가 아닌 상품을 기준으로 \n",
    "- ① 총 상품 개수\n",
    "- ② 가장 거래가 많은 상품 Top10\n",
    "- ③ 상품별 판매수량 분포 탐색\n",
    "- ④ 거래별 가격 탐색"
   ]
  },
  {
   "cell_type": "code",
   "execution_count": 17,
   "id": "76db5e18",
   "metadata": {},
   "outputs": [
    {
     "name": "stdout",
     "output_type": "stream",
     "text": [
      "3660\n"
     ]
    }
   ],
   "source": [
    "# 총 상품 갯수\n",
    "print(len(df['StockCode'].unique()))"
   ]
  },
  {
   "cell_type": "code",
   "execution_count": 18,
   "id": "1ba65436",
   "metadata": {},
   "outputs": [
    {
     "data": {
      "text/plain": [
       "StockCode\n",
       "44242A    1\n",
       "90100     1\n",
       "90102     1\n",
       "90104     1\n",
       "90118     1\n",
       "21895     1\n",
       "90122B    1\n",
       "84613C    1\n",
       "84614A    1\n",
       "35607A    1\n",
       "Name: InvoiceNo, dtype: int64"
      ]
     },
     "execution_count": 18,
     "metadata": {},
     "output_type": "execute_result"
    }
   ],
   "source": [
    "# 가장 거래가 많은 상품 Top10 : nunique() !!\n",
    "df.groupby('StockCode')['InvoiceNo'].nunique().sort_values(ascending=True).head(10)"
   ]
  },
  {
   "cell_type": "code",
   "execution_count": 19,
   "id": "91885897",
   "metadata": {},
   "outputs": [
    {
     "name": "stdout",
     "output_type": "stream",
     "text": [
      "count     3660.000000\n",
      "mean      1409.149727\n",
      "std       3513.654056\n",
      "min          1.000000\n",
      "25%         65.000000\n",
      "50%        395.000000\n",
      "75%       1417.500000\n",
      "max      80995.000000\n",
      "Name: Quantity, dtype: float64\n"
     ]
    },
    {
     "data": {
      "text/plain": [
       "<Axes: xlabel='StockCode'>"
      ]
     },
     "execution_count": 19,
     "metadata": {},
     "output_type": "execute_result"
    },
    {
     "data": {
      "image/png": "[encoded data removed]",
      "text/plain": [
       "<Figure size 640x480 with 1 Axes>"
      ]
     },
     "metadata": {},
     "output_type": "display_data"
    }
   ],
   "source": [
    "# 상품별 거래 수량 탐색\n",
    "print(df.groupby('StockCode')['Quantity'].sum().describe())\n",
    "stock_unique_quantity = df.groupby('StockCode')['Quantity'].sum()\n",
    "stock_unique_quantity.plot()"
   ]
  },
  {
   "cell_type": "code",
   "execution_count": 20,
   "id": "f706faea",
   "metadata": {},
   "outputs": [
    {
     "data": {
      "text/plain": [
       "<Axes: xlabel='StockCode'>"
      ]
     },
     "execution_count": 20,
     "metadata": {},
     "output_type": "execute_result"
    },
    {
     "data": {
      "image/png": "[encoded data removed]",
      "text/plain": [
       "<Figure size 640x480 with 1 Axes>"
      ]
     },
     "metadata": {},
     "output_type": "display_data"
    }
   ],
   "source": [
    "# 분포 확인\n",
    "stock_unique_quantity.sort_values(ascending=False).plot() # 내림차순"
   ]
  },
  {
   "cell_type": "code",
   "execution_count": 21,
   "id": "94ca52c1",
   "metadata": {},
   "outputs": [
    {
     "data": {
      "text/plain": [
       "count     18405.000000\n",
       "mean        476.378845\n",
       "std        1678.749892\n",
       "min           0.380000\n",
       "25%         157.900000\n",
       "50%         302.360000\n",
       "75%         465.700000\n",
       "max      168469.600000\n",
       "Name: amount, dtype: float64"
      ]
     },
     "execution_count": 21,
     "metadata": {},
     "output_type": "execute_result"
    }
   ],
   "source": [
    "# 거래별 가격 탐색 : quantity * unitprice\n",
    "df['amount'] = df['UnitPrice'] * df['Quantity']\n",
    "amount_unique_ID = df.groupby('InvoiceNo')['amount'].sum()\n",
    "amount_unique_ID.describe()"
   ]
  },
  {
   "cell_type": "code",
   "execution_count": 22,
   "id": "a8cbcbe7",
   "metadata": {},
   "outputs": [
    {
     "data": {
      "image/png": "[encoded data removed]",
      "text/plain": [
       "<Figure size 640x480 with 1 Axes>"
      ]
     },
     "metadata": {},
     "output_type": "display_data"
    }
   ],
   "source": [
    "plt.plot(amount_unique_ID.values)\n",
    "plt.show()"
   ]
  },
  {
   "cell_type": "code",
   "execution_count": 23,
   "id": "4defed63",
   "metadata": {},
   "outputs": [
    {
     "data": {
      "image/png": "[encoded data removed]",
      "text/plain": [
       "<Figure size 640x480 with 1 Axes>"
      ]
     },
     "metadata": {},
     "output_type": "display_data"
    }
   ],
   "source": [
    "plt.plot(amount_unique_ID.sort_values(ascending=False).values)  # .values : 범위 숫자로 표현\n",
    "plt.show()"
   ]
  },
  {
   "cell_type": "code",
   "execution_count": 24,
   "id": "3e6cc0df",
   "metadata": {},
   "outputs": [
    {
     "name": "stdout",
     "output_type": "stream",
     "text": [
      "(314902, 12)\n",
      "(81568, 12)\n"
     ]
    }
   ],
   "source": [
    "# 2011-11-1 기준 이전과 이후로 데이터 분리\n",
    "import datetime\n",
    "\n",
    "df_year_round = df[df['date'] < datetime.date(2011, 11, 1)]\n",
    "df_year_end = df[df['date'] >= datetime.date(2011, 11, 1)]\n",
    "print(df_year_round.shape)\n",
    "print(df_year_end.shape)"
   ]
  },
  {
   "cell_type": "code",
   "execution_count": 25,
   "id": "d7e1e711",
   "metadata": {},
   "outputs": [
    {
     "data": {
      "text/plain": [
       "CustomerID\n",
       "12346                                              {23166}\n",
       "12347    {47580, 22726, 17021, 47567B, 84992, 22212, 22...\n",
       "12348    {22952, 21982, 21983, 21211, 84992, 22951, 224...\n",
       "12350    {22412, 22620, 21171, 79066K, 79191C, 21915, 2...\n",
       "12352    {22646, 22780, 23298, 22550, 22634, 21314, 221...\n",
       "                               ...                        \n",
       "18280    {22499, 22467, 22725, 22495, 22727, 22611, 223...\n",
       "18281    {23209, 22467, 23008, 22716, 22037, 22028, 23007}\n",
       "18282    {21270, 23187, 22424, 23295, 22089, 21108, 21109}\n",
       "18283    {47580, 21826, 21240, 22149, 22385, 22150, 225...\n",
       "18287    {84507C, 72351B, 47422, 22065, 22755, 20961, 2...\n",
       "Name: StockCode, Length: 3970, dtype: object"
      ]
     },
     "execution_count": 25,
     "metadata": {},
     "output_type": "execute_result"
    }
   ],
   "source": [
    "# 11월 이전 유저별 구매 상품 집합 추출\n",
    "customer_item_round_set = df_year_round.groupby('CustomerID')['StockCode'].apply(set)\n",
    "customer_item_round_set"
   ]
  },
  {
   "cell_type": "code",
   "execution_count": 26,
   "id": "72a5fdd1",
   "metadata": {
    "scrolled": false
   },
   "outputs": [
    {
     "name": "stdout",
     "output_type": "stream",
     "text": [
      "{'12346': {'23166': 'old'}, '12347': {'47580': 'old', '22726': 'old', '17021': 'old', '47567B': 'old ...\n"
     ]
    }
   ],
   "source": [
    "customer_item_dict = {}\n",
    "\n",
    "for customer_id, stocks in customer_item_round_set.items():\n",
    "    customer_item_dict[customer_id] = {}\n",
    "    for stock_code in stocks:\n",
    "        customer_item_dict[customer_id][stock_code] = 'old'\n",
    "        \n",
    "print(str(customer_item_dict)[:100]+\" ...\")"
   ]
  },
  {
   "cell_type": "code",
   "execution_count": 27,
   "id": "1986b7da",
   "metadata": {},
   "outputs": [
    {
     "data": {
      "text/plain": [
       "CustomerID\n",
       "12347    {23084, 23508, 20719, 21265, 21064, 23506, 235...\n",
       "12349    {35970, 23113, 20685, 22601, 22059, 23439, 229...\n",
       "12352    {23088, 23368, 23089, 23367, 22178, 22978, 226...\n",
       "12356                                       {21843, 22423}\n",
       "12357    {37449, 22714, 21555, 22027, 22333, 22726, 215...\n",
       "                               ...                        \n",
       "18272    {23113, 22960, 23240, 22074, 22969, 23495, 234...\n",
       "18273                                             {79302M}\n",
       "18274    {84509A, 23245, 22423, 22720, 21108, 21231, 22...\n",
       "18282                  {23174, 22818, 22699, 23175, 22423}\n",
       "18283    {35970, 22385, 22551, 84992, 23351, 20726, 850...\n",
       "Name: StockCode, Length: 1904, dtype: object"
      ]
     },
     "execution_count": 27,
     "metadata": {},
     "output_type": "execute_result"
    }
   ],
   "source": [
    "# 11월 이후 유저별 구매 상품 집합 \n",
    "customer_item_end_set = df_year_end.groupby('CustomerID')['StockCode'].apply(set)\n",
    "customer_item_end_set"
   ]
  },
  {
   "cell_type": "code",
   "execution_count": 28,
   "id": "94c35f0b",
   "metadata": {},
   "outputs": [
    {
     "name": "stdout",
     "output_type": "stream",
     "text": [
      "{'12346': {'23166': 'old'}, '12347': {'47580': 'old', '22726': 'old', '17021': 'old', '47567B': 'old', '84992': 'old', '22212': 'old', '22697': 'old', '20719': 'both', '23175': 'old', '22727': 'old', '21731': 'both', '47559B': 'old', '23076': 'old', '22771': 'old', '23084': 'both', '21064': 'both',  ...\n"
     ]
    }
   ],
   "source": [
    "for customer_id, stocks in customer_item_end_set.items():\n",
    "    if customer_id in customer_item_dict:\n",
    "        for stock_code in stocks:\n",
    "            # 구매한 적 있는 상품인지 체크\n",
    "            if stock_code in customer_item_dict[customer_id]:\n",
    "                customer_item_dict[customer_id][stock_code] = 'both'\n",
    "            else:\n",
    "                customer_item_dict[customer_id][stock_code] = 'new'\n",
    "    else:\n",
    "        customer_item_dict[customer_id] = {}\n",
    "        for stock_code in stocks:\n",
    "            customer_item_dict[customer_id][stock_code] = 'new'\n",
    "                \n",
    "print(str(customer_item_dict)[:300] + ' ...')"
   ]
  },
  {
   "cell_type": "code",
   "execution_count": 29,
   "id": "73ff02e8",
   "metadata": {},
   "outputs": [
    {
     "data": {
      "text/html": [
       "<div>\n",
       "<style scoped>\n",
       "    .dataframe tbody tr th:only-of-type {\n",
       "        vertical-align: middle;\n",
       "    }\n",
       "\n",
       "    .dataframe tbody tr th {\n",
       "        vertical-align: top;\n",
       "    }\n",
       "\n",
       "    .dataframe thead th {\n",
       "        text-align: right;\n",
       "    }\n",
       "</style>\n",
       "<table border=\"1\" class=\"dataframe\">\n",
       "  <thead>\n",
       "    <tr style=\"text-align: right;\">\n",
       "      <th></th>\n",
       "      <th>CustomerID</th>\n",
       "      <th>old</th>\n",
       "      <th>new</th>\n",
       "      <th>both</th>\n",
       "    </tr>\n",
       "  </thead>\n",
       "  <tbody>\n",
       "    <tr>\n",
       "      <th>0</th>\n",
       "      <td>12346</td>\n",
       "      <td>1</td>\n",
       "      <td>0</td>\n",
       "      <td>0</td>\n",
       "    </tr>\n",
       "    <tr>\n",
       "      <th>1</th>\n",
       "      <td>12347</td>\n",
       "      <td>92</td>\n",
       "      <td>3</td>\n",
       "      <td>8</td>\n",
       "    </tr>\n",
       "    <tr>\n",
       "      <th>2</th>\n",
       "      <td>12348</td>\n",
       "      <td>21</td>\n",
       "      <td>0</td>\n",
       "      <td>0</td>\n",
       "    </tr>\n",
       "    <tr>\n",
       "      <th>3</th>\n",
       "      <td>12350</td>\n",
       "      <td>16</td>\n",
       "      <td>0</td>\n",
       "      <td>0</td>\n",
       "    </tr>\n",
       "    <tr>\n",
       "      <th>4</th>\n",
       "      <td>12352</td>\n",
       "      <td>43</td>\n",
       "      <td>12</td>\n",
       "      <td>2</td>\n",
       "    </tr>\n",
       "  </tbody>\n",
       "</table>\n",
       "</div>"
      ],
      "text/plain": [
       "  CustomerID old new both\n",
       "0      12346   1   0    0\n",
       "1      12347  92   3    8\n",
       "2      12348  21   0    0\n",
       "3      12350  16   0    0\n",
       "4      12352  43  12    2"
      ]
     },
     "execution_count": 29,
     "metadata": {},
     "output_type": "execute_result"
    }
   ],
   "source": [
    "columns = ['CustomerID', 'old', 'new', 'both']\n",
    "df_order_info = pd.DataFrame(columns=columns)\n",
    "\n",
    "for customer_id, stocks in customer_item_dict.items():\n",
    "    \n",
    "    val = [val for val in stocks.values()]\n",
    "    old, new, both = val.count('old'), val.count('new'), val.count('both')\n",
    "    \n",
    "    row = [customer_id, old, new, both]\n",
    "    series = pd.Series(row, index = columns)\n",
    "    df_order_info = df_order_info.append(series, ignore_index=True)\n",
    "\n",
    "df_order_info.head(5)"
   ]
  },
  {
   "cell_type": "code",
   "execution_count": 30,
   "id": "c578ca23",
   "metadata": {},
   "outputs": [
    {
     "name": "stdout",
     "output_type": "stream",
     "text": [
      "4334\n",
      "1446\n",
      "1426\n"
     ]
    }
   ],
   "source": [
    "# 전체 유저 수\n",
    "print(df_order_info.shape[0])\n",
    "\n",
    "# old 1 이상, new가 1 이상\n",
    "# 11월 이전에 구매 이력 있으며, 11월 이후에 새로운 상품을 구매한 유저\n",
    "print(df_order_info[ (df_order_info['old'] >= 1) & (df_order_info['new'] >= 1)].shape[0])\n",
    "\n",
    "# both 1 이상\n",
    "# 재구매한 상품이 있는 유저\n",
    "print(df_order_info[df_order_info['both'] >= 1].shape[0])"
   ]
  },
  {
   "cell_type": "code",
   "execution_count": 31,
   "id": "e40d9748",
   "metadata": {},
   "outputs": [
    {
     "name": "stdout",
     "output_type": "stream",
     "text": [
      "count    132.000000\n",
      "mean      13.734848\n",
      "std       19.130672\n",
      "min        1.000000\n",
      "25%        1.000000\n",
      "50%        5.000000\n",
      "75%       16.000000\n",
      "max       81.000000\n",
      "Name: new, dtype: float64\n"
     ]
    }
   ],
   "source": [
    "# 신규 구매한 사람들은 얼마나 많은 종류의 상품을 구매했는지\n",
    "print(df_order_info['new'].value_counts()[1:].describe())"
   ]
  },
  {
   "cell_type": "markdown",
   "id": "1f8d140d",
   "metadata": {},
   "source": [
    "Step 2 예측 분석 : SVD를 활용한 상품 구매 예측하기"
   ]
  },
  {
   "cell_type": "code",
   "execution_count": 32,
   "id": "4feadc82",
   "metadata": {},
   "outputs": [
    {
     "name": "stdout",
     "output_type": "stream",
     "text": [
      "3970\n",
      "3608\n"
     ]
    }
   ],
   "source": [
    "# 추천 대상이 되는 유저와 상품 개수 출력\n",
    "print(df_year_round['CustomerID'].nunique())\n",
    "print(df_year_round['StockCode'].nunique())"
   ]
  },
  {
   "cell_type": "code",
   "execution_count": 33,
   "id": "946bfd30",
   "metadata": {},
   "outputs": [
    {
     "data": {
      "text/html": [
       "<div>\n",
       "<style scoped>\n",
       "    .dataframe tbody tr th:only-of-type {\n",
       "        vertical-align: middle;\n",
       "    }\n",
       "\n",
       "    .dataframe tbody tr th {\n",
       "        vertical-align: top;\n",
       "    }\n",
       "\n",
       "    .dataframe thead th {\n",
       "        text-align: right;\n",
       "    }\n",
       "</style>\n",
       "<table border=\"1\" class=\"dataframe\">\n",
       "  <thead>\n",
       "    <tr style=\"text-align: right;\">\n",
       "      <th></th>\n",
       "      <th>CustomerID</th>\n",
       "      <th>StockCode</th>\n",
       "      <th>InvoiceNo</th>\n",
       "    </tr>\n",
       "  </thead>\n",
       "  <tbody>\n",
       "    <tr>\n",
       "      <th>0</th>\n",
       "      <td>12346</td>\n",
       "      <td>23166</td>\n",
       "      <td>1</td>\n",
       "    </tr>\n",
       "    <tr>\n",
       "      <th>1</th>\n",
       "      <td>12347</td>\n",
       "      <td>16008</td>\n",
       "      <td>1</td>\n",
       "    </tr>\n",
       "    <tr>\n",
       "      <th>2</th>\n",
       "      <td>12347</td>\n",
       "      <td>17021</td>\n",
       "      <td>1</td>\n",
       "    </tr>\n",
       "    <tr>\n",
       "      <th>3</th>\n",
       "      <td>12347</td>\n",
       "      <td>20665</td>\n",
       "      <td>1</td>\n",
       "    </tr>\n",
       "    <tr>\n",
       "      <th>4</th>\n",
       "      <td>12347</td>\n",
       "      <td>20719</td>\n",
       "      <td>3</td>\n",
       "    </tr>\n",
       "  </tbody>\n",
       "</table>\n",
       "</div>"
      ],
      "text/plain": [
       "  CustomerID StockCode  InvoiceNo\n",
       "0      12346     23166          1\n",
       "1      12347     16008          1\n",
       "2      12347     17021          1\n",
       "3      12347     20665          1\n",
       "4      12347     20719          3"
      ]
     },
     "execution_count": 33,
     "metadata": {},
     "output_type": "execute_result"
    }
   ],
   "source": [
    "# SVD 모델에 사용할 Rating 탐색하기\n",
    "uir_df = df_year_round.groupby(['CustomerID', 'StockCode'])['InvoiceNo'].nunique().reset_index()\n",
    "uir_df.head()"
   ]
  },
  {
   "cell_type": "code",
   "execution_count": 34,
   "id": "ecf9c79d",
   "metadata": {},
   "outputs": [
    {
     "data": {
      "text/plain": [
       "<Axes: >"
      ]
     },
     "execution_count": 34,
     "metadata": {},
     "output_type": "execute_result"
    },
    {
     "data": {
      "image/png": "[encoded data removed]",
      "text/plain": [
       "<Figure size 640x480 with 1 Axes>"
      ]
     },
     "metadata": {},
     "output_type": "display_data"
    }
   ],
   "source": [
    "uir_df['InvoiceNo'].hist(bins=20, grid=False)"
   ]
  },
  {
   "cell_type": "code",
   "execution_count": 35,
   "id": "ef234be1",
   "metadata": {},
   "outputs": [
    {
     "data": {
      "text/plain": [
       "<Axes: >"
      ]
     },
     "execution_count": 35,
     "metadata": {},
     "output_type": "execute_result"
    },
    {
     "data": {
      "image/png": "[encoded data removed]",
      "text/plain": [
       "<Figure size 640x480 with 1 Axes>"
      ]
     },
     "metadata": {},
     "output_type": "display_data"
    }
   ],
   "source": [
    "# Rating(InvoiceNo) 피처를 log normalization 해준 뒤, 다시 분포 탐색 : np.log10(x)+1 대신 np.log1p(x)\n",
    "uir_df['InvoiceNo'].apply(lambda x: np.log1p(x)).hist(bins=20, grid=False)"
   ]
  },
  {
   "cell_type": "code",
   "execution_count": 36,
   "id": "0ab2737c",
   "metadata": {},
   "outputs": [
    {
     "data": {
      "text/plain": [
       "<Axes: >"
      ]
     },
     "execution_count": 36,
     "metadata": {},
     "output_type": "execute_result"
    },
    {
     "data": {
      "image/png": "[encoded data removed]",
      "text/plain": [
       "<Figure size 640x480 with 1 Axes>"
      ]
     },
     "metadata": {},
     "output_type": "display_data"
    }
   ],
   "source": [
    "uir_df['Rating'] = uir_df['InvoiceNo'].apply(lambda x : np.log10(x)+1)\n",
    "\n",
    "# min-max scaling\n",
    "uir_df['Rating'] = ((uir_df['Rating'] - uir_df['Rating'].min()) \n",
    "                    / (uir_df['Rating'].max() - uir_df['Rating'].min()) *4 +1)\n",
    "\n",
    "uir_df['Rating'].hist(bins=20, grid=False)"
   ]
  },
  {
   "cell_type": "code",
   "execution_count": 37,
   "id": "bf2c7bf3",
   "metadata": {},
   "outputs": [
    {
     "data": {
      "text/html": [
       "<div>\n",
       "<style scoped>\n",
       "    .dataframe tbody tr th:only-of-type {\n",
       "        vertical-align: middle;\n",
       "    }\n",
       "\n",
       "    .dataframe tbody tr th {\n",
       "        vertical-align: top;\n",
       "    }\n",
       "\n",
       "    .dataframe thead th {\n",
       "        text-align: right;\n",
       "    }\n",
       "</style>\n",
       "<table border=\"1\" class=\"dataframe\">\n",
       "  <thead>\n",
       "    <tr style=\"text-align: right;\">\n",
       "      <th></th>\n",
       "      <th>CustomerID</th>\n",
       "      <th>StockCode</th>\n",
       "      <th>Rating</th>\n",
       "    </tr>\n",
       "  </thead>\n",
       "  <tbody>\n",
       "    <tr>\n",
       "      <th>0</th>\n",
       "      <td>12346</td>\n",
       "      <td>23166</td>\n",
       "      <td>1.000000</td>\n",
       "    </tr>\n",
       "    <tr>\n",
       "      <th>1</th>\n",
       "      <td>12347</td>\n",
       "      <td>16008</td>\n",
       "      <td>1.000000</td>\n",
       "    </tr>\n",
       "    <tr>\n",
       "      <th>2</th>\n",
       "      <td>12347</td>\n",
       "      <td>17021</td>\n",
       "      <td>1.000000</td>\n",
       "    </tr>\n",
       "    <tr>\n",
       "      <th>3</th>\n",
       "      <td>12347</td>\n",
       "      <td>20665</td>\n",
       "      <td>1.000000</td>\n",
       "    </tr>\n",
       "    <tr>\n",
       "      <th>4</th>\n",
       "      <td>12347</td>\n",
       "      <td>20719</td>\n",
       "      <td>2.048881</td>\n",
       "    </tr>\n",
       "  </tbody>\n",
       "</table>\n",
       "</div>"
      ],
      "text/plain": [
       "  CustomerID StockCode    Rating\n",
       "0      12346     23166  1.000000\n",
       "1      12347     16008  1.000000\n",
       "2      12347     17021  1.000000\n",
       "3      12347     20665  1.000000\n",
       "4      12347     20719  2.048881"
      ]
     },
     "execution_count": 37,
     "metadata": {},
     "output_type": "execute_result"
    }
   ],
   "source": [
    "# SVD 모델 학습을 위한 데이터셋 생성\n",
    "uir_df = uir_df[['CustomerID', 'StockCode', 'Rating']]\n",
    "uir_df.head()"
   ]
  },
  {
   "cell_type": "code",
   "execution_count": 38,
   "id": "405eb1ff",
   "metadata": {},
   "outputs": [
    {
     "name": "stdout",
     "output_type": "stream",
     "text": [
      "training time of model : 10.56 seconds\n",
      "RMSE: 0.3366\n",
      "RMSE of test dataset in SVD model :  0.33656830477690935\n"
     ]
    }
   ],
   "source": [
    "import time\n",
    "from surprise import SVD, Dataset, Reader, accuracy\n",
    "from surprise.model_selection import train_test_split\n",
    "\n",
    "reader = Reader(rating_scale=(1, 5))\n",
    "data = Dataset.load_from_df(uir_df, reader)\n",
    "train, test = train_test_split(data, test_size=0.2) # 8:2\n",
    "\n",
    "# SVD 모델 학습\n",
    "train_start = time.time()\n",
    "model = SVD(n_factors=8,\n",
    "            lr_all = 0.005,\n",
    "            reg_all = 0.02, \n",
    "            n_epochs = 200)\n",
    "model.fit(train)\n",
    "train_end = time.time()\n",
    "print(\"training time of model : %.2f seconds\" % (train_end - train_start))\n",
    "\n",
    "predictions = model.test(test)\n",
    "\n",
    "# 테스트 데이터의 RMSE 출력\n",
    "print(\"RMSE of test dataset in SVD model : \", accuracy.rmse(predictions))"
   ]
  },
  {
   "cell_type": "code",
   "execution_count": 39,
   "id": "8f85aff4",
   "metadata": {},
   "outputs": [
    {
     "name": "stdout",
     "output_type": "stream",
     "text": [
      "training time of model by full data : 6.44 seconds\n"
     ]
    }
   ],
   "source": [
    "# SVD를 사용하기 위한 11월 이전 전체 full train set 학습 데이터 생성\n",
    "reader = Reader(rating_scale=(1, 5))\n",
    "data = Dataset.load_from_df(uir_df, reader)\n",
    "train_full = data.build_full_trainset()\n",
    "\n",
    "# SVD 모델 학습\n",
    "train_full_start = time.time()\n",
    "model = SVD(n_factors=8,\n",
    "            lr_all = 0.005,\n",
    "            reg_all = 0.02, \n",
    "            n_epochs = 200)\n",
    "model.fit(train_full)\n",
    "train_full_end = time.time()\n",
    "print(\"training time of model by full data : %.2f seconds\" % (train_full_end - train_full_start))"
   ]
  },
  {
   "cell_type": "markdown",
   "id": "8c9a1412",
   "metadata": {},
   "source": [
    "Step 3 예측 평가 : 상품 추천 시뮬레이션하기"
   ]
  },
  {
   "cell_type": "code",
   "execution_count": 40,
   "id": "4714a625",
   "metadata": {},
   "outputs": [
    {
     "data": {
      "text/plain": [
       "[Prediction(uid='12346', iid='16008', r_ui=1.189098167280817, est=1, details={'was_impossible': False}),\n",
       " Prediction(uid='12346', iid='17021', r_ui=1.189098167280817, est=1.1480039183927793, details={'was_impossible': False}),\n",
       " Prediction(uid='12346', iid='20665', r_ui=1.189098167280817, est=1.013918145373158, details={'was_impossible': False}),\n",
       " Prediction(uid='12346', iid='20719', r_ui=1.189098167280817, est=1.2606484630394197, details={'was_impossible': False}),\n",
       " Prediction(uid='12346', iid='20780', r_ui=1.189098167280817, est=1, details={'was_impossible': False}),\n",
       " Prediction(uid='12346', iid='20782', r_ui=1.189098167280817, est=1.1198485373366962, details={'was_impossible': False}),\n",
       " Prediction(uid='12346', iid='20966', r_ui=1.189098167280817, est=1.0629061425053112, details={'was_impossible': False}),\n",
       " Prediction(uid='12346', iid='21035', r_ui=1.189098167280817, est=1.0839879627556808, details={'was_impossible': False}),\n",
       " Prediction(uid='12346', iid='21041', r_ui=1.189098167280817, est=1.0606593894393839, details={'was_impossible': False}),\n",
       " Prediction(uid='12346', iid='21064', r_ui=1.189098167280817, est=1.0918252715044698, details={'was_impossible': False}),\n",
       " Prediction(uid='12346', iid='21154', r_ui=1.189098167280817, est=1.0874461914563753, details={'was_impossible': False}),\n",
       " Prediction(uid='12346', iid='21171', r_ui=1.189098167280817, est=1.0419680999403556, details={'was_impossible': False}),\n",
       " Prediction(uid='12346', iid='21265', r_ui=1.189098167280817, est=1, details={'was_impossible': False}),\n",
       " Prediction(uid='12346', iid='21578', r_ui=1.189098167280817, est=1.06517043782153, details={'was_impossible': False}),\n",
       " Prediction(uid='12346', iid='21636', r_ui=1.189098167280817, est=1, details={'was_impossible': False}),\n",
       " Prediction(uid='12346', iid='21731', r_ui=1.189098167280817, est=1.3062846542655369, details={'was_impossible': False}),\n",
       " Prediction(uid='12346', iid='21791', r_ui=1.189098167280817, est=1.1437642919770041, details={'was_impossible': False}),\n",
       " Prediction(uid='12346', iid='21832', r_ui=1.189098167280817, est=1.14076811387454, details={'was_impossible': False}),\n",
       " Prediction(uid='12346', iid='21975', r_ui=1.189098167280817, est=1.1921541397783906, details={'was_impossible': False}),\n",
       " Prediction(uid='12346', iid='21976', r_ui=1.189098167280817, est=1.0968712081948386, details={'was_impossible': False}),\n",
       " Prediction(uid='12346', iid='22131', r_ui=1.189098167280817, est=1.147678280240379, details={'was_impossible': False}),\n",
       " Prediction(uid='12346', iid='22134', r_ui=1.189098167280817, est=1.0382453562544225, details={'was_impossible': False}),\n",
       " Prediction(uid='12346', iid='22195', r_ui=1.189098167280817, est=1.1631361949443155, details={'was_impossible': False}),\n",
       " Prediction(uid='12346', iid='22196', r_ui=1.189098167280817, est=1.1016196578917088, details={'was_impossible': False}),\n",
       " Prediction(uid='12346', iid='22212', r_ui=1.189098167280817, est=1.1191680924802976, details={'was_impossible': False}),\n",
       " Prediction(uid='12346', iid='22252', r_ui=1.189098167280817, est=1.0407404804917537, details={'was_impossible': False}),\n",
       " Prediction(uid='12346', iid='22371', r_ui=1.189098167280817, est=1.297827695114423, details={'was_impossible': False}),\n",
       " Prediction(uid='12346', iid='22372', r_ui=1.189098167280817, est=1.052492027905088, details={'was_impossible': False}),\n",
       " Prediction(uid='12346', iid='22374', r_ui=1.189098167280817, est=1.1806620507286234, details={'was_impossible': False}),\n",
       " Prediction(uid='12346', iid='22375', r_ui=1.189098167280817, est=1.1151008207377038, details={'was_impossible': False}),\n",
       " Prediction(uid='12346', iid='22376', r_ui=1.189098167280817, est=1.0544964424621253, details={'was_impossible': False}),\n",
       " Prediction(uid='12346', iid='22417', r_ui=1.189098167280817, est=1.1107595053695645, details={'was_impossible': False}),\n",
       " Prediction(uid='12346', iid='22422', r_ui=1.189098167280817, est=1.1625184445292254, details={'was_impossible': False}),\n",
       " Prediction(uid='12346', iid='22423', r_ui=1.189098167280817, est=1.2796298135329143, details={'was_impossible': False}),\n",
       " Prediction(uid='12346', iid='22432', r_ui=1.189098167280817, est=1.1343659176035432, details={'was_impossible': False}),\n",
       " Prediction(uid='12346', iid='22492', r_ui=1.189098167280817, est=1.0929424762886446, details={'was_impossible': False}),\n",
       " Prediction(uid='12346', iid='22494', r_ui=1.189098167280817, est=1.1437134874771635, details={'was_impossible': False}),\n",
       " Prediction(uid='12346', iid='22497', r_ui=1.189098167280817, est=1.0784875124086144, details={'was_impossible': False}),\n",
       " Prediction(uid='12346', iid='22550', r_ui=1.189098167280817, est=1.0335750471463196, details={'was_impossible': False}),\n",
       " Prediction(uid='12346', iid='22561', r_ui=1.189098167280817, est=1.045528139195279, details={'was_impossible': False}),\n",
       " Prediction(uid='12346', iid='22621', r_ui=1.189098167280817, est=1.1283859193363173, details={'was_impossible': False}),\n",
       " Prediction(uid='12346', iid='22697', r_ui=1.189098167280817, est=1.1932828109173896, details={'was_impossible': False}),\n",
       " Prediction(uid='12346', iid='22698', r_ui=1.189098167280817, est=1.1179732384924739, details={'was_impossible': False}),\n",
       " Prediction(uid='12346', iid='22699', r_ui=1.189098167280817, est=1.202705416761319, details={'was_impossible': False}),\n",
       " Prediction(uid='12346', iid='22725', r_ui=1.189098167280817, est=1.2767099041857002, details={'was_impossible': False}),\n",
       " Prediction(uid='12346', iid='22726', r_ui=1.189098167280817, est=1.4148380448444378, details={'was_impossible': False}),\n",
       " Prediction(uid='12346', iid='22727', r_ui=1.189098167280817, est=1.3522204940779705, details={'was_impossible': False}),\n",
       " Prediction(uid='12346', iid='22728', r_ui=1.189098167280817, est=1.3220584155466637, details={'was_impossible': False}),\n",
       " Prediction(uid='12346', iid='22729', r_ui=1.189098167280817, est=1.2965053043357926, details={'was_impossible': False}),\n",
       " Prediction(uid='12346', iid='22771', r_ui=1.189098167280817, est=1.0833106399115353, details={'was_impossible': False}),\n",
       " Prediction(uid='12346', iid='22772', r_ui=1.189098167280817, est=1.0451429643277135, details={'was_impossible': False}),\n",
       " Prediction(uid='12346', iid='22773', r_ui=1.189098167280817, est=1.0621126987543639, details={'was_impossible': False}),\n",
       " Prediction(uid='12346', iid='22774', r_ui=1.189098167280817, est=1.1174503872458987, details={'was_impossible': False}),\n",
       " Prediction(uid='12346', iid='22775', r_ui=1.189098167280817, est=1.0252240563081856, details={'was_impossible': False}),\n",
       " Prediction(uid='12346', iid='22805', r_ui=1.189098167280817, est=1.0483949358372806, details={'was_impossible': False}),\n",
       " Prediction(uid='12346', iid='22821', r_ui=1.189098167280817, est=1, details={'was_impossible': False}),\n",
       " Prediction(uid='12346', iid='22945', r_ui=1.189098167280817, est=1, details={'was_impossible': False}),\n",
       " Prediction(uid='12346', iid='22992', r_ui=1.189098167280817, est=1.0271709397048558, details={'was_impossible': False}),\n",
       " Prediction(uid='12346', iid='23076', r_ui=1.189098167280817, est=1.0539456040161617, details={'was_impossible': False}),\n",
       " Prediction(uid='12346', iid='23084', r_ui=1.189098167280817, est=1.1926060392049143, details={'was_impossible': False}),\n",
       " Prediction(uid='12346', iid='23146', r_ui=1.189098167280817, est=1.1403494925332396, details={'was_impossible': False}),\n",
       " Prediction(uid='12346', iid='23147', r_ui=1.189098167280817, est=1.1304984863895224, details={'was_impossible': False}),\n",
       " Prediction(uid='12346', iid='23162', r_ui=1.189098167280817, est=1.0631311462741686, details={'was_impossible': False}),\n",
       " Prediction(uid='12346', iid='23170', r_ui=1.189098167280817, est=1.0580224833512553, details={'was_impossible': False}),\n",
       " Prediction(uid='12346', iid='23171', r_ui=1.189098167280817, est=1, details={'was_impossible': False}),\n",
       " Prediction(uid='12346', iid='23172', r_ui=1.189098167280817, est=1, details={'was_impossible': False}),\n",
       " Prediction(uid='12346', iid='23173', r_ui=1.189098167280817, est=1.0988482696235515, details={'was_impossible': False}),\n",
       " Prediction(uid='12346', iid='23174', r_ui=1.189098167280817, est=1, details={'was_impossible': False}),\n",
       " Prediction(uid='12346', iid='23175', r_ui=1.189098167280817, est=1.0008142145829062, details={'was_impossible': False}),\n",
       " Prediction(uid='12346', iid='23177', r_ui=1.189098167280817, est=1.059898654427252, details={'was_impossible': False}),\n",
       " Prediction(uid='12346', iid='23297', r_ui=1.189098167280817, est=1, details={'was_impossible': False}),\n",
       " Prediction(uid='12346', iid='23308', r_ui=1.189098167280817, est=1.036720862019092, details={'was_impossible': False}),\n",
       " Prediction(uid='12346', iid='23316', r_ui=1.189098167280817, est=1.0297081171387557, details={'was_impossible': False}),\n",
       " Prediction(uid='12346', iid='23420', r_ui=1.189098167280817, est=1, details={'was_impossible': False}),\n",
       " Prediction(uid='12346', iid='23421', r_ui=1.189098167280817, est=1, details={'was_impossible': False}),\n",
       " Prediction(uid='12346', iid='23422', r_ui=1.189098167280817, est=1, details={'was_impossible': False}),\n",
       " Prediction(uid='12346', iid='23480', r_ui=1.189098167280817, est=1, details={'was_impossible': False}),\n",
       " Prediction(uid='12346', iid='23503', r_ui=1.189098167280817, est=1.0068104187375426, details={'was_impossible': False}),\n",
       " Prediction(uid='12346', iid='23506', r_ui=1.189098167280817, est=1, details={'was_impossible': False}),\n",
       " Prediction(uid='12346', iid='23508', r_ui=1.189098167280817, est=1, details={'was_impossible': False}),\n",
       " Prediction(uid='12346', iid='47559B', r_ui=1.189098167280817, est=1.1445784999886297, details={'was_impossible': False}),\n",
       " Prediction(uid='12346', iid='47567B', r_ui=1.189098167280817, est=1.0918496856844013, details={'was_impossible': False}),\n",
       " Prediction(uid='12346', iid='47580', r_ui=1.189098167280817, est=1, details={'was_impossible': False}),\n",
       " Prediction(uid='12346', iid='51014C', r_ui=1.189098167280817, est=1.1567863705866888, details={'was_impossible': False}),\n",
       " Prediction(uid='12346', iid='71477', r_ui=1.189098167280817, est=1.1685963118167482, details={'was_impossible': False}),\n",
       " Prediction(uid='12346', iid='84558A', r_ui=1.189098167280817, est=1.0514170784923733, details={'was_impossible': False}),\n",
       " Prediction(uid='12346', iid='84559A', r_ui=1.189098167280817, est=1.0906509285752555, details={'was_impossible': False}),\n",
       " Prediction(uid='12346', iid='84559B', r_ui=1.189098167280817, est=1.0665468286448956, details={'was_impossible': False}),\n",
       " Prediction(uid='12346', iid='84625A', r_ui=1.189098167280817, est=1.0824103991631482, details={'was_impossible': False}),\n",
       " Prediction(uid='12346', iid='84625C', r_ui=1.189098167280817, est=1.2305214956491255, details={'was_impossible': False}),\n",
       " Prediction(uid='12346', iid='84969', r_ui=1.189098167280817, est=1.1363424445699417, details={'was_impossible': False}),\n",
       " Prediction(uid='12346', iid='84991', r_ui=1.189098167280817, est=1.106899386776332, details={'was_impossible': False}),\n",
       " Prediction(uid='12346', iid='84992', r_ui=1.189098167280817, est=1.1458359074918967, details={'was_impossible': False}),\n",
       " Prediction(uid='12346', iid='84997B', r_ui=1.189098167280817, est=1.1148495655790691, details={'was_impossible': False}),\n",
       " Prediction(uid='12346', iid='84997C', r_ui=1.189098167280817, est=1.0504564131852863, details={'was_impossible': False}),\n",
       " Prediction(uid='12346', iid='84997D', r_ui=1.189098167280817, est=1.1611561432667583, details={'was_impossible': False}),\n",
       " Prediction(uid='12346', iid='85116', r_ui=1.189098167280817, est=1.0985263545336763, details={'was_impossible': False}),\n",
       " Prediction(uid='12346', iid='85167B', r_ui=1.189098167280817, est=1, details={'was_impossible': False}),\n",
       " Prediction(uid='12346', iid='85178', r_ui=1.189098167280817, est=1.0059004921735417, details={'was_impossible': False}),\n",
       " Prediction(uid='12346', iid='85232D', r_ui=1.189098167280817, est=1, details={'was_impossible': False}),\n",
       " Prediction(uid='12346', iid='21211', r_ui=1.189098167280817, est=1, details={'was_impossible': False}),\n",
       " Prediction(uid='12346', iid='21213', r_ui=1.189098167280817, est=1.189203550047625, details={'was_impossible': False}),\n",
       " Prediction(uid='12346', iid='21725', r_ui=1.189098167280817, est=1.017092851646977, details={'was_impossible': False}),\n",
       " Prediction(uid='12346', iid='21726', r_ui=1.189098167280817, est=1.0562767165570859, details={'was_impossible': False}),\n",
       " Prediction(uid='12346', iid='21967', r_ui=1.189098167280817, est=1.1363646717960565, details={'was_impossible': False}),\n",
       " Prediction(uid='12346', iid='21977', r_ui=1.189098167280817, est=1.148082999487961, details={'was_impossible': False}),\n",
       " Prediction(uid='12346', iid='21980', r_ui=1.189098167280817, est=1.080595162005365, details={'was_impossible': False}),\n",
       " Prediction(uid='12346', iid='21981', r_ui=1.189098167280817, est=1.0963631960664633, details={'was_impossible': False}),\n",
       " Prediction(uid='12346', iid='21982', r_ui=1.189098167280817, est=1.1616272812032784, details={'was_impossible': False}),\n",
       " Prediction(uid='12346', iid='21983', r_ui=1.189098167280817, est=1.0876802513197337, details={'was_impossible': False}),\n",
       " Prediction(uid='12346', iid='21985', r_ui=1.189098167280817, est=1.1467624137092014, details={'was_impossible': False}),\n",
       " Prediction(uid='12346', iid='22437', r_ui=1.189098167280817, est=1.0295969012640604, details={'was_impossible': False}),\n",
       " Prediction(uid='12346', iid='22616', r_ui=1.189098167280817, est=1.2620363959843846, details={'was_impossible': False}),\n",
       " Prediction(uid='12346', iid='22951', r_ui=1.189098167280817, est=1.1137596867010624, details={'was_impossible': False}),\n",
       " Prediction(uid='12346', iid='22952', r_ui=1.189098167280817, est=1.0128207605152415, details={'was_impossible': False}),\n",
       " Prediction(uid='12346', iid='23077', r_ui=1.189098167280817, est=1.144312442853039, details={'was_impossible': False}),\n",
       " Prediction(uid='12346', iid='23078', r_ui=1.189098167280817, est=1.086453274189053, details={'was_impossible': False}),\n",
       " Prediction(uid='12346', iid='84988', r_ui=1.189098167280817, est=1.0237108611564498, details={'was_impossible': False}),\n",
       " Prediction(uid='12346', iid='20615', r_ui=1.189098167280817, est=1, details={'was_impossible': False}),\n",
       " Prediction(uid='12346', iid='20652', r_ui=1.189098167280817, est=1.0201848390544241, details={'was_impossible': False}),\n",
       " Prediction(uid='12346', iid='21864', r_ui=1.189098167280817, est=1.0675655259086843, details={'was_impossible': False}),\n",
       " Prediction(uid='12346', iid='21866', r_ui=1.189098167280817, est=1.0553728044734139, details={'was_impossible': False}),\n",
       " Prediction(uid='12346', iid='21908', r_ui=1.189098167280817, est=1.2160582343327409, details={'was_impossible': False}),\n",
       " Prediction(uid='12346', iid='21915', r_ui=1.189098167280817, est=1.2163745376040584, details={'was_impossible': False}),\n",
       " Prediction(uid='12346', iid='22348', r_ui=1.189098167280817, est=1.141335390945994, details={'was_impossible': False}),\n",
       " Prediction(uid='12346', iid='22412', r_ui=1.189098167280817, est=1.1713887414545943, details={'was_impossible': False}),\n",
       " Prediction(uid='12346', iid='22551', r_ui=1.189098167280817, est=1.264169470217308, details={'was_impossible': False}),\n",
       " Prediction(uid='12346', iid='22557', r_ui=1.189098167280817, est=1.2302433215617794, details={'was_impossible': False}),\n",
       " Prediction(uid='12346', iid='22620', r_ui=1.189098167280817, est=1.0039306114025697, details={'was_impossible': False}),\n",
       " Prediction(uid='12346', iid='79066K', r_ui=1.189098167280817, est=1.096812598784286, details={'was_impossible': False}),\n",
       " Prediction(uid='12346', iid='79191C', r_ui=1.189098167280817, est=1.0806607874268714, details={'was_impossible': False}),\n",
       " Prediction(uid='12346', iid='84086C', r_ui=1.189098167280817, est=1.107154028892433, details={'was_impossible': False}),\n",
       " Prediction(uid='12346', iid='21232', r_ui=1.189098167280817, est=1.2398900696663333, details={'was_impossible': False}),\n",
       " Prediction(uid='12346', iid='21314', r_ui=1.189098167280817, est=1.1481220168936557, details={'was_impossible': False}),\n",
       " Prediction(uid='12346', iid='21380', r_ui=1.189098167280817, est=1.0235667688853862, details={'was_impossible': False}),\n",
       " Prediction(uid='12346', iid='21700', r_ui=1.189098167280817, est=1.1671806215629952, details={'was_impossible': False}),\n",
       " Prediction(uid='12346', iid='21754', r_ui=1.189098167280817, est=1.2394020499134655, details={'was_impossible': False}),\n",
       " Prediction(uid='12346', iid='21755', r_ui=1.189098167280817, est=1.2047684547045803, details={'was_impossible': False}),\n",
       " Prediction(uid='12346', iid='21756', r_ui=1.189098167280817, est=1.1554255497983479, details={'was_impossible': False}),\n",
       " Prediction(uid='12346', iid='21770', r_ui=1.189098167280817, est=1.0275658039649653, details={'was_impossible': False}),\n",
       " Prediction(uid='12346', iid='21914', r_ui=1.189098167280817, est=1.2263786120547566, details={'was_impossible': False}),\n",
       " Prediction(uid='12346', iid='22064', r_ui=1.189098167280817, est=1.1808908655756043, details={'was_impossible': False}),\n",
       " Prediction(uid='12346', iid='22120', r_ui=1.189098167280817, est=1.0796951272266837, details={'was_impossible': False}),\n",
       " Prediction(uid='12346', iid='22138', r_ui=1.189098167280817, est=1.0870313411647705, details={'was_impossible': False}),\n",
       " Prediction(uid='12346', iid='22413', r_ui=1.189098167280817, est=1.1324964817215915, details={'was_impossible': False}),\n",
       " Prediction(uid='12346', iid='22617', r_ui=1.189098167280817, est=1.0790907270261396, details={'was_impossible': False}),\n",
       " Prediction(uid='12346', iid='22624', r_ui=1.189098167280817, est=1.2062561018091962, details={'was_impossible': False}),\n",
       " Prediction(uid='12346', iid='22630', r_ui=1.189098167280817, est=1.2382168382597982, details={'was_impossible': False}),\n",
       " Prediction(uid='12346', iid='22634', r_ui=1.189098167280817, est=1.0798116654247558, details={'was_impossible': False}),\n",
       " Prediction(uid='12346', iid='22635', r_ui=1.189098167280817, est=1.0642899587823391, details={'was_impossible': False}),\n",
       " Prediction(uid='12346', iid='22645', r_ui=1.189098167280817, est=1.1040220837727277, details={'was_impossible': False}),\n",
       " Prediction(uid='12346', iid='22646', r_ui=1.189098167280817, est=1.0607570019601205, details={'was_impossible': False}),\n",
       " Prediction(uid='12346', iid='22654', r_ui=1.189098167280817, est=1.078825419322874, details={'was_impossible': False}),\n",
       " Prediction(uid='12346', iid='22692', r_ui=1.189098167280817, est=1.0751128522855686, details={'was_impossible': False}),\n",
       " Prediction(uid='12346', iid='22701', r_ui=1.189098167280817, est=1.0222204912754915, details={'was_impossible': False}),\n",
       " Prediction(uid='12346', iid='22720', r_ui=1.189098167280817, est=1.1707045743155504, details={'was_impossible': False}),\n",
       " Prediction(uid='12346', iid='22722', r_ui=1.189098167280817, est=1.164384488839948, details={'was_impossible': False}),\n",
       " Prediction(uid='12346', iid='22779', r_ui=1.189098167280817, est=1.1305562336273836, details={'was_impossible': False}),\n",
       " Prediction(uid='12346', iid='22780', r_ui=1.189098167280817, est=1.1081016310755012, details={'was_impossible': False}),\n",
       " Prediction(uid='12346', iid='22784', r_ui=1.189098167280817, est=1.0392889434047874, details={'was_impossible': False}),\n",
       " Prediction(uid='12346', iid='22801', r_ui=1.189098167280817, est=1.108878196600952, details={'was_impossible': False}),\n",
       " Prediction(uid='12346', iid='22844', r_ui=1.189098167280817, est=1.2081891306451602, details={'was_impossible': False}),\n",
       " Prediction(uid='12346', iid='22853', r_ui=1.189098167280817, est=1.1225886857317167, details={'was_impossible': False}),\n",
       " Prediction(uid='12346', iid='22979', r_ui=1.189098167280817, est=1.0559319810842276, details={'was_impossible': False}),\n",
       " Prediction(uid='12346', iid='22980', r_ui=1.189098167280817, est=1, details={'was_impossible': False}),\n",
       " Prediction(uid='12346', iid='22993', r_ui=1.189098167280817, est=1.263530445008974, details={'was_impossible': False}),\n",
       " Prediction(uid='12346', iid='23198', r_ui=1.189098167280817, est=1.0885880591433554, details={'was_impossible': False}),\n",
       " Prediction(uid='12346', iid='23243', r_ui=1.189098167280817, est=1.0449376553441496, details={'was_impossible': False}),\n",
       " Prediction(uid='12346', iid='23245', r_ui=1.189098167280817, est=1.0738415542590094, details={'was_impossible': False}),\n",
       " Prediction(uid='12346', iid='23298', r_ui=1.189098167280817, est=1.1841409257965598, details={'was_impossible': False}),\n",
       " Prediction(uid='12346', iid='37448', r_ui=1.189098167280817, est=1.1234152060097387, details={'was_impossible': False}),\n",
       " Prediction(uid='12346', iid='37495', r_ui=1.189098167280817, est=1.099407304834847, details={'was_impossible': False}),\n",
       " Prediction(uid='12346', iid='84050', r_ui=1.189098167280817, est=1.1529202396255485, details={'was_impossible': False}),\n",
       " Prediction(uid='12346', iid='84510A', r_ui=1.189098167280817, est=1.0640477952614749, details={'was_impossible': False}),\n",
       " Prediction(uid='12346', iid='22890', r_ui=1.189098167280817, est=1.0516088917676802, details={'was_impossible': False}),\n",
       " Prediction(uid='12346', iid='37446', r_ui=1.189098167280817, est=1.202449076594047, details={'was_impossible': False}),\n",
       " Prediction(uid='12346', iid='37449', r_ui=1.189098167280817, est=1.0584195985916152, details={'was_impossible': False}),\n",
       " Prediction(uid='12346', iid='37450', r_ui=1.189098167280817, est=1.188055411674428, details={'was_impossible': False}),\n",
       " Prediction(uid='12346', iid='20675', r_ui=1.189098167280817, est=1.0336172087909012, details={'was_impossible': False}),\n",
       " Prediction(uid='12346', iid='20676', r_ui=1.189098167280817, est=1.0917817754943833, details={'was_impossible': False}),\n",
       " Prediction(uid='12346', iid='20677', r_ui=1.189098167280817, est=1.0950196963509906, details={'was_impossible': False}),\n",
       " Prediction(uid='12346', iid='20725', r_ui=1.189098167280817, est=1.3218432151929407, details={'was_impossible': False}),\n",
       " Prediction(uid='12346', iid='20749', r_ui=1.189098167280817, est=1.1724284032990284, details={'was_impossible': False}),\n",
       " Prediction(uid='12346', iid='20750', r_ui=1.189098167280817, est=1.078860047694529, details={'was_impossible': False}),\n",
       " Prediction(uid='12346', iid='21080', r_ui=1.189098167280817, est=1.1297039128797903, details={'was_impossible': False}),\n",
       " Prediction(uid='12346', iid='21156', r_ui=1.189098167280817, est=1.1296491715575778, details={'was_impossible': False}),\n",
       " Prediction(uid='12346', iid='21217', r_ui=1.189098167280817, est=1.089192540407428, details={'was_impossible': False}),\n",
       " Prediction(uid='12346', iid='21238', r_ui=1.189098167280817, est=1.0814628526557264, details={'was_impossible': False}),\n",
       " Prediction(uid='12346', iid='21239', r_ui=1.189098167280817, est=1.0444004167129293, details={'was_impossible': False}),\n",
       " Prediction(uid='12346', iid='21240', r_ui=1.189098167280817, est=1.0550069869798624, details={'was_impossible': False}),\n",
       " Prediction(uid='12346', iid='21242', r_ui=1.189098167280817, est=1.0559868789845643, details={'was_impossible': False}),\n",
       " Prediction(uid='12346', iid='21243', r_ui=1.189098167280817, est=1, details={'was_impossible': False}),\n",
       " Prediction(uid='12346', iid='21244', r_ui=1.189098167280817, est=1.0196556158598369, details={'was_impossible': False}),\n",
       " Prediction(uid='12346', iid='21246', r_ui=1.189098167280817, est=1.0556015752970092, details={'was_impossible': False}),\n",
       " Prediction(uid='12346', iid='21533', r_ui=1.189098167280817, est=1.1105656456871564, details={'was_impossible': False}),\n",
       " Prediction(uid='12346', iid='21843', r_ui=1.189098167280817, est=1.1607996560232674, details={'was_impossible': False}),\n",
       " Prediction(uid='12346', iid='21890', r_ui=1.189098167280817, est=1.0565533911957634, details={'was_impossible': False}),\n",
       " Prediction(uid='12346', iid='21891', r_ui=1.189098167280817, est=1.0925979666522514, details={'was_impossible': False}),\n",
       " Prediction(uid='12346', iid='21922', r_ui=1.189098167280817, est=1.1146924859121587, details={'was_impossible': False}),\n",
       " Prediction(uid='12346', iid='22090', r_ui=1.189098167280817, est=1.0406713853078045, details={'was_impossible': False}),\n",
       " Prediction(uid='12346', iid='22180', r_ui=1.189098167280817, est=1.1314891710836061, details={'was_impossible': False}),\n",
       " Prediction(uid='12346', iid='22215', r_ui=1.189098167280817, est=1.107589821464316, details={'was_impossible': False}),\n",
       " Prediction(uid='12346', iid='22317', r_ui=1.189098167280817, est=1, details={'was_impossible': False}),\n",
       " Prediction(uid='12346', iid='22326', r_ui=1.189098167280817, est=1.3813052564167418, details={'was_impossible': False}),\n",
       " Prediction(uid='12346', iid='22343', r_ui=1.189098167280817, est=1.0640748423331134, details={'was_impossible': False}),\n",
       " Prediction(uid='12346', iid='22344', r_ui=1.189098167280817, est=1.054285246304701, details={'was_impossible': False}),\n",
       " Prediction(uid='12346', iid='22384', r_ui=1.189098167280817, est=1.276075083569848, details={'was_impossible': False}),\n",
       " Prediction(uid='12346', iid='22456', r_ui=1.189098167280817, est=1.1266808578381462, details={'was_impossible': False}),\n",
       " Prediction(uid='12346', iid='22508', r_ui=1.189098167280817, est=1.0687138501167268, details={'was_impossible': False}),\n",
       " Prediction(uid='12346', iid='22623', r_ui=1.189098167280817, est=1.0392505328911912, details={'was_impossible': False}),\n",
       " Prediction(uid='12346', iid='22628', r_ui=1.189098167280817, est=1.0622918371698262, details={'was_impossible': False}),\n",
       " Prediction(uid='12346', iid='22629', r_ui=1.189098167280817, est=1.238771300518614, details={'was_impossible': False}),\n",
       " Prediction(uid='12346', iid='22631', r_ui=1.189098167280817, est=1.0087970516666178, details={'was_impossible': False}),\n",
       " Prediction(uid='12346', iid='22661', r_ui=1.189098167280817, est=1.2112924469802753, details={'was_impossible': False}),\n",
       " Prediction(uid='12346', iid='22668', r_ui=1.189098167280817, est=1.0334754695202026, details={'was_impossible': False}),\n",
       " Prediction(uid='12346', iid='22839', r_ui=1.189098167280817, est=1, details={'was_impossible': False}),\n",
       " Prediction(uid='12346', iid='22848', r_ui=1.189098167280817, est=1.312123012105217, details={'was_impossible': False}),\n",
       " Prediction(uid='12346', iid='22899', r_ui=1.189098167280817, est=1.101906357860212, details={'was_impossible': False}),\n",
       " Prediction(uid='12346', iid='22983', r_ui=1.189098167280817, est=1.1610648394975474, details={'was_impossible': False}),\n",
       " Prediction(uid='12346', iid='23008', r_ui=1.189098167280817, est=1.0688646577745047, details={'was_impossible': False}),\n",
       " Prediction(uid='12346', iid='23010', r_ui=1.189098167280817, est=1.0289239460566095, details={'was_impossible': False}),\n",
       " Prediction(uid='12346', iid='23052', r_ui=1.189098167280817, est=1.1604160236879348, details={'was_impossible': False}),\n",
       " Prediction(uid='12346', iid='23054', r_ui=1.189098167280817, est=1.0509855798363943, details={'was_impossible': False}),\n",
       " Prediction(uid='12346', iid='23201', r_ui=1.189098167280817, est=1.1744876366569579, details={'was_impossible': False}),\n",
       " Prediction(uid='12346', iid='23204', r_ui=1.189098167280817, est=1.3520705546699205, details={'was_impossible': False}),\n",
       " Prediction(uid='12346', iid='23205', r_ui=1.189098167280817, est=1.154661527798434, details={'was_impossible': False}),\n",
       " Prediction(uid='12346', iid='23254', r_ui=1.189098167280817, est=1.0789350782451141, details={'was_impossible': False}),\n",
       " Prediction(uid='12346', iid='23255', r_ui=1.189098167280817, est=1.0268005011915784, details={'was_impossible': False}),\n",
       " Prediction(uid='12346', iid='23256', r_ui=1.189098167280817, est=1.1256389101850939, details={'was_impossible': False}),\n",
       " Prediction(uid='12346', iid='22649', r_ui=1.189098167280817, est=1.1597916950896574, details={'was_impossible': False}),\n",
       " Prediction(uid='12346', iid='22693', r_ui=1.189098167280817, est=1.1348684578642405, details={'was_impossible': False}),\n",
       " Prediction(uid='12346', iid='72802A', r_ui=1.189098167280817, est=1.1014998566235021, details={'was_impossible': False}),\n",
       " Prediction(uid='12346', iid='72802B', r_ui=1.189098167280817, est=1.0426788343683184, details={'was_impossible': False}),\n",
       " Prediction(uid='12346', iid='72802C', r_ui=1.189098167280817, est=1.0971505141624411, details={'was_impossible': False}),\n",
       " Prediction(uid='12346', iid='85040A', r_ui=1.189098167280817, est=1.1243533607609948, details={'was_impossible': False}),\n",
       " Prediction(uid='12346', iid='20971', r_ui=1.189098167280817, est=1.2111153931707839, details={'was_impossible': False}),\n",
       " Prediction(uid='12346', iid='21086', r_ui=1.189098167280817, est=1.1616363189393666, details={'was_impossible': False}),\n",
       " Prediction(uid='12346', iid='21094', r_ui=1.189098167280817, est=1.193067767677971, details={'was_impossible': False}),\n",
       " Prediction(uid='12346', iid='21114', r_ui=1.189098167280817, est=1.1289357382593943, details={'was_impossible': False}),\n",
       " Prediction(uid='12346', iid='21122', r_ui=1.189098167280817, est=1.1178541005347014, details={'was_impossible': False}),\n",
       " Prediction(uid='12346', iid='21124', r_ui=1.189098167280817, est=1.1001779623042836, details={'was_impossible': False}),\n",
       " Prediction(uid='12346', iid='21125', r_ui=1.189098167280817, est=1, details={'was_impossible': False}),\n",
       " Prediction(uid='12346', iid='21198', r_ui=1.189098167280817, est=1, details={'was_impossible': False}),\n",
       " Prediction(uid='12346', iid='21199', r_ui=1.189098167280817, est=1.007741169504934, details={'was_impossible': False}),\n",
       " Prediction(uid='12346', iid='21212', r_ui=1.189098167280817, est=1.1653227991690074, details={'was_impossible': False}),\n",
       " Prediction(uid='12346', iid='21231', r_ui=1.189098167280817, est=1.2412818682361288, details={'was_impossible': False}),\n",
       " Prediction(uid='12346', iid='21383', r_ui=1.189098167280817, est=1, details={'was_impossible': False}),\n",
       " Prediction(uid='12346', iid='21527', r_ui=1.189098167280817, est=1.1179117471030733, details={'was_impossible': False}),\n",
       " Prediction(uid='12346', iid='22055', r_ui=1.189098167280817, est=1.130410852010232, details={'was_impossible': False}),\n",
       " Prediction(uid='12346', iid='22059', r_ui=1.189098167280817, est=1.1688386699281685, details={'was_impossible': False}),\n",
       " Prediction(uid='12346', iid='22060', r_ui=1.189098167280817, est=1, details={'was_impossible': False}),\n",
       " Prediction(uid='12346', iid='22062', r_ui=1.189098167280817, est=1.0228924632283376, details={'was_impossible': False}),\n",
       " Prediction(uid='12346', iid='22066', r_ui=1.189098167280817, est=1.074474031166484, details={'was_impossible': False}),\n",
       " Prediction(uid='12346', iid='22132', r_ui=1.189098167280817, est=1.0790694501810165, details={'was_impossible': False}),\n",
       " Prediction(uid='12346', iid='22435', r_ui=1.189098167280817, est=1.0882476910630658, details={'was_impossible': False}),\n",
       " Prediction(uid='12346', iid='22857', r_ui=1.189098167280817, est=1.0083403267557152, details={'was_impossible': False}),\n",
       " Prediction(uid='12346', iid='22937', r_ui=1.189098167280817, est=1, details={'was_impossible': False}),\n",
       " Prediction(uid='12346', iid='22938', r_ui=1.189098167280817, est=1.0072921616198753, details={'was_impossible': False}),\n",
       " Prediction(uid='12346', iid='22957', r_ui=1.189098167280817, est=1, details={'was_impossible': False}),\n",
       " Prediction(uid='12346', iid='22967', r_ui=1.189098167280817, est=1, details={'was_impossible': False}),\n",
       " Prediction(uid='12346', iid='37447', r_ui=1.189098167280817, est=1.1615111391773996, details={'was_impossible': False}),\n",
       " Prediction(uid='12346', iid='37500', r_ui=1.189098167280817, est=1.2361037576512721, details={'was_impossible': False}),\n",
       " Prediction(uid='12346', iid='37501', r_ui=1.189098167280817, est=1, details={'was_impossible': False}),\n",
       " Prediction(uid='12346', iid='84375', r_ui=1.189098167280817, est=1.132954175147712, details={'was_impossible': False}),\n",
       " Prediction(uid='12346', iid='84378', r_ui=1.189098167280817, est=1.0470630529334548, details={'was_impossible': False}),\n",
       " Prediction(uid='12346', iid='84380', r_ui=1.189098167280817, est=1.1255305897122565, details={'was_impossible': False}),\n",
       " Prediction(uid='12346', iid='84457', r_ui=1.189098167280817, est=1, details={'was_impossible': False}),\n",
       " Prediction(uid='12346', iid='84535B', r_ui=1.189098167280817, est=1.0959501614968103, details={'was_impossible': False}),\n",
       " Prediction(uid='12346', iid='84569D', r_ui=1.189098167280817, est=1, details={'was_impossible': False}),\n",
       " Prediction(uid='12346', iid='84987', r_ui=1.189098167280817, est=1.0029662083173858, details={'was_impossible': False}),\n",
       " Prediction(uid='12346', iid='85184C', r_ui=1.189098167280817, est=1.0613583096215904, details={'was_impossible': False}),\n",
       " Prediction(uid='12346', iid='15056BL', r_ui=1.189098167280817, est=1.078539279802615, details={'was_impossible': False}),\n",
       " Prediction(uid='12346', iid='15056N', r_ui=1.189098167280817, est=1.0936664646450842, details={'was_impossible': False}),\n",
       " Prediction(uid='12346', iid='15056P', r_ui=1.189098167280817, est=1.0700031906116807, details={'was_impossible': False}),\n",
       " Prediction(uid='12346', iid='15060B', r_ui=1.189098167280817, est=1.106307957254314, details={'was_impossible': False}),\n",
       " Prediction(uid='12346', iid='20679', r_ui=1.189098167280817, est=1.1109791393388413, details={'was_impossible': False}),\n",
       " Prediction(uid='12346', iid='22063', r_ui=1.189098167280817, est=1.1097164382251374, details={'was_impossible': False}),\n",
       " Prediction(uid='12346', iid='48185', r_ui=1.189098167280817, est=1.150215400625003, details={'was_impossible': False}),\n",
       " Prediction(uid='12346', iid='20704', r_ui=1.189098167280817, est=1.0130839021486184, details={'was_impossible': False}),\n",
       " Prediction(uid='12346', iid='20705', r_ui=1.189098167280817, est=1.0062806983215964, details={'was_impossible': False}),\n",
       " Prediction(uid='12346', iid='20751', r_ui=1.189098167280817, est=1.0620051125409848, details={'was_impossible': False}),\n",
       " Prediction(uid='12346', iid='21054', r_ui=1.189098167280817, est=1, details={'was_impossible': False}),\n",
       " Prediction(uid='12346', iid='21056', r_ui=1.189098167280817, est=1.0900258784926327, details={'was_impossible': False}),\n",
       " Prediction(uid='12346', iid='21116', r_ui=1.189098167280817, est=1.208201480817796, details={'was_impossible': False}),\n",
       " Prediction(uid='12346', iid='21136', r_ui=1.189098167280817, est=1.0000649068910992, details={'was_impossible': False}),\n",
       " Prediction(uid='12346', iid='21166', r_ui=1.189098167280817, est=1.1660760839247093, details={'was_impossible': False}),\n",
       " Prediction(uid='12346', iid='21260', r_ui=1.189098167280817, est=1.174456057600358, details={'was_impossible': False}),\n",
       " Prediction(uid='12346', iid='21277', r_ui=1.189098167280817, est=1, details={'was_impossible': False}),\n",
       " Prediction(uid='12346', iid='21523', r_ui=1.189098167280817, est=1.1192252382147567, details={'was_impossible': False}),\n",
       " Prediction(uid='12346', iid='21528', r_ui=1.189098167280817, est=1.13575288369522, details={'was_impossible': False}),\n",
       " Prediction(uid='12346', iid='21745', r_ui=1.189098167280817, est=1.1431317574435165, details={'was_impossible': False}),\n",
       " Prediction(uid='12346', iid='21781', r_ui=1.189098167280817, est=1.113033404828675, details={'was_impossible': False}),\n",
       " Prediction(uid='12346', iid='21790', r_ui=1.189098167280817, est=1.179420299593553, details={'was_impossible': False}),\n",
       " Prediction(uid='12346', iid='21906', r_ui=1.189098167280817, est=1.088553072158239, details={'was_impossible': False}),\n",
       " Prediction(uid='12346', iid='21912', r_ui=1.189098167280817, est=1.0653136144775246, details={'was_impossible': False}),\n",
       " Prediction(uid='12346', iid='21916', r_ui=1.189098167280817, est=1.1013233040918466, details={'was_impossible': False}),\n",
       " Prediction(uid='12346', iid='21931', r_ui=1.189098167280817, est=1.212437852487807, details={'was_impossible': False}),\n",
       " Prediction(uid='12346', iid='21935', r_ui=1.189098167280817, est=1.1755359842755446, details={'was_impossible': False}),\n",
       " Prediction(uid='12346', iid='22109', r_ui=1.189098167280817, est=1.1774979960672347, details={'was_impossible': False}),\n",
       " Prediction(uid='12346', iid='22192', r_ui=1.189098167280817, est=1.1199974733296787, details={'was_impossible': False}),\n",
       " Prediction(uid='12346', iid='22193', r_ui=1.189098167280817, est=1.1296426395985646, details={'was_impossible': False}),\n",
       " Prediction(uid='12346', iid='22199', r_ui=1.189098167280817, est=1.081841975172889, details={'was_impossible': False}),\n",
       " Prediction(uid='12346', iid='22207', r_ui=1.189098167280817, est=1.1662589944666633, details={'was_impossible': False}),\n",
       " Prediction(uid='12346', iid='22365', r_ui=1.189098167280817, est=1.110781530199008, details={'was_impossible': False}),\n",
       " Prediction(uid='12346', iid='22385', r_ui=1.189098167280817, est=1.1030613762238193, details={'was_impossible': False}),\n",
       " Prediction(uid='12346', iid='22411', r_ui=1.189098167280817, est=1.1565507037566978, details={'was_impossible': False}),\n",
       " Prediction(uid='12346', iid='22446', r_ui=1.189098167280817, est=1.0687361640397728, details={'was_impossible': False}),\n",
       " Prediction(uid='12346', iid='22452', r_ui=1.189098167280817, est=1.0146870817137907, details={'was_impossible': False}),\n",
       " Prediction(uid='12346', iid='22471', r_ui=1.189098167280817, est=1.063844413289814, details={'was_impossible': False}),\n",
       " Prediction(uid='12346', iid='22472', r_ui=1.189098167280817, est=1.008578499194176, details={'was_impossible': False}),\n",
       " Prediction(uid='12346', iid='22474', r_ui=1.189098167280817, est=1.028928821538325, details={'was_impossible': False}),\n",
       " Prediction(uid='12346', iid='22476', r_ui=1.189098167280817, est=1, details={'was_impossible': False}),\n",
       " Prediction(uid='12346', iid='22477', r_ui=1.189098167280817, est=1.0134539167777046, details={'was_impossible': False}),\n",
       " Prediction(uid='12346', iid='22487', r_ui=1.189098167280817, est=1.067572112848277, details={'was_impossible': False}),\n",
       " Prediction(uid='12346', iid='22501', r_ui=1.189098167280817, est=1.0542534960738108, details={'was_impossible': False}),\n",
       " Prediction(uid='12346', iid='22502', r_ui=1.189098167280817, est=1.0853138895331647, details={'was_impossible': False}),\n",
       " Prediction(uid='12346', iid='22510', r_ui=1.189098167280817, est=1.0418276850266313, details={'was_impossible': False}),\n",
       " Prediction(uid='12346', iid='22511', r_ui=1.189098167280817, est=1.0167896290364073, details={'was_impossible': False}),\n",
       " Prediction(uid='12346', iid='22555', r_ui=1.189098167280817, est=1.2004611571831059, details={'was_impossible': False}),\n",
       " Prediction(uid='12346', iid='22556', r_ui=1.189098167280817, est=1.2089390335308785, details={'was_impossible': False}),\n",
       " Prediction(uid='12346', iid='22567', r_ui=1.189098167280817, est=1.1055811669416455, details={'was_impossible': False}),\n",
       " Prediction(uid='12346', iid='22625', r_ui=1.189098167280817, est=1.1417605134772495, details={'was_impossible': False}),\n",
       " Prediction(uid='12346', iid='22626', r_ui=1.189098167280817, est=1.1533471869731324, details={'was_impossible': False}),\n",
       " Prediction(uid='12346', iid='22627', r_ui=1.189098167280817, est=1.1340923642515448, details={'was_impossible': False}),\n",
       " Prediction(uid='12346', iid='22636', r_ui=1.189098167280817, est=1.0978270002042045, details={'was_impossible': False}),\n",
       " Prediction(uid='12346', iid='22652', r_ui=1.189098167280817, est=1.1150560241838392, details={'was_impossible': False}),\n",
       " Prediction(uid='12346', iid='22655', r_ui=1.189098167280817, est=1.0803397076571197, details={'was_impossible': False}),\n",
       " Prediction(uid='12346', iid='22656', r_ui=1.189098167280817, est=1.064979020205563, details={'was_impossible': False}),\n",
       " Prediction(uid='12346', iid='22659', r_ui=1.189098167280817, est=1.194946022056747, details={'was_impossible': False}),\n",
       " Prediction(uid='12346', iid='22665', r_ui=1.189098167280817, est=1.164084400577105, details={'was_impossible': False}),\n",
       " Prediction(uid='12346', iid='22666', r_ui=1.189098167280817, est=1.1256732750011602, details={'was_impossible': False}),\n",
       " Prediction(uid='12346', iid='22690', r_ui=1.189098167280817, est=1.0026471958959275, details={'was_impossible': False}),\n",
       " Prediction(uid='12346', iid='22709', r_ui=1.189098167280817, est=1.0164332908401892, details={'was_impossible': False}),\n",
       " Prediction(uid='12346', iid='22721', r_ui=1.189098167280817, est=1.1458295415557442, details={'was_impossible': False}),\n",
       " Prediction(uid='12346', iid='22776', r_ui=1.189098167280817, est=1.0992653405345898, details={'was_impossible': False}),\n",
       " Prediction(uid='12346', iid='22778', r_ui=1.189098167280817, est=1, details={'was_impossible': False}),\n",
       " Prediction(uid='12346', iid='22788', r_ui=1.189098167280817, est=1.0743025578831864, details={'was_impossible': False}),\n",
       " Prediction(uid='12346', iid='22794', r_ui=1.189098167280817, est=1.0542901298532517, details={'was_impossible': False}),\n",
       " Prediction(uid='12346', iid='22795', r_ui=1.189098167280817, est=1.068825780881126, details={'was_impossible': False}),\n",
       " Prediction(uid='12346', iid='22797', r_ui=1.189098167280817, est=1, details={'was_impossible': False}),\n",
       " Prediction(uid='12346', iid='22799', r_ui=1.189098167280817, est=1.0321512463094746, details={'was_impossible': False}),\n",
       " Prediction(uid='12346', iid='22826', r_ui=1.189098167280817, est=1.0961772733569213, details={'was_impossible': False}),\n",
       " Prediction(uid='12346', iid='22827', r_ui=1.189098167280817, est=1.180244073127279, details={'was_impossible': False}),\n",
       " Prediction(uid='12346', iid='22829', r_ui=1.189098167280817, est=1.052027230654327, details={'was_impossible': False}),\n",
       " Prediction(uid='12346', iid='22838', r_ui=1.189098167280817, est=1, details={'was_impossible': False}),\n",
       " Prediction(uid='12346', iid='22840', r_ui=1.189098167280817, est=1.1038078612236508, details={'was_impossible': False}),\n",
       " Prediction(uid='12346', iid='22841', r_ui=1.189098167280817, est=1.0588465335383916, details={'was_impossible': False}),\n",
       " Prediction(uid='12346', iid='22845', r_ui=1.189098167280817, est=1.142942827175304, details={'was_impossible': False}),\n",
       " Prediction(uid='12346', iid='22846', r_ui=1.189098167280817, est=1.17540769196185, details={'was_impossible': False}),\n",
       " Prediction(uid='12346', iid='22847', r_ui=1.189098167280817, est=1.1149197418419037, details={'was_impossible': False}),\n",
       " Prediction(uid='12346', iid='22849', r_ui=1.189098167280817, est=1.286341746174963, details={'was_impossible': False}),\n",
       " Prediction(uid='12346', iid='22852', r_ui=1.189098167280817, est=1.087776124169162, details={'was_impossible': False}),\n",
       " Prediction(uid='12346', iid='22858', r_ui=1.189098167280817, est=1.015646447940546, details={'was_impossible': False}),\n",
       " Prediction(uid='12346', iid='22860', r_ui=1.189098167280817, est=1.0087810691731438, details={'was_impossible': False}),\n",
       " Prediction(uid='12346', iid='22896', r_ui=1.189098167280817, est=1.0769797543790756, details={'was_impossible': False}),\n",
       " Prediction(uid='12346', iid='22900', r_ui=1.189098167280817, est=1.1487236902537756, details={'was_impossible': False}),\n",
       " Prediction(uid='12346', iid='22907', r_ui=1.189098167280817, est=1.1115549419995485, details={'was_impossible': False}),\n",
       " Prediction(uid='12346', iid='22908', r_ui=1.189098167280817, est=1.110734709342198, details={'was_impossible': False}),\n",
       " Prediction(uid='12346', iid='22912', r_ui=1.189098167280817, est=1.0247714779442227, details={'was_impossible': False}),\n",
       " Prediction(uid='12346', iid='22914', r_ui=1.189098167280817, est=1.1155101734059696, details={'was_impossible': False}),\n",
       " Prediction(uid='12346', iid='22916', r_ui=1.189098167280817, est=1.129092079382452, details={'was_impossible': False}),\n",
       " Prediction(uid='12346', iid='22917', r_ui=1.189098167280817, est=1.1149427879587823, details={'was_impossible': False}),\n",
       " Prediction(uid='12346', iid='22918', r_ui=1.189098167280817, est=1.093989036271393, details={'was_impossible': False}),\n",
       " Prediction(uid='12346', iid='22919', r_ui=1.189098167280817, est=1.094258110053745, details={'was_impossible': False}),\n",
       " Prediction(uid='12346', iid='22920', r_ui=1.189098167280817, est=1.098141766964956, details={'was_impossible': False}),\n",
       " Prediction(uid='12346', iid='22925', r_ui=1.189098167280817, est=1.1271155905376742, details={'was_impossible': False}),\n",
       " Prediction(uid='12346', iid='22926', r_ui=1.189098167280817, est=1.081358342369724, details={'was_impossible': False}),\n",
       " Prediction(uid='12346', iid='22927', r_ui=1.189098167280817, est=1.165555510087856, details={'was_impossible': False}),\n",
       " Prediction(uid='12346', iid='22960', r_ui=1.189098167280817, est=1.1039996782531678, details={'was_impossible': False}),\n",
       " Prediction(uid='12346', iid='22961', r_ui=1.189098167280817, est=1.1222419776332813, details={'was_impossible': False}),\n",
       " Prediction(uid='12346', iid='22962', r_ui=1.189098167280817, est=1.0785464898800488, details={'was_impossible': False}),\n",
       " Prediction(uid='12346', iid='22963', r_ui=1.189098167280817, est=1.031445326289498, details={'was_impossible': False}),\n",
       " Prediction(uid='12346', iid='22991', r_ui=1.189098167280817, est=1.0223395124735, details={'was_impossible': False}),\n",
       " Prediction(uid='12346', iid='23012', r_ui=1.189098167280817, est=1.0824792284874118, details={'was_impossible': False}),\n",
       " Prediction(uid='12346', iid='23013', r_ui=1.189098167280817, est=1.0850425513924185, details={'was_impossible': False}),\n",
       " Prediction(uid='12346', iid='23020', r_ui=1.189098167280817, est=1.0403881767152254, details={'was_impossible': False}),\n",
       " Prediction(uid='12346', iid='23021', r_ui=1.189098167280817, est=1.0961243895423864, details={'was_impossible': False}),\n",
       " Prediction(uid='12346', iid='23049', r_ui=1.189098167280817, est=1.204225550808616, details={'was_impossible': False}),\n",
       " Prediction(uid='12346', iid='23050', r_ui=1.189098167280817, est=1.2136805582173174, details={'was_impossible': False}),\n",
       " Prediction(uid='12346', iid='23051', r_ui=1.189098167280817, est=1.1428608438242858, details={'was_impossible': False}),\n",
       " Prediction(uid='12346', iid='23053', r_ui=1.189098167280817, est=1.0984653867948753, details={'was_impossible': False}),\n",
       " Prediction(uid='12346', iid='23094', r_ui=1.189098167280817, est=1.0168877598806831, details={'was_impossible': False}),\n",
       " Prediction(uid='12346', iid='23100', r_ui=1.189098167280817, est=1.0249885182618286, details={'was_impossible': False}),\n",
       " Prediction(uid='12346', iid='23110', r_ui=1.189098167280817, est=1, details={'was_impossible': False}),\n",
       " Prediction(uid='12346', iid='23114', r_ui=1.189098167280817, est=1, details={'was_impossible': False}),\n",
       " Prediction(uid='12346', iid='23117', r_ui=1.189098167280817, est=1, details={'was_impossible': False}),\n",
       " Prediction(uid='12346', iid='23126', r_ui=1.189098167280817, est=1.0353614340794646, details={'was_impossible': False}),\n",
       " Prediction(uid='12346', iid='23176', r_ui=1.189098167280817, est=1, details={'was_impossible': False}),\n",
       " Prediction(uid='12346', iid='23182', r_ui=1.189098167280817, est=1.1151273227172207, details={'was_impossible': False}),\n",
       " Prediction(uid='12346', iid='23188', r_ui=1.189098167280817, est=1.075169508011747, details={'was_impossible': False}),\n",
       " Prediction(uid='12346', iid='23191', r_ui=1.189098167280817, est=1.0425106787020264, details={'was_impossible': False}),\n",
       " Prediction(uid='12346', iid='23194', r_ui=1.189098167280817, est=1.0421316548500308, details={'was_impossible': False}),\n",
       " Prediction(uid='12346', iid='23199', r_ui=1.189098167280817, est=1.2663323810279186, details={'was_impossible': False}),\n",
       " Prediction(uid='12346', iid='23200', r_ui=1.189098167280817, est=1.184331995408084, details={'was_impossible': False}),\n",
       " Prediction(uid='12346', iid='23202', r_ui=1.189098167280817, est=1.2095378044326126, details={'was_impossible': False}),\n",
       " Prediction(uid='12346', iid='23206', r_ui=1.189098167280817, est=1.3586778313112562, details={'was_impossible': False}),\n",
       " Prediction(uid='12346', iid='23208', r_ui=1.189098167280817, est=1.1987915338980768, details={'was_impossible': False}),\n",
       " Prediction(uid='12346', iid='23230', r_ui=1.189098167280817, est=1.0173730862480894, details={'was_impossible': False}),\n",
       " Prediction(uid='12346', iid='23237', r_ui=1.189098167280817, est=1.0744545681291604, details={'was_impossible': False}),\n",
       " Prediction(uid='12346', iid='23238', r_ui=1.189098167280817, est=1.1157269956825626, details={'was_impossible': False}),\n",
       " Prediction(uid='12346', iid='23239', r_ui=1.189098167280817, est=1.0247119990227247, details={'was_impossible': False}),\n",
       " Prediction(uid='12346', iid='23240', r_ui=1.189098167280817, est=1.109618311441745, details={'was_impossible': False}),\n",
       " Prediction(uid='12346', iid='23283', r_ui=1.189098167280817, est=1.049488025850535, details={'was_impossible': False}),\n",
       " Prediction(uid='12346', iid='23284', r_ui=1.189098167280817, est=1.2007531612363211, details={'was_impossible': False}),\n",
       " Prediction(uid='12346', iid='23301', r_ui=1.189098167280817, est=1.3029173087278079, details={'was_impossible': False}),\n",
       " Prediction(uid='12346', iid='23302', r_ui=1.189098167280817, est=1.1040587160403206, details={'was_impossible': False}),\n",
       " Prediction(uid='12346', iid='23315', r_ui=1.189098167280817, est=1, details={'was_impossible': False}),\n",
       " Prediction(uid='12346', iid='23345', r_ui=1.189098167280817, est=1.073381964655863, details={'was_impossible': False}),\n",
       " Prediction(uid='12346', iid='23346', r_ui=1.189098167280817, est=1.091681525875581, details={'was_impossible': False}),\n",
       " Prediction(uid='12346', iid='23355', r_ui=1.189098167280817, est=1.0488821449333385, details={'was_impossible': False}),\n",
       " Prediction(uid='12346', iid='23356', r_ui=1.189098167280817, est=1.0588579189037715, details={'was_impossible': False}),\n",
       " Prediction(uid='12346', iid='23370', r_ui=1.189098167280817, est=1, details={'was_impossible': False}),\n",
       " Prediction(uid='12346', iid='23371', r_ui=1.189098167280817, est=1.0068814894393536, details={'was_impossible': False}),\n",
       " Prediction(uid='12346', iid='23372', r_ui=1.189098167280817, est=1.006133479794149, details={'was_impossible': False}),\n",
       " Prediction(uid='12346', iid='23390', r_ui=1.189098167280817, est=1.0006019142130067, details={'was_impossible': False}),\n",
       " Prediction(uid='12346', iid='23391', r_ui=1.189098167280817, est=1.0095504451050465, details={'was_impossible': False}),\n",
       " Prediction(uid='12346', iid='23397', r_ui=1.189098167280817, est=1.0229173275159564, details={'was_impossible': False}),\n",
       " Prediction(uid='12346', iid='23404', r_ui=1.189098167280817, est=1.0085695450133472, details={'was_impossible': False}),\n",
       " Prediction(uid='12346', iid='23413', r_ui=1.189098167280817, est=1, details={'was_impossible': False}),\n",
       " Prediction(uid='12346', iid='23414', r_ui=1.189098167280817, est=1.050004856990537, details={'was_impossible': False}),\n",
       " Prediction(uid='12346', iid='23423', r_ui=1.189098167280817, est=1, details={'was_impossible': False}),\n",
       " Prediction(uid='12346', iid='23424', r_ui=1.189098167280817, est=1, details={'was_impossible': False}),\n",
       " Prediction(uid='12346', iid='23426', r_ui=1.189098167280817, est=1.0507628032135132, details={'was_impossible': False}),\n",
       " Prediction(uid='12346', iid='23471', r_ui=1.189098167280817, est=1.0258711554006885, details={'was_impossible': False}),\n",
       " Prediction(uid='12346', iid='23472', r_ui=1.189098167280817, est=1.0153048277874759, details={'was_impossible': False}),\n",
       " Prediction(uid='12346', iid='23493', r_ui=1.189098167280817, est=1, details={'was_impossible': False}),\n",
       " Prediction(uid='12346', iid='23494', r_ui=1.189098167280817, est=1.0080606761352147, details={'was_impossible': False}),\n",
       " Prediction(uid='12346', iid='23504', r_ui=1.189098167280817, est=1.030491456661317, details={'was_impossible': False}),\n",
       " Prediction(uid='12346', iid='23526', r_ui=1.189098167280817, est=1, details={'was_impossible': False}),\n",
       " Prediction(uid='12346', iid='23528', r_ui=1.189098167280817, est=1, details={'was_impossible': False}),\n",
       " Prediction(uid='12346', iid='23529', r_ui=1.189098167280817, est=1, details={'was_impossible': False}),\n",
       " Prediction(uid='12346', iid='23530', r_ui=1.189098167280817, est=1, details={'was_impossible': False}),\n",
       " Prediction(uid='12346', iid='23531', r_ui=1.189098167280817, est=1, details={'was_impossible': False}),\n",
       " Prediction(uid='12346', iid='23534', r_ui=1.189098167280817, est=1.0243607587484878, details={'was_impossible': False}),\n",
       " Prediction(uid='12346', iid='23535', r_ui=1.189098167280817, est=1, details={'was_impossible': False}),\n",
       " Prediction(uid='12346', iid='23536', r_ui=1.189098167280817, est=1.0064916079618746, details={'was_impossible': False}),\n",
       " Prediction(uid='12346', iid='23537', r_ui=1.189098167280817, est=1, details={'was_impossible': False}),\n",
       " Prediction(uid='12346', iid='23542', r_ui=1.189098167280817, est=1.0067296576249214, details={'was_impossible': False}),\n",
       " Prediction(uid='12346', iid='35241', r_ui=1.189098167280817, est=1.0242558239852442, details={'was_impossible': False}),\n",
       " Prediction(uid='12346', iid='47566', r_ui=1.189098167280817, est=1.198413938385444, details={'was_impossible': False}),\n",
       " Prediction(uid='12346', iid='82484', r_ui=1.189098167280817, est=1.1122258931280382, details={'was_impossible': False}),\n",
       " Prediction(uid='12346', iid='82600', r_ui=1.189098167280817, est=1.2435274103165905, details={'was_impossible': False}),\n",
       " Prediction(uid='12346', iid='82613B', r_ui=1.189098167280817, est=1.0178376149607318, details={'was_impossible': False}),\n",
       " Prediction(uid='12346', iid='82613C', r_ui=1.189098167280817, est=1, details={'was_impossible': False}),\n",
       " Prediction(uid='12346', iid='82613D', r_ui=1.189098167280817, est=1, details={'was_impossible': False}),\n",
       " Prediction(uid='12346', iid='84078A', r_ui=1.189098167280817, est=1.0437280583816988, details={'was_impossible': False}),\n",
       " Prediction(uid='12346', iid='85054', r_ui=1.189098167280817, est=1.0613436342115845, details={'was_impossible': False}),\n",
       " Prediction(uid='12346', iid='85099B', r_ui=1.189098167280817, est=1.3104622685572365, details={'was_impossible': False}),\n",
       " Prediction(uid='12346', iid='85099C', r_ui=1.189098167280817, est=1.1639452210067334, details={'was_impossible': False}),\n",
       " Prediction(uid='12346', iid='85099F', r_ui=1.189098167280817, est=1.205704048433803, details={'was_impossible': False}),\n",
       " Prediction(uid='12346', iid='20674', r_ui=1.189098167280817, est=1.0890801121821005, details={'was_impossible': False}),\n",
       " Prediction(uid='12346', iid='20682', r_ui=1.189098167280817, est=1.0240182764699874, details={'was_impossible': False}),\n",
       " Prediction(uid='12346', iid='20686', r_ui=1.189098167280817, est=1.0173479133532606, details={'was_impossible': False}),\n",
       " Prediction(uid='12346', iid='20713', r_ui=1.189098167280817, est=1.1415771330911946, details={'was_impossible': False}),\n",
       " Prediction(uid='12346', iid='20978', r_ui=1.189098167280817, est=1.0863481320739221, details={'was_impossible': False}),\n",
       " Prediction(uid='12346', iid='21245', r_ui=1.189098167280817, est=1.0100378729331796, details={'was_impossible': False}),\n",
       " Prediction(uid='12346', iid='21558', r_ui=1.189098167280817, est=1.1398391551736629, details={'was_impossible': False}),\n",
       " Prediction(uid='12346', iid='21559', r_ui=1.189098167280817, est=1.2211442094228546, details={'was_impossible': False}),\n",
       " Prediction(uid='12346', iid='21561', r_ui=1.189098167280817, est=1.1151142155543095, details={'was_impossible': False}),\n",
       " Prediction(uid='12346', iid='21576', r_ui=1.189098167280817, est=1.0026760262584244, details={'was_impossible': False}),\n",
       " Prediction(uid='12346', iid='21579', r_ui=1.189098167280817, est=1, details={'was_impossible': False}),\n",
       " Prediction(uid='12346', iid='21675', r_ui=1.189098167280817, est=1, details={'was_impossible': False}),\n",
       " Prediction(uid='12346', iid='21676', r_ui=1.189098167280817, est=1.1064030268448601, details={'was_impossible': False}),\n",
       " Prediction(uid='12346', iid='21723', r_ui=1.189098167280817, est=1.0955058183572193, details={'was_impossible': False}),\n",
       " Prediction(uid='12346', iid='21788', r_ui=1.189098167280817, est=1, details={'was_impossible': False}),\n",
       " Prediction(uid='12346', iid='21789', r_ui=1.189098167280817, est=1.0439083663950302, details={'was_impossible': False}),\n",
       " Prediction(uid='12346', iid='21929', r_ui=1.189098167280817, est=1.1577691873182125, details={'was_impossible': False}),\n",
       " Prediction(uid='12346', iid='21987', r_ui=1.189098167280817, est=1.1132196143701774, details={'was_impossible': False}),\n",
       " Prediction(uid='12346', iid='21988', r_ui=1.189098167280817, est=1.0884603541238123, details={'was_impossible': False}),\n",
       " Prediction(uid='12346', iid='21989', r_ui=1.189098167280817, est=1.1023885654351184, details={'was_impossible': False}),\n",
       " Prediction(uid='12346', iid='22027', r_ui=1.189098167280817, est=1.053670885594781, details={'was_impossible': False}),\n",
       " Prediction(uid='12346', iid='22029', r_ui=1.189098167280817, est=1.1810709179941878, details={'was_impossible': False}),\n",
       " Prediction(uid='12346', iid='22139', r_ui=1.189098167280817, est=1.1008433685898467, details={'was_impossible': False}),\n",
       " Prediction(uid='12346', iid='22141', r_ui=1.189098167280817, est=1.0383232524222892, details={'was_impossible': False}),\n",
       " Prediction(uid='12346', iid='22142', r_ui=1.189098167280817, est=1.0889731089450554, details={'was_impossible': False}),\n",
       " Prediction(uid='12346', iid='22144', r_ui=1.189098167280817, est=1.0769868401192497, details={'was_impossible': False}),\n",
       " Prediction(uid='12346', iid='22273', r_ui=1.189098167280817, est=1.034678063775132, details={'was_impossible': False}),\n",
       " Prediction(uid='12346', iid='22274', r_ui=1.189098167280817, est=1.0761808638106174, details={'was_impossible': False}),\n",
       " Prediction(uid='12346', iid='22328', r_ui=1.189098167280817, est=1.3062804308020155, details={'was_impossible': False}),\n",
       " Prediction(uid='12346', iid='22352', r_ui=1.189098167280817, est=1.2277083246300633, details={'was_impossible': False}),\n",
       " Prediction(uid='12346', iid='22367', r_ui=1.189098167280817, est=1.1624028458064113, details={'was_impossible': False}),\n",
       " Prediction(uid='12346', iid='22431', r_ui=1.189098167280817, est=1.1981123209512936, details={'was_impossible': False}),\n",
       " Prediction(uid='12346', iid='22433', r_ui=1.189098167280817, est=1.1750773151086527, details={'was_impossible': False}),\n",
       " Prediction(uid='12346', iid='22438', r_ui=1.189098167280817, est=1.0133729808131156, details={'was_impossible': False}),\n",
       " Prediction(uid='12346', iid='22554', r_ui=1.189098167280817, est=1.2305616432098179, details={'was_impossible': False}),\n",
       " Prediction(uid='12346', iid='22571', r_ui=1.189098167280817, est=1, details={'was_impossible': False}),\n",
       " Prediction(uid='12346', iid='22572', r_ui=1.189098167280817, est=1, details={'was_impossible': False}),\n",
       " Prediction(uid='12346', iid='22581', r_ui=1.189098167280817, est=1, details={'was_impossible': False}),\n",
       " Prediction(uid='12346', iid='22601', r_ui=1.189098167280817, est=1, details={'was_impossible': False}),\n",
       " Prediction(uid='12346', iid='22742', r_ui=1.189098167280817, est=1.0286179483006863, details={'was_impossible': False}),\n",
       " Prediction(uid='12346', iid='22752', r_ui=1.189098167280817, est=1.1256782835106, details={'was_impossible': False}),\n",
       " Prediction(uid='12346', iid='22812', r_ui=1.189098167280817, est=1.0552437900450486, details={'was_impossible': False}),\n",
       " Prediction(uid='12346', iid='22813', r_ui=1.189098167280817, est=1.0832173230586635, details={'was_impossible': False}),\n",
       " Prediction(uid='12346', iid='22814', r_ui=1.189098167280817, est=1.1080891767978671, details={'was_impossible': False}),\n",
       " Prediction(uid='12346', iid='22816', r_ui=1.189098167280817, est=1, details={'was_impossible': False}),\n",
       " Prediction(uid='12346', iid='22818', r_ui=1.189098167280817, est=1.0313462692015205, details={'was_impossible': False}),\n",
       " Prediction(uid='12346', iid='22819', r_ui=1.189098167280817, est=1.0474331100689356, details={'was_impossible': False}),\n",
       " Prediction(uid='12346', iid='22898', r_ui=1.189098167280817, est=1.1537597507071737, details={'was_impossible': False}),\n",
       " Prediction(uid='12346', iid='22909', r_ui=1.189098167280817, est=1.008906570195152, details={'was_impossible': False}),\n",
       " Prediction(uid='12346', iid='22940', r_ui=1.189098167280817, est=1.0724509415244177, details={'was_impossible': False}),\n",
       " Prediction(uid='12346', iid='23007', r_ui=1.189098167280817, est=1.0227178157691994, details={'was_impossible': False}),\n",
       " Prediction(uid='12346', iid='23128', r_ui=1.189098167280817, est=1.0267100035001742, details={'was_impossible': False}),\n",
       " Prediction(uid='12346', iid='23155', r_ui=1.189098167280817, est=1, details={'was_impossible': False}),\n",
       " Prediction(uid='12346', iid='23159', r_ui=1.189098167280817, est=1.088965769015663, details={'was_impossible': False}),\n",
       " Prediction(uid='12346', iid='23267', r_ui=1.189098167280817, est=1, details={'was_impossible': False}),\n",
       " Prediction(uid='12346', iid='23285', r_ui=1.189098167280817, est=1.127195183281239, details={'was_impossible': False}),\n",
       " Prediction(uid='12346', iid='23286', r_ui=1.189098167280817, est=1.1334552201640908, details={'was_impossible': False}),\n",
       " Prediction(uid='12346', iid='23287', r_ui=1.189098167280817, est=1.1278051324999374, details={'was_impossible': False}),\n",
       " Prediction(uid='12346', iid='23288', r_ui=1.189098167280817, est=1.1057181305473365, details={'was_impossible': False}),\n",
       " Prediction(uid='12346', iid='23318', r_ui=1.189098167280817, est=1, details={'was_impossible': False}),\n",
       " Prediction(uid='12346', iid='23320', r_ui=1.189098167280817, est=1.02028994298466, details={'was_impossible': False}),\n",
       " Prediction(uid='12346', iid='23382', r_ui=1.189098167280817, est=1, details={'was_impossible': False}),\n",
       " Prediction(uid='12346', iid='72817', r_ui=1.189098167280817, est=1.0502143372648969, details={'was_impossible': False}),\n",
       " Prediction(uid='12346', iid='84674', r_ui=1.189098167280817, est=1.102510798137356, details={'was_impossible': False}),\n",
       " Prediction(uid='12346', iid='84997A', r_ui=1.189098167280817, est=1.1380714111240255, details={'was_impossible': False}),\n",
       " Prediction(uid='12346', iid='85185B', r_ui=1.189098167280817, est=1.037184277017499, details={'was_impossible': False}),\n",
       " Prediction(uid='12346', iid='20726', r_ui=1.189098167280817, est=1.3111065255949794, details={'was_impossible': False}),\n",
       " Prediction(uid='12346', iid='22382', r_ui=1.189098167280817, est=1.2504981074969779, details={'was_impossible': False}),\n",
       " Prediction(uid='12346', iid='16048', r_ui=1.189098167280817, est=1.036161194238349, details={'was_impossible': False}),\n",
       " Prediction(uid='12346', iid='16238', r_ui=1.189098167280817, est=1.0884367768404515, details={'was_impossible': False}),\n",
       " Prediction(uid='12346', iid='20685', r_ui=1.189098167280817, est=1.0798483320445706, details={'was_impossible': False}),\n",
       " Prediction(uid='12346', iid='20694', r_ui=1.189098167280817, est=1.0412442493908325, details={'was_impossible': False}),\n",
       " Prediction(uid='12346', iid='20699', r_ui=1.189098167280817, est=1.0212869745606121, details={'was_impossible': False}),\n",
       " Prediction(uid='12346', iid='20728', r_ui=1.189098167280817, est=1.2856917432309274, details={'was_impossible': False}),\n",
       " Prediction(uid='12346', iid='20914', r_ui=1.189098167280817, est=1.353806261264524, details={'was_impossible': False}),\n",
       " Prediction(uid='12346', iid='20981', r_ui=1.189098167280817, est=1.0811218728241807, details={'was_impossible': False}),\n",
       " Prediction(uid='12346', iid='20983', r_ui=1.189098167280817, est=1.0757864345853234, details={'was_impossible': False}),\n",
       " Prediction(uid='12346', iid='20985', r_ui=1.189098167280817, est=1.0615581929080147, details={'was_impossible': False}),\n",
       " Prediction(uid='12346', iid='21131', r_ui=1.189098167280817, est=1.0718359958480204, details={'was_impossible': False}),\n",
       " Prediction(uid='12346', iid='21132', r_ui=1.189098167280817, est=1.0087921953180619, details={'was_impossible': False}),\n",
       " Prediction(uid='12346', iid='21222', r_ui=1.189098167280817, est=1, details={'was_impossible': False}),\n",
       " Prediction(uid='12346', iid='21249', r_ui=1.189098167280817, est=1.0425831214650094, details={'was_impossible': False}),\n",
       " Prediction(uid='12346', iid='21481', r_ui=1.189098167280817, est=1.0590887494546462, details={'was_impossible': False}),\n",
       " Prediction(uid='12346', iid='21485', r_ui=1.189098167280817, est=1.0211064214350587, details={'was_impossible': False}),\n",
       " Prediction(uid='12346', iid='21535', r_ui=1.189098167280817, est=1.0228587434386243, details={'was_impossible': False}),\n",
       " Prediction(uid='12346', iid='21577', r_ui=1.189098167280817, est=1.10860464361417, details={'was_impossible': False}),\n",
       " Prediction(uid='12346', iid='21671', r_ui=1.189098167280817, est=1.1071020064077128, details={'was_impossible': False}),\n",
       " Prediction(uid='12346', iid='21715', r_ui=1.189098167280817, est=1.0194539295090088, details={'was_impossible': False}),\n",
       " Prediction(uid='12346', iid='21716', r_ui=1.189098167280817, est=1.0274589819895925, details={'was_impossible': False}),\n",
       " Prediction(uid='12346', iid='21718', r_ui=1.189098167280817, est=1.0495510747680636, details={'was_impossible': False}),\n",
       " Prediction(uid='12346', iid='21746', r_ui=1.189098167280817, est=1.1355661777286916, details={'was_impossible': False}),\n",
       " Prediction(uid='12346', iid='21747', r_ui=1.189098167280817, est=1.0486219850014438, details={'was_impossible': False}),\n",
       " Prediction(uid='12346', iid='21787', r_ui=1.189098167280817, est=1.081573210767399, details={'was_impossible': False}),\n",
       " Prediction(uid='12346', iid='21829', r_ui=1.189098167280817, est=1.0833356134305823, details={'was_impossible': False}),\n",
       " Prediction(uid='12346', iid='21913', r_ui=1.189098167280817, est=1.0135261753934823, details={'was_impossible': False}),\n",
       " Prediction(uid='12346', iid='21918', r_ui=1.189098167280817, est=1.0876571188876953, details={'was_impossible': False}),\n",
       " Prediction(uid='12346', iid='21936', r_ui=1.189098167280817, est=1.1285103197713808, details={'was_impossible': False}),\n",
       " Prediction(uid='12346', iid='21947', r_ui=1.189098167280817, est=1, details={'was_impossible': False}),\n",
       " Prediction(uid='12346', iid='22110', r_ui=1.189098167280817, est=1.0584215549018845, details={'was_impossible': False}),\n",
       " Prediction(uid='12346', iid='22151', r_ui=1.189098167280817, est=1.0254982501235903, details={'was_impossible': False}),\n",
       " Prediction(uid='12346', iid='22174', r_ui=1.189098167280817, est=1.1285879946945732, details={'was_impossible': False}),\n",
       " Prediction(uid='12346', iid='22272', r_ui=1.189098167280817, est=1, details={'was_impossible': False}),\n",
       " Prediction(uid='12346', iid='22276', r_ui=1.189098167280817, est=1.032397511519207, details={'was_impossible': False}),\n",
       " Prediction(uid='12346', iid='22383', r_ui=1.189098167280817, est=1.3529705715110258, details={'was_impossible': False}),\n",
       " Prediction(uid='12346', iid='22396', r_ui=1.189098167280817, est=1, details={'was_impossible': False}),\n",
       " Prediction(uid='12346', iid='22405', r_ui=1.189098167280817, est=1.0022371557808833, details={'was_impossible': False}),\n",
       " Prediction(uid='12346', iid='22449', r_ui=1.189098167280817, est=1.0568666513533969, details={'was_impossible': False}),\n",
       " Prediction(uid='12346', iid='22453', r_ui=1.189098167280817, est=1, details={'was_impossible': False}),\n",
       " Prediction(uid='12346', iid='22491', r_ui=1.189098167280817, est=1.0314011174903226, details={'was_impossible': False}),\n",
       " Prediction(uid='12346', iid='22493', r_ui=1.189098167280817, est=1.1641439121230528, details={'was_impossible': False}),\n",
       " Prediction(uid='12346', iid='22504', r_ui=1.189098167280817, est=1.0389861890597092, details={'was_impossible': False}),\n",
       " Prediction(uid='12346', iid='22509', r_ui=1.189098167280817, est=1.0345513408266294, details={'was_impossible': False}),\n",
       " Prediction(uid='12346', iid='22565', r_ui=1.189098167280817, est=1.0904645033847706, details={'was_impossible': False}),\n",
       " Prediction(uid='12346', iid='22580', r_ui=1.189098167280817, est=1, details={'was_impossible': False}),\n",
       " Prediction(uid='12346', iid='22588', r_ui=1.189098167280817, est=1.0451500000782674, details={'was_impossible': False}),\n",
       " Prediction(uid='12346', iid='22589', r_ui=1.189098167280817, est=1.062060542432823, details={'was_impossible': False}),\n",
       " Prediction(uid='12346', iid='22613', r_ui=1.189098167280817, est=1.0844579731939539, details={'was_impossible': False}),\n",
       " Prediction(uid='12346', iid='22637', r_ui=1.189098167280817, est=1.0242996398378303, details={'was_impossible': False}),\n",
       " Prediction(uid='12346', iid='22662', r_ui=1.189098167280817, est=1.2039644233984272, details={'was_impossible': False}),\n",
       " Prediction(uid='12346', iid='22712', r_ui=1.189098167280817, est=1.1728412769686098, details={'was_impossible': False}),\n",
       " Prediction(uid='12346', iid='22750', r_ui=1.189098167280817, est=1.1078192308282797, details={'was_impossible': False}),\n",
       " Prediction(uid='12346', iid='22751', r_ui=1.189098167280817, est=1.0684851979012093, details={'was_impossible': False}),\n",
       " Prediction(uid='12346', iid='22891', r_ui=1.189098167280817, est=1.039042783679304, details={'was_impossible': False}),\n",
       " Prediction(uid='12346', iid='22892', r_ui=1.189098167280817, est=1.0610402570126463, details={'was_impossible': False}),\n",
       " Prediction(uid='12346', iid='22904', r_ui=1.189098167280817, est=1.0945327691791706, details={'was_impossible': False}),\n",
       " Prediction(uid='12346', iid='22930', r_ui=1.189098167280817, est=1, details={'was_impossible': False}),\n",
       " Prediction(uid='12346', iid='22941', r_ui=1.189098167280817, est=1.0255674146512095, details={'was_impossible': False}),\n",
       " Prediction(uid='12346', iid='22942', r_ui=1.189098167280817, est=1, details={'was_impossible': False}),\n",
       " Prediction(uid='12346', iid='22943', r_ui=1.189098167280817, est=1.0694008024835984, details={'was_impossible': False}),\n",
       " Prediction(uid='12346', iid='22946', r_ui=1.189098167280817, est=1.0437073079896098, details={'was_impossible': False}),\n",
       " Prediction(uid='12346', iid='22947', r_ui=1.189098167280817, est=1.018825105569375, details={'was_impossible': False}),\n",
       " Prediction(uid='12346', iid='23009', r_ui=1.189098167280817, est=1.0987757908346716, details={'was_impossible': False}),\n",
       " Prediction(uid='12346', iid='23040', r_ui=1.189098167280817, est=1, details={'was_impossible': False}),\n",
       " Prediction(uid='12346', iid='23080', r_ui=1.189098167280817, est=1.10997019268503, details={'was_impossible': False}),\n",
       " Prediction(uid='12346', iid='23108', r_ui=1.189098167280817, est=1.0786723858234133, details={'was_impossible': False}),\n",
       " Prediction(uid='12346', iid='23190', r_ui=1.189098167280817, est=1.01358276867091, details={'was_impossible': False}),\n",
       " Prediction(uid='12346', iid='23203', r_ui=1.189098167280817, est=1.2554876267670827, details={'was_impossible': False}),\n",
       " Prediction(uid='12346', iid='23209', r_ui=1.189098167280817, est=1.2609778658493531, details={'was_impossible': False}),\n",
       " Prediction(uid='12346', iid='23289', r_ui=1.189098167280817, est=1.0593124203482818, details={'was_impossible': False}),\n",
       " Prediction(uid='12346', iid='23290', r_ui=1.189098167280817, est=1.1036419188270774, details={'was_impossible': False}),\n",
       " Prediction(uid='12346', iid='23291', r_ui=1.189098167280817, est=1.0772859120010294, details={'was_impossible': False}),\n",
       " Prediction(uid='12346', iid='23292', r_ui=1.189098167280817, est=1.1170161768844706, details={'was_impossible': False}),\n",
       " Prediction(uid='12346', iid='23313', r_ui=1.189098167280817, est=1.000509113415255, details={'was_impossible': False}),\n",
       " Prediction(uid='12346', iid='23319', r_ui=1.189098167280817, est=1.0013133394508078, details={'was_impossible': False}),\n",
       " Prediction(uid='12346', iid='23378', r_ui=1.189098167280817, est=1.0154281647212664, details={'was_impossible': False}),\n",
       " Prediction(uid='12346', iid='23388', r_ui=1.189098167280817, est=1.0130379034767754, details={'was_impossible': False}),\n",
       " Prediction(uid='12346', iid='23389', r_ui=1.189098167280817, est=1.0649656042028293, details={'was_impossible': False}),\n",
       " Prediction(uid='12346', iid='47566B', r_ui=1.189098167280817, est=1.122985930260815, details={'was_impossible': False}),\n",
       " Prediction(uid='12346', iid='47591D', r_ui=1.189098167280817, est=1.1824546568385088, details={'was_impossible': False}),\n",
       " Prediction(uid='12346', iid='48188', r_ui=1.189098167280817, est=1.066187387134889, details={'was_impossible': False}),\n",
       " Prediction(uid='12346', iid='48194', r_ui=1.189098167280817, est=1.0871707189706328, details={'was_impossible': False}),\n",
       " Prediction(uid='12346', iid='82001S', r_ui=1.189098167280817, est=1.1235675871220994, details={'was_impossible': False}),\n",
       " Prediction(uid='12346', iid='84569A', r_ui=1.189098167280817, est=1, details={'was_impossible': False}),\n",
       " Prediction(uid='12346', iid='84569B', r_ui=1.189098167280817, est=1, details={'was_impossible': False}),\n",
       " Prediction(uid='12346', iid='84580', r_ui=1.189098167280817, est=1.0647389738837956, details={'was_impossible': False}),\n",
       " Prediction(uid='12346', iid='84581', r_ui=1.189098167280817, est=1, details={'was_impossible': False}),\n",
       " Prediction(uid='12346', iid='85014B', r_ui=1.189098167280817, est=1.0120286725716483, details={'was_impossible': False}),\n",
       " Prediction(uid='12346', iid='85230B', r_ui=1.189098167280817, est=1.151677310832372, details={'was_impossible': False}),\n",
       " Prediction(uid='12346', iid='21121', r_ui=1.189098167280817, est=1.1149085858715921, details={'was_impossible': False}),\n",
       " Prediction(uid='12346', iid='21123', r_ui=1.189098167280817, est=1.1576742457567355, details={'was_impossible': False}),\n",
       " Prediction(uid='12346', iid='21210', r_ui=1.189098167280817, est=1.0611288210935157, details={'was_impossible': False}),\n",
       " Prediction(uid='12346', iid='21973', r_ui=1.189098167280817, est=1, details={'was_impossible': False}),\n",
       " Prediction(uid='12346', iid='21974', r_ui=1.189098167280817, est=1.0338764472158355, details={'was_impossible': False}),\n",
       " Prediction(uid='12346', iid='22691', r_ui=1.189098167280817, est=1.0455109106613378, details={'was_impossible': False}),\n",
       " Prediction(uid='12346', iid='22950', r_ui=1.189098167280817, est=1, details={'was_impossible': False}),\n",
       " Prediction(uid='12346', iid='23234', r_ui=1.189098167280817, est=1.0273554507198366, details={'was_impossible': False}),\n",
       " Prediction(uid='12346', iid='23236', r_ui=1.189098167280817, est=1.0915400177253727, details={'was_impossible': False}),\n",
       " Prediction(uid='12346', iid='48116', r_ui=1.189098167280817, est=1.1272232665835442, details={'was_impossible': False}),\n",
       " Prediction(uid='12346', iid='20977', r_ui=1.189098167280817, est=1.038621640218865, details={'was_impossible': False}),\n",
       " Prediction(uid='12346', iid='20979', r_ui=1.189098167280817, est=1.1011252192205678, details={'was_impossible': False}),\n",
       " Prediction(uid='12346', iid='21058', r_ui=1.189098167280817, est=1.0393262931271845, details={'was_impossible': False}),\n",
       " Prediction(uid='12346', iid='21059', r_ui=1.189098167280817, est=1.0308324043774895, details={'was_impossible': False}),\n",
       " Prediction(uid='12346', iid='21060', r_ui=1.189098167280817, est=1.0279388482481195, details={'was_impossible': False}),\n",
       " Prediction(uid='12346', iid='21062', r_ui=1.189098167280817, est=1, details={'was_impossible': False}),\n",
       " Prediction(uid='12346', iid='21063', r_ui=1.189098167280817, est=1.0464991293848094, details={'was_impossible': False}),\n",
       " Prediction(uid='12346', iid='21207', r_ui=1.189098167280817, est=1, details={'was_impossible': False}),\n",
       " Prediction(uid='12346', iid='21327', r_ui=1.189098167280817, est=1.0387356780832926, details={'was_impossible': False}),\n",
       " Prediction(uid='12346', iid='21381', r_ui=1.189098167280817, est=1.1242936012267388, details={'was_impossible': False}),\n",
       " Prediction(uid='12346', iid='22332', r_ui=1.189098167280817, est=1.117938900082561, details={'was_impossible': False}),\n",
       " Prediction(uid='12346', iid='22333', r_ui=1.189098167280817, est=1.047209880626432, details={'was_impossible': False}),\n",
       " Prediction(uid='12346', iid='23307', r_ui=1.189098167280817, est=1.0210372374276984, details={'was_impossible': False}),\n",
       " Prediction(uid='12346', iid='23310', r_ui=1.189098167280817, est=1.0957724105308984, details={'was_impossible': False}),\n",
       " Prediction(uid='12346', iid='47590A', r_ui=1.189098167280817, est=1.1245460202552024, details={'was_impossible': False}),\n",
       " Prediction(uid='12346', iid='47590B', r_ui=1.189098167280817, est=1.1358178233005278, details={'was_impossible': False}),\n",
       " Prediction(uid='12346', iid='20972', r_ui=1.189098167280817, est=1.260556382767913, details={'was_impossible': False}),\n",
       " Prediction(uid='12346', iid='21106', r_ui=1.189098167280817, est=1.0630832538564687, details={'was_impossible': False}),\n",
       " Prediction(uid='12346', iid='21107', r_ui=1.189098167280817, est=1.0526148028716076, details={'was_impossible': False}),\n",
       " Prediction(uid='12346', iid='21355', r_ui=1.189098167280817, est=1, details={'was_impossible': False}),\n",
       " Prediction(uid='12346', iid='21356', r_ui=1.189098167280817, est=1.1328809581087234, details={'was_impossible': False}),\n",
       " Prediction(uid='12346', iid='21358', r_ui=1.189098167280817, est=1.0422245972183743, details={'was_impossible': False}),\n",
       " Prediction(uid='12346', iid='21408', r_ui=1.189098167280817, est=1.0342996301771414, details={'was_impossible': False}),\n",
       " Prediction(uid='12346', iid='21651', r_ui=1.189098167280817, est=1.088424796933053, details={'was_impossible': False}),\n",
       " Prediction(uid='12346', iid='22128', r_ui=1.189098167280817, est=1.0448279947062475, details={'was_impossible': False}),\n",
       " Prediction(uid='12346', iid='22224', r_ui=1.189098167280817, est=1, details={'was_impossible': False}),\n",
       " Prediction(uid='12346', iid='22478', r_ui=1.189098167280817, est=1.0126351900022588, details={'was_impossible': False}),\n",
       " Prediction(uid='12346', iid='22585', r_ui=1.189098167280817, est=1.1039110435917936, details={'was_impossible': False}),\n",
       " Prediction(uid='12346', iid='22915', r_ui=1.189098167280817, est=1.0474822014266245, details={'was_impossible': False}),\n",
       " Prediction(uid='12346', iid='72807A', r_ui=1.189098167280817, est=1.1274806164380395, details={'was_impossible': False}),\n",
       " Prediction(uid='12346', iid='84884A', r_ui=1.189098167280817, est=1, details={'was_impossible': False}),\n",
       " Prediction(uid='12346', iid='18097C', r_ui=1.189098167280817, est=1.0616323537967813, details={'was_impossible': False}),\n",
       " Prediction(uid='12346', iid='20653', r_ui=1.189098167280817, est=1, details={'was_impossible': False}),\n",
       " Prediction(uid='12346', iid='20654', r_ui=1.189098167280817, est=1, details={'was_impossible': False}),\n",
       " Prediction(uid='12346', iid='20658', r_ui=1.189098167280817, est=1.0654513547651556, details={'was_impossible': False}),\n",
       " Prediction(uid='12346', iid='20707', r_ui=1.189098167280817, est=1.072544779985574, details={'was_impossible': False}),\n",
       " Prediction(uid='12346', iid='20846', r_ui=1.189098167280817, est=1.0372603092502655, details={'was_impossible': False}),\n",
       " Prediction(uid='12346', iid='20961', r_ui=1.189098167280817, est=1.0789890967838793, details={'was_impossible': False}),\n",
       " Prediction(uid='12346', iid='20963', r_ui=1.189098167280817, est=1.1572211555809262, details={'was_impossible': False}),\n",
       " Prediction(uid='12346', iid='20967', r_ui=1.189098167280817, est=1.0236740473040666, details={'was_impossible': False}),\n",
       " Prediction(uid='12346', iid='20969', r_ui=1.189098167280817, est=1.1194450696370886, details={'was_impossible': False}),\n",
       " Prediction(uid='12346', iid='20970', r_ui=1.189098167280817, est=1.069289327868215, details={'was_impossible': False}),\n",
       " Prediction(uid='12346', iid='20974', r_ui=1.189098167280817, est=1.0446216527883256, details={'was_impossible': False}),\n",
       " Prediction(uid='12346', iid='21025', r_ui=1.189098167280817, est=1, details={'was_impossible': False}),\n",
       " Prediction(uid='12346', iid='21026', r_ui=1.189098167280817, est=1, details={'was_impossible': False}),\n",
       " Prediction(uid='12346', iid='21027', r_ui=1.189098167280817, est=1.017288768298546, details={'was_impossible': False}),\n",
       " Prediction(uid='12346', iid='21030', r_ui=1.189098167280817, est=1.0460579584630916, details={'was_impossible': False}),\n",
       " Prediction(uid='12346', iid='21031', r_ui=1.189098167280817, est=1, details={'was_impossible': False}),\n",
       " Prediction(uid='12346', iid='21032', r_ui=1.189098167280817, est=1, details={'was_impossible': False}),\n",
       " Prediction(uid='12346', iid='21055', r_ui=1.189098167280817, est=1.189929963803188, details={'was_impossible': False}),\n",
       " Prediction(uid='12346', iid='21108', r_ui=1.189098167280817, est=1.0497851993110734, details={'was_impossible': False}),\n",
       " Prediction(uid='12346', iid='21109', r_ui=1.189098167280817, est=1.1167277904613448, details={'was_impossible': False}),\n",
       " Prediction(uid='12346', iid='21110', r_ui=1.189098167280817, est=1.1094112118759232, details={'was_impossible': False}),\n",
       " Prediction(uid='12346', iid='21111', r_ui=1.189098167280817, est=1.0010818025747106, details={'was_impossible': False}),\n",
       " Prediction(uid='12346', iid='21112', r_ui=1.189098167280817, est=1, details={'was_impossible': False}),\n",
       " Prediction(uid='12346', iid='21188', r_ui=1.189098167280817, est=1.0378561083265485, details={'was_impossible': False}),\n",
       " Prediction(uid='12346', iid='21189', r_ui=1.189098167280817, est=1, details={'was_impossible': False}),\n",
       " Prediction(uid='12346', iid='21326', r_ui=1.189098167280817, est=1.1406161575879459, details={'was_impossible': False}),\n",
       " Prediction(uid='12346', iid='21357', r_ui=1.189098167280817, est=1, details={'was_impossible': False}),\n",
       " Prediction(uid='12346', iid='21385', r_ui=1.189098167280817, est=1.044064216601911, details={'was_impossible': False}),\n",
       " Prediction(uid='12346', iid='21390', r_ui=1.189098167280817, est=1.0567440980383194, details={'was_impossible': False}),\n",
       " Prediction(uid='12346', iid='21428', r_ui=1.189098167280817, est=1, details={'was_impossible': False}),\n",
       " Prediction(uid='12346', iid='21683', r_ui=1.189098167280817, est=1.0756720861270705, details={'was_impossible': False}),\n",
       " Prediction(uid='12346', iid='21684', r_ui=1.189098167280817, est=1, details={'was_impossible': False}),\n",
       " Prediction(uid='12346', iid='21733', r_ui=1.189098167280817, est=1.2329548234949332, details={'was_impossible': False}),\n",
       " Prediction(uid='12346', iid='21808', r_ui=1.189098167280817, est=1, details={'was_impossible': False}),\n",
       " Prediction(uid='12346', iid='22070', r_ui=1.189098167280817, est=1.0499444679638288, details={'was_impossible': False}),\n",
       " Prediction(uid='12346', iid='22071', r_ui=1.189098167280817, est=1.0521269522742698, details={'was_impossible': False}),\n",
       " Prediction(uid='12346', iid='22083', r_ui=1.189098167280817, est=1.1101480956510479, details={'was_impossible': False}),\n",
       " Prediction(uid='12346', iid='22085', r_ui=1.189098167280817, est=1.0697825490175412, details={'was_impossible': False}),\n",
       " Prediction(uid='12346', iid='22087', r_ui=1.189098167280817, est=1.0449318990701155, details={'was_impossible': False}),\n",
       " Prediction(uid='12346', iid='22088', r_ui=1.189098167280817, est=1.0142215466328577, details={'was_impossible': False}),\n",
       " Prediction(uid='12346', iid='22113', r_ui=1.189098167280817, est=1.0975580126683668, details={'was_impossible': False}),\n",
       " Prediction(uid='12346', iid='22147', r_ui=1.189098167280817, est=1.1327466016034948, details={'was_impossible': False}),\n",
       " Prediction(uid='12346', iid='22148', r_ui=1.189098167280817, est=1.0472852770044245, details={'was_impossible': False}),\n",
       " Prediction(uid='12346', iid='22149', r_ui=1.189098167280817, est=1.1102519969362956, details={'was_impossible': False}),\n",
       " Prediction(uid='12346', iid='22150', r_ui=1.189098167280817, est=1.0325715755096287, details={'was_impossible': False}),\n",
       " Prediction(uid='12346', iid='22153', r_ui=1.189098167280817, est=1.1049109720675956, details={'was_impossible': False}),\n",
       " Prediction(uid='12346', iid='22154', r_ui=1.189098167280817, est=1, details={'was_impossible': False}),\n",
       " Prediction(uid='12346', iid='22179', r_ui=1.189098167280817, est=1.1665640006210918, details={'was_impossible': False}),\n",
       " Prediction(uid='12346', iid='22214', r_ui=1.189098167280817, est=1, details={'was_impossible': False}),\n",
       " Prediction(uid='12346', iid='22229', r_ui=1.189098167280817, est=1, details={'was_impossible': False}),\n",
       " Prediction(uid='12346', iid='22230', r_ui=1.189098167280817, est=1.0235732519448797, details={'was_impossible': False}),\n",
       " Prediction(uid='12346', iid='22231', r_ui=1.189098167280817, est=1.031379289726799, details={'was_impossible': False}),\n",
       " Prediction(uid='12346', iid='22233', r_ui=1.189098167280817, est=1, details={'was_impossible': False}),\n",
       " Prediction(uid='12346', iid='22270', r_ui=1.189098167280817, est=1.1386404505903556, details={'was_impossible': False}),\n",
       " Prediction(uid='12346', iid='22271', r_ui=1.189098167280817, est=1.0874878785810878, details={'was_impossible': False}),\n",
       " Prediction(uid='12346', iid='22291', r_ui=1.189098167280817, est=1.0295957361557035, details={'was_impossible': False}),\n",
       " Prediction(uid='12346', iid='22294', r_ui=1.189098167280817, est=1.1660082660168503, details={'was_impossible': False}),\n",
       " Prediction(uid='12346', iid='22296', r_ui=1.189098167280817, est=1.120903024154283, details={'was_impossible': False}),\n",
       " Prediction(uid='12346', iid='22297', r_ui=1.189098167280817, est=1.0852629645018346, details={'was_impossible': False}),\n",
       " Prediction(uid='12346', iid='22312', r_ui=1.189098167280817, est=1.0860318114480179, details={'was_impossible': False}),\n",
       " Prediction(uid='12346', iid='22313', r_ui=1.189098167280817, est=1, details={'was_impossible': False}),\n",
       " Prediction(uid='12346', iid='22335', r_ui=1.189098167280817, est=1.0754730610400134, details={'was_impossible': False}),\n",
       " Prediction(uid='12346', iid='22465', r_ui=1.189098167280817, est=1.0173469445340162, details={'was_impossible': False}),\n",
       " Prediction(uid='12346', iid='22466', r_ui=1.189098167280817, est=1.1799700407750737, details={'was_impossible': False}),\n",
       " Prediction(uid='12346', iid='22520', r_ui=1.189098167280817, est=1, details={'was_impossible': False}),\n",
       " Prediction(uid='12346', iid='22521', r_ui=1.189098167280817, est=1.0035705066346143, details={'was_impossible': False}),\n",
       " Prediction(uid='12346', iid='22522', r_ui=1.189098167280817, est=1, details={'was_impossible': False}),\n",
       " Prediction(uid='12346', iid='22523', r_ui=1.189098167280817, est=1.0003842889079768, details={'was_impossible': False}),\n",
       " Prediction(uid='12346', iid='22524', r_ui=1.189098167280817, est=1.0213028319394095, details={'was_impossible': False}),\n",
       " Prediction(uid='12346', iid='22525', r_ui=1.189098167280817, est=1, details={'was_impossible': False}),\n",
       " Prediction(uid='12346', iid='22566', r_ui=1.189098167280817, est=1.0405214991670027, details={'was_impossible': False}),\n",
       " Prediction(uid='12346', iid='22568', r_ui=1.189098167280817, est=1.1659562290955245, details={'was_impossible': False}),\n",
       " Prediction(uid='12346', iid='22569', r_ui=1.189098167280817, est=1.0573489251058148, details={'was_impossible': False}),\n",
       " Prediction(uid='12346', iid='22570', r_ui=1.189098167280817, est=1.0896217926131018, details={'was_impossible': False}),\n",
       " Prediction(uid='12346', iid='22575', r_ui=1.189098167280817, est=1.1050960446438434, details={'was_impossible': False}),\n",
       " Prediction(uid='12346', iid='22582', r_ui=1.189098167280817, est=1, details={'was_impossible': False}),\n",
       " Prediction(uid='12346', iid='22745', r_ui=1.189098167280817, est=1.0718014867032846, details={'was_impossible': False}),\n",
       " Prediction(uid='12346', iid='22746', r_ui=1.189098167280817, est=1.0573803008278984, details={'was_impossible': False}),\n",
       " Prediction(uid='12346', iid='22747', r_ui=1.189098167280817, est=1.0875737699473096, details={'was_impossible': False}),\n",
       " Prediction(uid='12346', iid='22748', r_ui=1.189098167280817, est=1.1255773338032589, details={'was_impossible': False}),\n",
       " Prediction(uid='12346', iid='22749', r_ui=1.189098167280817, est=1.0609742142118583, details={'was_impossible': False}),\n",
       " Prediction(uid='12346', iid='22766', r_ui=1.189098167280817, est=1.1274892635585116, details={'was_impossible': False}),\n",
       " Prediction(uid='12346', iid='22767', r_ui=1.189098167280817, est=1, details={'was_impossible': False}),\n",
       " Prediction(uid='12346', iid='22804', r_ui=1.189098167280817, est=1.2669759062971222, details={'was_impossible': False}),\n",
       " Prediction(uid='12346', iid='23082', r_ui=1.189098167280817, est=1.029609320019417, details={'was_impossible': False}),\n",
       " Prediction(uid='12346', iid='23083', r_ui=1.189098167280817, est=1.0539259532655292, details={'was_impossible': False}),\n",
       " Prediction(uid='12346', iid='23210', r_ui=1.189098167280817, est=1.0293817660634492, details={'was_impossible': False}),\n",
       " Prediction(uid='12346', iid='23213', r_ui=1.189098167280817, est=1.034719685775194, details={'was_impossible': False}),\n",
       " Prediction(uid='12346', iid='35912B', r_ui=1.189098167280817, est=1.0123528887521427, details={'was_impossible': False}),\n",
       " Prediction(uid='12346', iid='35913B', r_ui=1.189098167280817, est=1, details={'was_impossible': False}),\n",
       " Prediction(uid='12346', iid='35924', r_ui=1.189098167280817, est=1, details={'was_impossible': False}),\n",
       " Prediction(uid='12346', iid='35961', r_ui=1.189098167280817, est=1.125209318942262, details={'was_impossible': False}),\n",
       " Prediction(uid='12346', iid='47574A', r_ui=1.189098167280817, est=1.20408359482617, details={'was_impossible': False}),\n",
       " Prediction(uid='12346', iid='72741', r_ui=1.189098167280817, est=1.051901813861886, details={'was_impossible': False}),\n",
       " Prediction(uid='12346', iid='79302M', r_ui=1.189098167280817, est=1.1277424904648778, details={'was_impossible': False}),\n",
       " Prediction(uid='12346', iid='84006', r_ui=1.189098167280817, est=1.0946113004301437, details={'was_impossible': False}),\n",
       " Prediction(uid='12346', iid='84012', r_ui=1.189098167280817, est=1.020662388928477, details={'was_impossible': False}),\n",
       " Prediction(uid='12346', iid='84568', r_ui=1.189098167280817, est=1.1454153028813276, details={'was_impossible': False}),\n",
       " Prediction(uid='12346', iid='84598', r_ui=1.189098167280817, est=1, details={'was_impossible': False}),\n",
       " Prediction(uid='12346', iid='84879', r_ui=1.189098167280817, est=1.1700424905804017, details={'was_impossible': False}),\n",
       " Prediction(uid='12346', iid='84946', r_ui=1.189098167280817, est=1.0018706567460558, details={'was_impossible': False}),\n",
       " Prediction(uid='12346', iid='85095', r_ui=1.189098167280817, est=1, details={'was_impossible': False}),\n",
       " Prediction(uid='12346', iid='85123A', r_ui=1.189098167280817, est=1.314726361098918, details={'was_impossible': False}),\n",
       " Prediction(uid='12346', iid='85180B', r_ui=1.189098167280817, est=1, details={'was_impossible': False}),\n",
       " Prediction(uid='12346', iid='85194L', r_ui=1.189098167280817, est=1.0024957455824854, details={'was_impossible': False}),\n",
       " Prediction(uid='12346', iid='85195', r_ui=1.189098167280817, est=1.0302432500212504, details={'was_impossible': False}),\n",
       " Prediction(uid='12346', iid='85199L', r_ui=1.189098167280817, est=1.0363544582465514, details={'was_impossible': False}),\n",
       " Prediction(uid='12346', iid='85199S', r_ui=1.189098167280817, est=1.1316362513062137, details={'was_impossible': False}),\n",
       " Prediction(uid='12346', iid='17012D', r_ui=1.189098167280817, est=1.0771561984340927, details={'was_impossible': False}),\n",
       " Prediction(uid='12346', iid='20727', r_ui=1.189098167280817, est=1.382069670909625, details={'was_impossible': False}),\n",
       " Prediction(uid='12346', iid='21479', r_ui=1.189098167280817, est=1.1609978988045364, details={'was_impossible': False}),\n",
       " Prediction(uid='12346', iid='21494', r_ui=1.189098167280817, est=1.088740988247421, details={'was_impossible': False}),\n",
       " Prediction(uid='12346', iid='21615', r_ui=1.189098167280817, est=1, details={'was_impossible': False}),\n",
       " Prediction(uid='12346', iid='21616', r_ui=1.189098167280817, est=1.014464215681936, details={'was_impossible': False}),\n",
       " Prediction(uid='12346', iid='21617', r_ui=1.189098167280817, est=1.0373489467177892, details={'was_impossible': False}),\n",
       " Prediction(uid='12346', iid='21620', r_ui=1.189098167280817, est=1.06482787486349, details={'was_impossible': False}),\n",
       " Prediction(uid='12346', iid='21625', r_ui=1.189098167280817, est=1.0118517789383683, details={'was_impossible': False}),\n",
       " Prediction(uid='12346', iid='21689', r_ui=1.189098167280817, est=1.0540501781606912, details={'was_impossible': False}),\n",
       " Prediction(uid='12346', iid='21693', r_ui=1.189098167280817, est=1.0900337740661359, details={'was_impossible': False}),\n",
       " Prediction(uid='12346', iid='22111', r_ui=1.189098167280817, est=1.0758431293208972, details={'was_impossible': False}),\n",
       " Prediction(uid='12346', iid='22123', r_ui=1.189098167280817, est=1.0553773110421698, details={'was_impossible': False}),\n",
       " Prediction(uid='12346', iid='22181', r_ui=1.189098167280817, est=1, details={'was_impossible': False}),\n",
       " Prediction(uid='12346', iid='22311', r_ui=1.189098167280817, est=1.0994222990548266, details={'was_impossible': False}),\n",
       " Prediction(uid='12346', iid='22314', r_ui=1.189098167280817, est=1.0778231154803086, details={'was_impossible': False}),\n",
       " Prediction(uid='12346', iid='22398', r_ui=1.189098167280817, est=1.0627368318224695, details={'was_impossible': False}),\n",
       " Prediction(uid='12346', iid='22632', r_ui=1.189098167280817, est=1.0807574098738844, details={'was_impossible': False}),\n",
       " Prediction(uid='12346', iid='22834', r_ui=1.189098167280817, est=1.1221976693929223, details={'was_impossible': False}),\n",
       " Prediction(uid='12346', iid='22865', r_ui=1.189098167280817, est=1.0547454741198323, details={'was_impossible': False}),\n",
       " Prediction(uid='12346', iid='22866', r_ui=1.189098167280817, est=1.0328491818882681, details={'was_impossible': False}),\n",
       " Prediction(uid='12346', iid='22923', r_ui=1.189098167280817, est=1.0451512936242655, details={'was_impossible': False}),\n",
       " Prediction(uid='12346', iid='22924', r_ui=1.189098167280817, est=1.078177932513369, details={'was_impossible': False}),\n",
       " Prediction(uid='12346', iid='22939', r_ui=1.189098167280817, est=1.0772561698502485, details={'was_impossible': False}),\n",
       " Prediction(uid='12346', iid='22989', r_ui=1.189098167280817, est=1.0722949001520357, details={'was_impossible': False}),\n",
       " Prediction(uid='12346', iid='23156', r_ui=1.189098167280817, est=1.1166896381118545, details={'was_impossible': False}),\n",
       " Prediction(uid='12346', iid='23157', r_ui=1.189098167280817, est=1.033160944446454, details={'was_impossible': False}),\n",
       " Prediction(uid='12346', iid='23158', r_ui=1.189098167280817, est=1.2160698565149048, details={'was_impossible': False}),\n",
       " Prediction(uid='12346', iid='23357', r_ui=1.189098167280817, est=1, details={'was_impossible': False}),\n",
       " Prediction(uid='12346', iid='23358', r_ui=1.189098167280817, est=1, details={'was_impossible': False}),\n",
       " Prediction(uid='12346', iid='72819', r_ui=1.189098167280817, est=1.0098593658441506, details={'was_impossible': False}),\n",
       " Prediction(uid='12346', iid='84029G', r_ui=1.189098167280817, est=1.1387282305419144, details={'was_impossible': False}),\n",
       " Prediction(uid='12346', iid='84030E', r_ui=1.189098167280817, est=1.0675963579194077, details={'was_impossible': False}),\n",
       " Prediction(uid='12346', iid='84347', r_ui=1.189098167280817, est=1.129328241186115, details={'was_impossible': False}),\n",
       " Prediction(uid='12346', iid='85034A', r_ui=1.189098167280817, est=1.078664843772223, details={'was_impossible': False}),\n",
       " Prediction(uid='12346', iid='85034C', r_ui=1.189098167280817, est=1, details={'was_impossible': False}),\n",
       " Prediction(uid='12346', iid='85035A', r_ui=1.189098167280817, est=1.0273614339444965, details={'was_impossible': False}),\n",
       " Prediction(uid='12346', iid='85035B', r_ui=1.189098167280817, est=1.0471656469198436, details={'was_impossible': False}),\n",
       " Prediction(uid='12346', iid='85035C', r_ui=1.189098167280817, est=1.0968787612526967, details={'was_impossible': False}),\n",
       " Prediction(uid='12346', iid='85036A', r_ui=1.189098167280817, est=1.0047010587092045, details={'was_impossible': False}),\n",
       " Prediction(uid='12346', iid='85036B', r_ui=1.189098167280817, est=1, details={'was_impossible': False}),\n",
       " Prediction(uid='12346', iid='85036C', r_ui=1.189098167280817, est=1.0555611325259482, details={'was_impossible': False}),\n",
       " Prediction(uid='12346', iid='85227', r_ui=1.189098167280817, est=1.0847447603363833, details={'was_impossible': False}),\n",
       " Prediction(uid='12346', iid='16156L', r_ui=1.189098167280817, est=1, details={'was_impossible': False}),\n",
       " Prediction(uid='12346', iid='16156S', r_ui=1.189098167280817, est=1.068324793383858, details={'was_impossible': False}),\n",
       " Prediction(uid='12346', iid='16161U', r_ui=1.189098167280817, est=1.0436502899001099, details={'was_impossible': False}),\n",
       " Prediction(uid='12346', iid='21452', r_ui=1.189098167280817, est=1.0489411767437598, details={'was_impossible': False}),\n",
       " Prediction(uid='12346', iid='22045', r_ui=1.189098167280817, est=1.0895110604526264, details={'was_impossible': False}),\n",
       " Prediction(uid='12346', iid='22329', r_ui=1.189098167280817, est=1.1104000903689857, details={'was_impossible': False}),\n",
       " Prediction(uid='12346', iid='22538', r_ui=1.189098167280817, est=1, details={'was_impossible': False}),\n",
       " Prediction(uid='12346', iid='22539', r_ui=1.189098167280817, est=1, details={'was_impossible': False}),\n",
       " Prediction(uid='12346', iid='22540', r_ui=1.189098167280817, est=1.0025714498932041, details={'was_impossible': False}),\n",
       " Prediction(uid='12346', iid='22544', r_ui=1.189098167280817, est=1, details={'was_impossible': False}),\n",
       " Prediction(uid='12346', iid='22704', r_ui=1.189098167280817, est=1.1004576846513865, details={'was_impossible': False}),\n",
       " Prediction(uid='12346', iid='22705', r_ui=1.189098167280817, est=1.024711130921829, details={'was_impossible': False}),\n",
       " Prediction(uid='12346', iid='22711', r_ui=1.189098167280817, est=1.0561246690632962, details={'was_impossible': False}),\n",
       " Prediction(uid='12346', iid='23232', r_ui=1.189098167280817, est=1.0550968193244272, details={'was_impossible': False}),\n",
       " Prediction(uid='12346', iid='23244', r_ui=1.189098167280817, est=1, details={'was_impossible': False}),\n",
       " Prediction(uid='12346', iid='23433', r_ui=1.189098167280817, est=1, details={'was_impossible': False}),\n",
       " Prediction(uid='12346', iid='20712', r_ui=1.189098167280817, est=1.1310052462455982, details={'was_impossible': False}),\n",
       " Prediction(uid='12346', iid='20724', r_ui=1.189098167280817, est=1.3377124646494927, details={'was_impossible': False}),\n",
       " Prediction(uid='12346', iid='22356', r_ui=1.189098167280817, est=1.3214360627897939, details={'was_impossible': False}),\n",
       " Prediction(uid='12346', iid='22553', r_ui=1.189098167280817, est=1.1876799696273732, details={'was_impossible': False}),\n",
       " Prediction(uid='12346', iid='22355', r_ui=1.189098167280817, est=1.3435094421557727, details={'was_impossible': False}),\n",
       " Prediction(uid='12346', iid='16012', r_ui=1.189098167280817, est=1.0173305096197383, details={'was_impossible': False}),\n",
       " Prediction(uid='12346', iid='20662', r_ui=1.189098167280817, est=1, details={'was_impossible': False}),\n",
       " Prediction(uid='12346', iid='20856', r_ui=1.189098167280817, est=1, details={'was_impossible': False}),\n",
       " Prediction(uid='12346', iid='21206', r_ui=1.189098167280817, est=1.0123821233072596, details={'was_impossible': False}),\n",
       " Prediction(uid='12346', iid='21365', r_ui=1.189098167280817, est=1.0366495633704358, details={'was_impossible': False}),\n",
       " Prediction(uid='12346', iid='21506', r_ui=1.189098167280817, est=1.068758866053436, details={'was_impossible': False}),\n",
       " Prediction(uid='12346', iid='21680', r_ui=1.189098167280817, est=1.0645452691060542, details={'was_impossible': False}),\n",
       " Prediction(uid='12346', iid='21721', r_ui=1.189098167280817, est=1, details={'was_impossible': False}),\n",
       " Prediction(uid='12346', iid='21871', r_ui=1.189098167280817, est=1.1388925467215134, details={'was_impossible': False}),\n",
       " Prediction(uid='12346', iid='21877', r_ui=1.189098167280817, est=1.1515979801224936, details={'was_impossible': False}),\n",
       " Prediction(uid='12346', iid='22021', r_ui=1.189098167280817, est=1, details={'was_impossible': False}),\n",
       " Prediction(uid='12346', iid='22037', r_ui=1.189098167280817, est=1.1122735980655094, details={'was_impossible': False}),\n",
       " Prediction(uid='12346', iid='22107', r_ui=1.189098167280817, est=1.1507483432610386, details={'was_impossible': False}),\n",
       " Prediction(uid='12346', iid='22108', r_ui=1.189098167280817, est=1.13784989846845, details={'was_impossible': False}),\n",
       " Prediction(uid='12346', iid='22112', r_ui=1.189098167280817, est=1.1600691326880601, details={'was_impossible': False}),\n",
       " Prediction(uid='12346', iid='22190', r_ui=1.189098167280817, est=1.0539036115404306, details={'was_impossible': False}),\n",
       " Prediction(uid='12346', iid='22197', r_ui=1.189098167280817, est=1.4183979584585484, details={'was_impossible': False}),\n",
       " Prediction(uid='12346', iid='22300', r_ui=1.189098167280817, est=1.1763770032390277, details={'was_impossible': False}),\n",
       " Prediction(uid='12346', iid='22301', r_ui=1.189098167280817, est=1.2622646426584874, details={'was_impossible': False}),\n",
       " Prediction(uid='12346', iid='22302', r_ui=1.189098167280817, est=1.1508664494084093, details={'was_impossible': False}),\n",
       " Prediction(uid='12346', iid='22303', r_ui=1.189098167280817, est=1.1759902688250763, details={'was_impossible': False}),\n",
       " Prediction(uid='12346', iid='22448', r_ui=1.189098167280817, est=1.017584808943133, details={'was_impossible': False}),\n",
       " Prediction(uid='12346', iid='22545', r_ui=1.189098167280817, est=1, details={'was_impossible': False}),\n",
       " Prediction(uid='12346', iid='22546', r_ui=1.189098167280817, est=1, details={'was_impossible': False}),\n",
       " Prediction(uid='12346', iid='22713', r_ui=1.189098167280817, est=1.0699338365522777, details={'was_impossible': False}),\n",
       " Prediction(uid='12346', iid='22714', r_ui=1.189098167280817, est=1.071909682505425, details={'was_impossible': False}),\n",
       " Prediction(uid='12346', iid='22716', r_ui=1.189098167280817, est=1.0217974484194552, details={'was_impossible': False}),\n",
       " Prediction(uid='12346', iid='22730', r_ui=1.189098167280817, est=1.2882229102975142, details={'was_impossible': False}),\n",
       " Prediction(uid='12346', iid='22837', r_ui=1.189098167280817, est=1.0806396440757808, details={'was_impossible': False}),\n",
       " Prediction(uid='12346', iid='22953', r_ui=1.189098167280817, est=1.0065478649566904, details={'was_impossible': False}),\n",
       " Prediction(uid='12346', iid='85206A', r_ui=1.189098167280817, est=1, details={'was_impossible': False}),\n",
       " Prediction(uid='12346', iid='15058B', r_ui=1.189098167280817, est=1.0061060559048614, details={'was_impossible': False}),\n",
       " Prediction(uid='12346', iid='20754', r_ui=1.189098167280817, est=1.103765395292051, details={'was_impossible': False}),\n",
       " Prediction(uid='12346', iid='21039', r_ui=1.189098167280817, est=1.071873032786996, details={'was_impossible': False}),\n",
       " Prediction(uid='12346', iid='21078', r_ui=1.189098167280817, est=1.112373130582308, details={'was_impossible': False}),\n",
       " Prediction(uid='12346', iid='21098', r_ui=1.189098167280817, est=1.116940564312728, details={'was_impossible': False}),\n",
       " Prediction(uid='12346', iid='21201', r_ui=1.189098167280817, est=1.1612961679064004, details={'was_impossible': False}),\n",
       " Prediction(uid='12346', iid='21205', r_ui=1.189098167280817, est=1, details={'was_impossible': False}),\n",
       " Prediction(uid='12346', iid='21208', r_ui=1.189098167280817, est=1.0147825522693885, details={'was_impossible': False}),\n",
       " Prediction(uid='12346', iid='21288', r_ui=1.189098167280817, est=1.0946543418074075, details={'was_impossible': False}),\n",
       " Prediction(uid='12346', iid='21537', r_ui=1.189098167280817, est=1.0571524676579827, details={'was_impossible': False}),\n",
       " Prediction(uid='12346', iid='21556', r_ui=1.189098167280817, est=1.0195744196589107, details={'was_impossible': False}),\n",
       " Prediction(uid='12346', iid='21668', r_ui=1.189098167280817, est=1.125365896894349, details={'was_impossible': False}),\n",
       " Prediction(uid='12346', iid='21672', r_ui=1.189098167280817, est=1.1159588987522215, details={'was_impossible': False}),\n",
       " Prediction(uid='12346', iid='21706', r_ui=1.189098167280817, est=1.0176011761564683, details={'was_impossible': False}),\n",
       " Prediction(uid='12346', iid='21707', r_ui=1.189098167280817, est=1, details={'was_impossible': False}),\n",
       " Prediction(uid='12346', iid='21709', r_ui=1.189098167280817, est=1, details={'was_impossible': False}),\n",
       " Prediction(uid='12346', iid='21844', r_ui=1.189098167280817, est=1.0483354223715544, details={'was_impossible': False}),\n",
       " Prediction(uid='12346', iid='22074', r_ui=1.189098167280817, est=1.091247002943189, details={'was_impossible': False}),\n",
       " Prediction(uid='12346', iid='22075', r_ui=1.189098167280817, est=1.0785861993892953, details={'was_impossible': False}),\n",
       " Prediction(uid='12346', iid='22189', r_ui=1.189098167280817, est=1.1023859730259071, details={'was_impossible': False}),\n",
       " Prediction(uid='12346', iid='22254', r_ui=1.189098167280817, est=1.0080636656964195, details={'was_impossible': False}),\n",
       " Prediction(uid='12346', iid='22255', r_ui=1.189098167280817, est=1.0409509936134977, details={'was_impossible': False}),\n",
       " Prediction(uid='12346', iid='22318', r_ui=1.189098167280817, est=1.0791768231179493, details={'was_impossible': False}),\n",
       " Prediction(uid='12346', iid='22320', r_ui=1.189098167280817, est=1, details={'was_impossible': False}),\n",
       " Prediction(uid='12346', iid='22325', r_ui=1.189098167280817, est=1.0068084829350916, details={'was_impossible': False}),\n",
       " Prediction(uid='12346', iid='22334', r_ui=1.189098167280817, est=1.0254692691549383, details={'was_impossible': False}),\n",
       " Prediction(uid='12346', iid='22430', r_ui=1.189098167280817, est=1, details={'was_impossible': False}),\n",
       " Prediction(uid='12346', iid='22434', r_ui=1.189098167280817, est=1.0822742437705961, details={'was_impossible': False}),\n",
       " Prediction(uid='12346', iid='22436', r_ui=1.189098167280817, est=1.0316134655549285, details={'was_impossible': False}),\n",
       " Prediction(uid='12346', iid='22532', r_ui=1.189098167280817, est=1.024608815939167, details={'was_impossible': False}),\n",
       " Prediction(uid='12346', iid='22535', r_ui=1.189098167280817, est=1.0730359551428885, details={'was_impossible': False}),\n",
       " Prediction(uid='12346', iid='22583', r_ui=1.189098167280817, est=1.0364525162757905, details={'was_impossible': False}),\n",
       " Prediction(uid='12346', iid='22584', r_ui=1.189098167280817, est=1.0701683180780552, details={'was_impossible': False}),\n",
       " Prediction(uid='12346', iid='22602', r_ui=1.189098167280817, est=1.0578598910129648, details={'was_impossible': False}),\n",
       " Prediction(uid='12346', iid='22605', r_ui=1.189098167280817, est=1.0187769721490538, details={'was_impossible': False}),\n",
       " Prediction(uid='12346', iid='22615', r_ui=1.189098167280817, est=1.0279750426023813, details={'was_impossible': False}),\n",
       " Prediction(uid='12346', iid='22619', r_ui=1.189098167280817, est=1.149518314402722, details={'was_impossible': False}),\n",
       " Prediction(uid='12346', iid='22669', r_ui=1.189098167280817, est=1.0102381224494896, details={'was_impossible': False}),\n",
       " Prediction(uid='12346', iid='22670', r_ui=1.189098167280817, est=1.035023113255635, details={'was_impossible': False}),\n",
       " Prediction(uid='12346', iid='22687', r_ui=1.189098167280817, est=1, details={'was_impossible': False}),\n",
       " Prediction(uid='12346', iid='22737', r_ui=1.189098167280817, est=1, details={'was_impossible': False}),\n",
       " Prediction(uid='12346', iid='22739', r_ui=1.189098167280817, est=1.0248714968822557, details={'was_impossible': False}),\n",
       " Prediction(uid='12346', iid='22743', r_ui=1.189098167280817, est=1.0751747882873088, details={'was_impossible': False}),\n",
       " Prediction(uid='12346', iid='22760', r_ui=1.189098167280817, est=1.0465313617542447, details={'was_impossible': False}),\n",
       " Prediction(uid='12346', iid='22770', r_ui=1.189098167280817, est=1.1084155731211982, details={'was_impossible': False}),\n",
       " Prediction(uid='12346', iid='22820', r_ui=1.189098167280817, est=1, details={'was_impossible': False}),\n",
       " Prediction(uid='12346', iid='22822', r_ui=1.189098167280817, est=1.0237069778955143, details={'was_impossible': False}),\n",
       " Prediction(uid='12346', iid='22851', r_ui=1.189098167280817, est=1.0815884307036299, details={'was_impossible': False}),\n",
       " Prediction(uid='12346', iid='22964', r_ui=1.189098167280817, est=1.0868161988354998, details={'was_impossible': False}),\n",
       " Prediction(uid='12346', iid='22965', r_ui=1.189098167280817, est=1, details={'was_impossible': False}),\n",
       " Prediction(uid='12346', iid='22966', r_ui=1.189098167280817, est=1.094032483073117, details={'was_impossible': False}),\n",
       " Prediction(uid='12346', iid='22981', r_ui=1.189098167280817, est=1.0524238519441953, details={'was_impossible': False}),\n",
       " Prediction(uid='12346', iid='22982', r_ui=1.189098167280817, est=1.0634461699717872, details={'was_impossible': False}),\n",
       " Prediction(uid='12346', iid='22990', r_ui=1.189098167280817, est=1.0292139510966092, details={'was_impossible': False}),\n",
       " Prediction(uid='12346', iid='23000', r_ui=1.189098167280817, est=1.2058514887236973, details={'was_impossible': False}),\n",
       " Prediction(uid='12346', iid='23101', r_ui=1.189098167280817, est=1, details={'was_impossible': False}),\n",
       " Prediction(uid='12346', iid='23102', r_ui=1.189098167280817, est=1.0022139735690367, details={'was_impossible': False}),\n",
       " Prediction(uid='12346', iid='23109', r_ui=1.189098167280817, est=1.0438801292247413, details={'was_impossible': False}),\n",
       " Prediction(uid='12346', iid='23119', r_ui=1.189098167280817, est=1.0374483156372658, details={'was_impossible': False}),\n",
       " Prediction(uid='12346', iid='23129', r_ui=1.189098167280817, est=1.0504683425617143, details={'was_impossible': False}),\n",
       " Prediction(uid='12346', iid='23148', r_ui=1.189098167280817, est=1.1768031182985277, details={'was_impossible': False}),\n",
       " Prediction(uid='12346', iid='23183', r_ui=1.189098167280817, est=1.022414521642346, details={'was_impossible': False}),\n",
       " Prediction(uid='12346', iid='23193', r_ui=1.189098167280817, est=1.0860324817089526, details={'was_impossible': False}),\n",
       " Prediction(uid='12346', iid='23207', r_ui=1.189098167280817, est=1.164971647914098, details={'was_impossible': False}),\n",
       " Prediction(uid='12346', iid='23221', r_ui=1.189098167280817, est=1.0836923167033519, details={'was_impossible': False}),\n",
       " Prediction(uid='12346', iid='23223', r_ui=1.189098167280817, est=1.0464512312582914, details={'was_impossible': False}),\n",
       " Prediction(uid='12346', iid='23229', r_ui=1.189098167280817, est=1, details={'was_impossible': False}),\n",
       " Prediction(uid='12346', iid='23231', r_ui=1.189098167280817, est=1.0539074719415567, details={'was_impossible': False}),\n",
       " Prediction(uid='12346', iid='23249', r_ui=1.189098167280817, est=1, details={'was_impossible': False}),\n",
       " Prediction(uid='12346', iid='23250', r_ui=1.189098167280817, est=1.0279190565934895, details={'was_impossible': False}),\n",
       " Prediction(uid='12346', iid='23251', r_ui=1.189098167280817, est=1, details={'was_impossible': False}),\n",
       " Prediction(uid='12346', iid='23252', r_ui=1.189098167280817, est=1.0755101267578282, details={'was_impossible': False}),\n",
       " Prediction(uid='12346', iid='23253', r_ui=1.189098167280817, est=1.0210465264347377, details={'was_impossible': False}),\n",
       " Prediction(uid='12346', iid='23268', r_ui=1.189098167280817, est=1.0369721818402553, details={'was_impossible': False}),\n",
       " Prediction(uid='12346', iid='23270', r_ui=1.189098167280817, est=1.0415783198939572, details={'was_impossible': False}),\n",
       " Prediction(uid='12346', iid='23311', r_ui=1.189098167280817, est=1.004584142445301, details={'was_impossible': False}),\n",
       " Prediction(uid='12346', iid='23317', r_ui=1.189098167280817, est=1.0553788365923003, details={'was_impossible': False}),\n",
       " Prediction(uid='12346', iid='23347', r_ui=1.189098167280817, est=1.0107498675442457, details={'was_impossible': False}),\n",
       " Prediction(uid='12346', iid='23550', r_ui=1.189098167280817, est=1.0104053189282187, details={'was_impossible': False}),\n",
       " Prediction(uid='12346', iid='47599A', r_ui=1.189098167280817, est=1, details={'was_impossible': False}),\n",
       " Prediction(uid='12346', iid='48138', r_ui=1.189098167280817, est=1.0962192222609273, details={'was_impossible': False}),\n",
       " Prediction(uid='12346', iid='82551', r_ui=1.189098167280817, est=1.2382407072888006, details={'was_impossible': False}),\n",
       " Prediction(uid='12346', iid='84792', r_ui=1.189098167280817, est=1.0693507247860219, details={'was_impossible': False}),\n",
       " Prediction(uid='12346', iid='84828', r_ui=1.189098167280817, est=1.1305297753302535, details={'was_impossible': False}),\n",
       " Prediction(uid='12346', iid='84912A', r_ui=1.189098167280817, est=1.1809289270337096, details={'was_impossible': False}),\n",
       " Prediction(uid='12346', iid='85014A', r_ui=1.189098167280817, est=1.019501590066653, details={'was_impossible': False}),\n",
       " Prediction(uid='12346', iid='85048', r_ui=1.189098167280817, est=1, details={'was_impossible': False}),\n",
       " Prediction(uid='12346', iid='85049G', r_ui=1.189098167280817, est=1.0767628239170417, details={'was_impossible': False}),\n",
       " Prediction(uid='12346', iid='21424', r_ui=1.189098167280817, est=1.0418755888239306, details={'was_impossible': False}),\n",
       " Prediction(uid='12346', iid='21426', r_ui=1.189098167280817, est=1.1095066467046821, details={'was_impossible': False}),\n",
       " Prediction(uid='12346', iid='22740', r_ui=1.189098167280817, est=1.0256732920187472, details={'was_impossible': False}),\n",
       " Prediction(uid='12346', iid='20723', r_ui=1.189098167280817, est=1.2693294620546642, details={'was_impossible': False}),\n",
       " Prediction(uid='12346', iid='21429', r_ui=1.189098167280817, est=1.2005111888820623, details={'was_impossible': False}),\n",
       " Prediction(uid='12346', iid='21463', r_ui=1.189098167280817, est=1.0457822479922358, details={'was_impossible': False}),\n",
       " Prediction(uid='12346', iid='21464', r_ui=1.189098167280817, est=1, details={'was_impossible': False}),\n",
       " Prediction(uid='12346', iid='21648', r_ui=1.189098167280817, est=1.05464596125939, details={'was_impossible': False}),\n",
       " Prediction(uid='12346', iid='21883', r_ui=1.189098167280817, est=1, details={'was_impossible': False}),\n",
       " Prediction(uid='12346', iid='21937', r_ui=1.189098167280817, est=1.0775299772907596, details={'was_impossible': False}),\n",
       " Prediction(uid='12346', iid='22299', r_ui=1.189098167280817, est=1, details={'was_impossible': False}),\n",
       " Prediction(uid='12346', iid='22362', r_ui=1.189098167280817, est=1.0543770311507852, details={'was_impossible': False}),\n",
       " Prediction(uid='12346', iid='22363', r_ui=1.189098167280817, est=1.1562648544986045, details={'was_impossible': False}),\n",
       " Prediction(uid='12346', iid='22379', r_ui=1.189098167280817, est=1.2735812858033335, details={'was_impossible': False}),\n",
       " Prediction(uid='12346', iid='22380', r_ui=1.189098167280817, est=1.168475008162541, details={'was_impossible': False}),\n",
       " Prediction(uid='12346', iid='22381', r_ui=1.189098167280817, est=1.1887211491069831, details={'was_impossible': False}),\n",
       " Prediction(uid='12346', iid='22386', r_ui=1.189098167280817, est=1.2155114569834837, details={'was_impossible': False}),\n",
       " Prediction(uid='12346', iid='22399', r_ui=1.189098167280817, est=1.0510800074637987, details={'was_impossible': False}),\n",
       " Prediction(uid='12346', iid='22467', r_ui=1.189098167280817, est=1.2670827956755066, details={'was_impossible': False}),\n",
       " Prediction(uid='12346', iid='22759', r_ui=1.189098167280817, est=1.1151180350664662, details={'was_impossible': False}),\n",
       " Prediction(uid='12346', iid='23369', r_ui=1.189098167280817, est=1, details={'was_impossible': False}),\n",
       " Prediction(uid='12346', iid='70006', r_ui=1.189098167280817, est=1.0060110807887168, details={'was_impossible': False}),\n",
       " Prediction(uid='12346', iid='16169E', r_ui=1.189098167280817, est=1.0090551486124881, details={'was_impossible': False}),\n",
       " Prediction(uid='12346', iid='21115', r_ui=1.189098167280817, est=1.062743592534489, details={'was_impossible': False}),\n",
       " Prediction(uid='12346', iid='21251', r_ui=1.189098167280817, est=1, details={'was_impossible': False}),\n",
       " Prediction(uid='12346', iid='21340', r_ui=1.189098167280817, est=1.0636774053806588, details={'was_impossible': False}),\n",
       " Prediction(uid='12346', iid='22418', r_ui=1.189098167280817, est=1.1677113922887772, details={'was_impossible': False}),\n",
       " Prediction(uid='12346', iid='22596', r_ui=1.189098167280817, est=1.0483391372269129, details={'was_impossible': False}),\n",
       " Prediction(uid='12346', iid='22723', r_ui=1.189098167280817, est=1.119582986079588, details={'was_impossible': False}),\n",
       " Prediction(uid='12346', iid='22807', r_ui=1.189098167280817, est=1.0237181502057473, details={'was_impossible': False}),\n",
       " Prediction(uid='12346', iid='22894', r_ui=1.189098167280817, est=1, details={'was_impossible': False}),\n",
       " Prediction(uid='12346', iid='22895', r_ui=1.189098167280817, est=1.1203114582217133, details={'was_impossible': False}),\n",
       " Prediction(uid='12346', iid='22932', r_ui=1.189098167280817, est=1, details={'was_impossible': False}),\n",
       " Prediction(uid='12346', iid='22955', r_ui=1.189098167280817, est=1.0191756905220843, details={'was_impossible': False}),\n",
       " Prediction(uid='12346', iid='23048', r_ui=1.189098167280817, est=1, details={'was_impossible': False}),\n",
       " Prediction(uid='12346', iid='23163', r_ui=1.189098167280817, est=1, details={'was_impossible': False}),\n",
       " Prediction(uid='12346', iid='23293', r_ui=1.189098167280817, est=1.0436784429640162, details={'was_impossible': False}),\n",
       " Prediction(uid='12346', iid='35471D', r_ui=1.189098167280817, est=1.0430082264292206, details={'was_impossible': False}),\n",
       " Prediction(uid='12346', iid='84356', r_ui=1.189098167280817, est=1.0848960052048195, details={'was_impossible': False}),\n",
       " Prediction(uid='12346', iid='84880', r_ui=1.189098167280817, est=1.008977625583851, details={'was_impossible': False}),\n",
       " Prediction(uid='12346', iid='85132C', r_ui=1.189098167280817, est=1.0885780238625749, details={'was_impossible': False}),\n",
       " Prediction(uid='12346', iid='85159B', r_ui=1.189098167280817, est=1.00998868500195, details={'was_impossible': False}),\n",
       " Prediction(uid='12346', iid='16045', r_ui=1.189098167280817, est=1, details={'was_impossible': False}),\n",
       " Prediction(uid='12346', iid='20973', r_ui=1.189098167280817, est=1.12803848200806, details={'was_impossible': False}),\n",
       " Prediction(uid='12346', iid='20975', r_ui=1.189098167280817, est=1, details={'was_impossible': False}),\n",
       " Prediction(uid='12346', iid='21126', r_ui=1.189098167280817, est=1.0004012279431398, details={'was_impossible': False}),\n",
       " Prediction(uid='12346', iid='21218', r_ui=1.189098167280817, est=1.086903017893682, details={'was_impossible': False}),\n",
       " Prediction(uid='12346', iid='21508', r_ui=1.189098167280817, est=1, details={'was_impossible': False}),\n",
       " Prediction(uid='12346', iid='21703', r_ui=1.189098167280817, est=1.1071354397535016, details={'was_impossible': False}),\n",
       " Prediction(uid='12346', iid='22080', r_ui=1.189098167280817, est=1, details={'was_impossible': False}),\n",
       " Prediction(uid='12346', iid='22082', r_ui=1.189098167280817, est=1.074855654268885, details={'was_impossible': False}),\n",
       " Prediction(uid='12346', iid='22168', r_ui=1.189098167280817, est=1.0004776929904875, details={'was_impossible': False}),\n",
       " Prediction(uid='12346', iid='22315', r_ui=1.189098167280817, est=1.0623198512584802, details={'was_impossible': False}),\n",
       " Prediction(uid='12346', iid='22316', r_ui=1.189098167280817, est=1, details={'was_impossible': False}),\n",
       " Prediction(uid='12346', iid='22489', r_ui=1.189098167280817, est=1.1194287335792934, details={'was_impossible': False}),\n",
       " Prediction(uid='12346', iid='22543', r_ui=1.189098167280817, est=1, details={'was_impossible': False}),\n",
       " Prediction(uid='12346', iid='22547', r_ui=1.189098167280817, est=1, details={'was_impossible': False}),\n",
       " Prediction(uid='12346', iid='22717', r_ui=1.189098167280817, est=1.0445388708017862, details={'was_impossible': False}),\n",
       " Prediction(uid='12346', iid='22933', r_ui=1.189098167280817, est=1.0115336908401804, details={'was_impossible': False}),\n",
       " ...]"
      ]
     },
     "execution_count": 40,
     "metadata": {},
     "output_type": "execute_result"
    }
   ],
   "source": [
    "# 이전에 구매하지 않았던 상품을 예측 대상으로 선정\n",
    "test_data = train_full.build_anti_testset()\n",
    "target_user_predictions = model.test(test_data)\n",
    "\n",
    "target_user_predictions"
   ]
  },
  {
   "cell_type": "code",
   "execution_count": 41,
   "id": "1f848a98",
   "metadata": {},
   "outputs": [],
   "source": [
    "# Prediction(uid='12346', iid='16008', r_ui=1.1897285934348203, est=1.0100629105204517, details={'was_impossible': False})\n",
    "\n",
    "# 구매 예측 결과를 딕셔너리 형태로 변환 함수: {customer_id : {stock_code : 'rating'}, ...}\n",
    "def to_dictionary(target_user_predictions):\n",
    "    order_prediction_dict = {}\n",
    "    for customer_id, stock_code, _, predicted_rating, _ in target_user_predictions:\n",
    "        if customer_id in order_prediction_dict:\n",
    "            if stock_code in order_prediction_dict[customer_id]:\n",
    "                pass\n",
    "            else:\n",
    "                order_prediction_dict[customer_id][stock_code] = predicted_rating\n",
    "        else:\n",
    "            order_prediction_dict[customer_id] = {}\n",
    "            order_prediction_dict[customer_id][stock_code] = predicted_rating\n",
    "    \n",
    "    return order_prediction_dict"
   ]
  },
  {
   "cell_type": "code",
   "execution_count": 42,
   "id": "add05562",
   "metadata": {},
   "outputs": [
    {
     "name": "stdout",
     "output_type": "stream",
     "text": [
      "{'12346': {'16008': 1, '17021': 1.1480039183927793, '20665': 1.013918145373158, '20719': 1.2606484630394197, '20780': 1, '20782': 1.1198485373366962, '20966': 1.0629061425053112, '21035': 1.0839879627556808, '21041': 1.0606593894393839, '21064': 1.0918252715044698, '21154': 1.0874461914563753, '2117 ...\n"
     ]
    }
   ],
   "source": [
    "# 구매 예측 결과를 딕셔너리 형태로 반환\n",
    "new_order_prediction_dict = to_dictionary(target_user_predictions)\n",
    "print(str(new_order_prediction_dict)[:300] + \" ...\")"
   ]
  },
  {
   "cell_type": "code",
   "execution_count": 43,
   "id": "55fe5158",
   "metadata": {},
   "outputs": [
    {
     "name": "stdout",
     "output_type": "stream",
     "text": [
      "{'12346': {'23166': 1.048338342022168}, '12347': {'16008': 1.2174034540045295, '17021': 1.1413152516483052, '20665': 1.1706892051482662, '20719': 1.712980338411414, '20780': 1.0828037851622236, '20782': 1.1787987509829254, '20966': 1.2330309785997153, '21035': 1.3422153737476596, '21041': 1.31103351 ...\n"
     ]
    }
   ],
   "source": [
    "# 이전에 구매했었던 상품을 예측의 대상으로 선정\n",
    "test_data = train_full.build_testset()\n",
    "target_user_predictions_re = model.test(test_data)\n",
    "\n",
    "# 구매 예측 결과를 딕셔너리 형태로 반환\n",
    "re_order_prediction_dict = to_dictionary(target_user_predictions_re)\n",
    "print(str(re_order_prediction_dict)[:300] + \" ...\")"
   ]
  },
  {
   "cell_type": "code",
   "execution_count": 44,
   "id": "c2773052",
   "metadata": {},
   "outputs": [
    {
     "name": "stdout",
     "output_type": "stream",
     "text": [
      "{'12346': {'16008': 1, '17021': 1.1480039183927793, '20665': 1.013918145373158, '20719': 1.2606484630394197, '20780': 1, '20782': 1.1198485373366962, '20966': 1.0629061425053112, '21035': 1.0839879627556808, '21041': 1.0606593894393839, '21064': 1.0918252715044698, '21154': 1.0874461914563753, '2117 ...\n"
     ]
    }
   ],
   "source": [
    "# 모든 유저와 모든 상품 간의 예측 점수 합치기 : 두 딕셔너리 하나로 통합\n",
    "total_prediction_dict ={}\n",
    "\n",
    "def converge_dict(order_prediction_dict, total_prediction_dict):\n",
    "    for customer_id in order_prediction_dict:\n",
    "        # customer_id key값이 없다면 생성\n",
    "        if customer_id not in total_prediction_dict:\n",
    "            total_prediction_dict[customer_id] = {}\n",
    "        # customer_id value값이 없다면 생성\n",
    "        for stock_code, predicted_rating in order_prediction_dict[customer_id].items():\n",
    "            if stock_code not in total_prediction_dict[customer_id]:\n",
    "                total_prediction_dict[customer_id][stock_code] = predicted_rating\n",
    "    return total_prediction_dict\n",
    "\n",
    "total_order_prediction_dict = converge_dict(re_order_prediction_dict, converge_dict(new_order_prediction_dict, total_prediction_dict))\n",
    "\n",
    "print(str(total_order_prediction_dict)[:300] + \" ...\")"
   ]
  },
  {
   "cell_type": "code",
   "execution_count": 45,
   "id": "1f58ea11",
   "metadata": {},
   "outputs": [
    {
     "data": {
      "text/html": [
       "<div>\n",
       "<style scoped>\n",
       "    .dataframe tbody tr th:only-of-type {\n",
       "        vertical-align: middle;\n",
       "    }\n",
       "\n",
       "    .dataframe tbody tr th {\n",
       "        vertical-align: top;\n",
       "    }\n",
       "\n",
       "    .dataframe thead th {\n",
       "        text-align: right;\n",
       "    }\n",
       "</style>\n",
       "<table border=\"1\" class=\"dataframe\">\n",
       "  <thead>\n",
       "    <tr style=\"text-align: right;\">\n",
       "      <th></th>\n",
       "      <th>CustomerID</th>\n",
       "      <th>RealOrdered</th>\n",
       "    </tr>\n",
       "  </thead>\n",
       "  <tbody>\n",
       "    <tr>\n",
       "      <th>0</th>\n",
       "      <td>12347</td>\n",
       "      <td>{23084, 23508, 20719, 21265, 21064, 23506, 235...</td>\n",
       "    </tr>\n",
       "    <tr>\n",
       "      <th>1</th>\n",
       "      <td>12349</td>\n",
       "      <td>{35970, 23113, 20685, 22601, 22059, 23439, 229...</td>\n",
       "    </tr>\n",
       "    <tr>\n",
       "      <th>2</th>\n",
       "      <td>12352</td>\n",
       "      <td>{23088, 23368, 23089, 23367, 22178, 22978, 226...</td>\n",
       "    </tr>\n",
       "    <tr>\n",
       "      <th>3</th>\n",
       "      <td>12356</td>\n",
       "      <td>{21843, 22423}</td>\n",
       "    </tr>\n",
       "    <tr>\n",
       "      <th>4</th>\n",
       "      <td>12357</td>\n",
       "      <td>{37449, 22714, 21555, 22027, 22333, 22726, 215...</td>\n",
       "    </tr>\n",
       "  </tbody>\n",
       "</table>\n",
       "</div>"
      ],
      "text/plain": [
       "  CustomerID                                        RealOrdered\n",
       "0      12347  {23084, 23508, 20719, 21265, 21064, 23506, 235...\n",
       "1      12349  {35970, 23113, 20685, 22601, 22059, 23439, 229...\n",
       "2      12352  {23088, 23368, 23089, 23367, 22178, 22978, 226...\n",
       "3      12356                                     {21843, 22423}\n",
       "4      12357  {37449, 22714, 21555, 22027, 22333, 22726, 215..."
      ]
     },
     "execution_count": 45,
     "metadata": {},
     "output_type": "execute_result"
    }
   ],
   "source": [
    "# 11월 이후의 데이터를 테스트 데이터셋으로 사용\n",
    "simulation_test_df = df_year_end.groupby('CustomerID')['StockCode'].apply(set).reset_index()\n",
    "simulation_test_df.columns = ['CustomerID', 'RealOrdered']\n",
    "simulation_test_df.head()"
   ]
  },
  {
   "cell_type": "code",
   "execution_count": 46,
   "id": "a359fa9b",
   "metadata": {},
   "outputs": [],
   "source": [
    "# 시뮬레이션 결과 추출\n",
    "def add_predicted_stock_set(customer_id, prediction_dict):\n",
    "    if customer_id in prediction_dict:\n",
    "        # {stock_code : Rating}\n",
    "        predicted_stock_dict = prediction_dict[customer_id]\n",
    "        # 예측된 상품의 Rating이 높은 순으로 정렬\n",
    "        sorted_stocks = sorted(predicted_stock_dict, key=lambda x: predicted_stock_dict[x], reverse=True)\n",
    "        return sorted_stocks\n",
    "    else:\n",
    "        return None       "
   ]
  },
  {
   "cell_type": "code",
   "execution_count": 47,
   "id": "b486e064",
   "metadata": {},
   "outputs": [
    {
     "data": {
      "text/html": [
       "<div>\n",
       "<style scoped>\n",
       "    .dataframe tbody tr th:only-of-type {\n",
       "        vertical-align: middle;\n",
       "    }\n",
       "\n",
       "    .dataframe tbody tr th {\n",
       "        vertical-align: top;\n",
       "    }\n",
       "\n",
       "    .dataframe thead th {\n",
       "        text-align: right;\n",
       "    }\n",
       "</style>\n",
       "<table border=\"1\" class=\"dataframe\">\n",
       "  <thead>\n",
       "    <tr style=\"text-align: right;\">\n",
       "      <th></th>\n",
       "      <th>CustomerID</th>\n",
       "      <th>RealOrdered</th>\n",
       "      <th>PredictedOrder(New)</th>\n",
       "      <th>PredictedOrder(Reorder)</th>\n",
       "      <th>PredictedOrder(Total)</th>\n",
       "    </tr>\n",
       "  </thead>\n",
       "  <tbody>\n",
       "    <tr>\n",
       "      <th>0</th>\n",
       "      <td>12347</td>\n",
       "      <td>{23084, 23508, 20719, 21265, 21064, 23506, 235...</td>\n",
       "      <td>[22197, 20723, 22848, 22616, 23301, 47566, 209...</td>\n",
       "      <td>[21731, 22726, 22728, 21975, 22727, 22371, 227...</td>\n",
       "      <td>[21731, 22197, 22726, 20723, 22728, 22848, 226...</td>\n",
       "    </tr>\n",
       "    <tr>\n",
       "      <th>1</th>\n",
       "      <td>12349</td>\n",
       "      <td>{35970, 23113, 20685, 22601, 22059, 23439, 229...</td>\n",
       "      <td>None</td>\n",
       "      <td>None</td>\n",
       "      <td>None</td>\n",
       "    </tr>\n",
       "    <tr>\n",
       "      <th>2</th>\n",
       "      <td>12352</td>\n",
       "      <td>{23088, 23368, 23089, 23367, 22178, 22978, 226...</td>\n",
       "      <td>[84086B, 90119, 85131B, 21655, 90042A, 72709, ...</td>\n",
       "      <td>[22423, 22779, 22617, 22701, 22780, 22138, 227...</td>\n",
       "      <td>[84086B, 90119, 85131B, 21655, 90042A, 72709, ...</td>\n",
       "    </tr>\n",
       "    <tr>\n",
       "      <th>3</th>\n",
       "      <td>12356</td>\n",
       "      <td>{21843, 22423}</td>\n",
       "      <td>[84086B, 90119, 85131B, 90042A, 90035A, 85099B...</td>\n",
       "      <td>[22423, 22649, 22131, 84380, 22699, 21843, 210...</td>\n",
       "      <td>[84086B, 90119, 85131B, 90042A, 90035A, 85099B...</td>\n",
       "    </tr>\n",
       "    <tr>\n",
       "      <th>4</th>\n",
       "      <td>12357</td>\n",
       "      <td>{37449, 22714, 21555, 22027, 22333, 22726, 215...</td>\n",
       "      <td>None</td>\n",
       "      <td>None</td>\n",
       "      <td>None</td>\n",
       "    </tr>\n",
       "  </tbody>\n",
       "</table>\n",
       "</div>"
      ],
      "text/plain": [
       "  CustomerID                                        RealOrdered  \\\n",
       "0      12347  {23084, 23508, 20719, 21265, 21064, 23506, 235...   \n",
       "1      12349  {35970, 23113, 20685, 22601, 22059, 23439, 229...   \n",
       "2      12352  {23088, 23368, 23089, 23367, 22178, 22978, 226...   \n",
       "3      12356                                     {21843, 22423}   \n",
       "4      12357  {37449, 22714, 21555, 22027, 22333, 22726, 215...   \n",
       "\n",
       "                                 PredictedOrder(New)  \\\n",
       "0  [22197, 20723, 22848, 22616, 23301, 47566, 209...   \n",
       "1                                               None   \n",
       "2  [84086B, 90119, 85131B, 21655, 90042A, 72709, ...   \n",
       "3  [84086B, 90119, 85131B, 90042A, 90035A, 85099B...   \n",
       "4                                               None   \n",
       "\n",
       "                             PredictedOrder(Reorder)  \\\n",
       "0  [21731, 22726, 22728, 21975, 22727, 22371, 227...   \n",
       "1                                               None   \n",
       "2  [22423, 22779, 22617, 22701, 22780, 22138, 227...   \n",
       "3  [22423, 22649, 22131, 84380, 22699, 21843, 210...   \n",
       "4                                               None   \n",
       "\n",
       "                               PredictedOrder(Total)  \n",
       "0  [21731, 22197, 22726, 20723, 22728, 22848, 226...  \n",
       "1                                               None  \n",
       "2  [84086B, 90119, 85131B, 21655, 90042A, 72709, ...  \n",
       "3  [84086B, 90119, 85131B, 90042A, 90035A, 85099B...  \n",
       "4                                               None  "
      ]
     },
     "execution_count": 47,
     "metadata": {},
     "output_type": "execute_result"
    }
   ],
   "source": [
    "# 상품 추천 시뮬레이션 결과 추출\n",
    "simulation_test_df['PredictedOrder(New)'] = simulation_test_df['CustomerID'].apply(lambda x: add_predicted_stock_set(x, new_order_prediction_dict))\n",
    "simulation_test_df['PredictedOrder(Reorder)'] = simulation_test_df['CustomerID'].apply(lambda x: add_predicted_stock_set(x, re_order_prediction_dict))\n",
    "simulation_test_df['PredictedOrder(Total)'] = simulation_test_df['CustomerID'].apply(lambda x: add_predicted_stock_set(x, total_order_prediction_dict))\n",
    "\n",
    "simulation_test_df.head()"
   ]
  },
  {
   "cell_type": "code",
   "execution_count": 48,
   "id": "6130841c",
   "metadata": {},
   "outputs": [],
   "source": [
    "# 상품 추천 평가 기준 정의 : 구매 예측한 k개의 recall(재현율)을 평가 기준으로 정의\n",
    "def calculate_recall(real_order, predicted_order, k):\n",
    "    # 만약 추천 대상이 없다면, 11월 이후에 상품을 처음 구매하는 유저임\n",
    "    if predicted_order is None:\n",
    "        return None\n",
    "    \n",
    "    # SVD 모델에서 현재 유저의 Rating이 높은 상위 k개의 상품 '구매할 것으로 예측'\n",
    "    predicted = predicted_order[:k]\n",
    "    true_positive = 0\n",
    "    # 구매할 것으로 예측한 stock_code 중\n",
    "    for stock_code in predicted:\n",
    "        # 실제 order에 들어 있는 stock_code\n",
    "        if stock_code in real_order:\n",
    "            true_positive += 1\n",
    "    \n",
    "    recall = true_positive / len(predicted)\n",
    "    return recall"
   ]
  },
  {
   "cell_type": "code",
   "execution_count": 49,
   "id": "0373adde",
   "metadata": {},
   "outputs": [],
   "source": [
    "# 시뮬레이션 대상 유저에게 상품 추천해준 결과 평가\n",
    "simulation_test_df['top_k_recall(New)'] = simulation_test_df.apply(lambda x: calculate_recall(x['RealOrdered'], x['PredictedOrder(New)'], 5), axis=1)\n",
    "simulation_test_df['top_k_recall(Reorder)'] = simulation_test_df.apply(lambda x: calculate_recall(x['RealOrdered'], x['PredictedOrder(Reorder)'], 5), axis=1)\n",
    "simulation_test_df['top_k_recall(Total)'] = simulation_test_df.apply(lambda x: calculate_recall(x['RealOrdered'], x['PredictedOrder(Total)'], 5), axis=1)"
   ]
  },
  {
   "cell_type": "code",
   "execution_count": 51,
   "id": "3fe8b387",
   "metadata": {},
   "outputs": [
    {
     "name": "stdout",
     "output_type": "stream",
     "text": [
      "0.007402597402597403\n",
      "0.31464285714285717\n",
      "0.07090909090909091\n"
     ]
    }
   ],
   "source": [
    "print(simulation_test_df['top_k_recall(New)'].mean())\n",
    "print(simulation_test_df['top_k_recall(Reorder)'].mean()) # 가장 예측 확률 높음\n",
    "print(simulation_test_df['top_k_recall(Total)'].mean())"
   ]
  },
  {
   "cell_type": "code",
   "execution_count": 52,
   "id": "51bc6269",
   "metadata": {},
   "outputs": [
    {
     "data": {
      "text/plain": [
       "0.000000    462\n",
       "0.200000    390\n",
       "0.400000    292\n",
       "0.600000    178\n",
       "0.800000    124\n",
       "1.000000     75\n",
       "0.500000      7\n",
       "0.250000      6\n",
       "0.666667      4\n",
       "0.750000      1\n",
       "0.333333      1\n",
       "Name: top_k_recall(Reorder), dtype: int64"
      ]
     },
     "execution_count": 52,
     "metadata": {},
     "output_type": "execute_result"
    }
   ],
   "source": [
    "# 평가 결과 점수 기준 살펴보기 : 재구매 기준\n",
    "simulation_test_df['top_k_recall(Reorder)'].value_counts()"
   ]
  },
  {
   "cell_type": "code",
   "execution_count": 53,
   "id": "d53fea32",
   "metadata": {},
   "outputs": [
    {
     "data": {
      "text/plain": [
       "0.0    1488\n",
       "0.2      49\n",
       "0.4       2\n",
       "0.8       1\n",
       "Name: top_k_recall(New), dtype: int64"
      ]
     },
     "execution_count": 53,
     "metadata": {},
     "output_type": "execute_result"
    }
   ],
   "source": [
    "# 평가 결과 점수 기준 살펴보기 : 구매하지 않은 사람들 기준\n",
    "simulation_test_df['top_k_recall(New)'].value_counts()"
   ]
  },
  {
   "cell_type": "code",
   "execution_count": 54,
   "id": "eb0aee07",
   "metadata": {},
   "outputs": [
    {
     "data": {
      "text/plain": [
       "0.0    1219\n",
       "0.2     186\n",
       "0.4      77\n",
       "0.6      33\n",
       "0.8      18\n",
       "1.0       7\n",
       "Name: top_k_recall(Total), dtype: int64"
      ]
     },
     "execution_count": 54,
     "metadata": {},
     "output_type": "execute_result"
    }
   ],
   "source": [
    "# 평가 결과 점수 기준 살펴보기 : 모든 사람들 기준\n",
    "simulation_test_df['top_k_recall(Total)'].value_counts()"
   ]
  },
  {
   "cell_type": "code",
   "execution_count": 55,
   "id": "71da802d",
   "metadata": {},
   "outputs": [
    {
     "data": {
      "text/html": [
       "<div>\n",
       "<style scoped>\n",
       "    .dataframe tbody tr th:only-of-type {\n",
       "        vertical-align: middle;\n",
       "    }\n",
       "\n",
       "    .dataframe tbody tr th {\n",
       "        vertical-align: top;\n",
       "    }\n",
       "\n",
       "    .dataframe thead tr th {\n",
       "        text-align: left;\n",
       "    }\n",
       "</style>\n",
       "<table border=\"1\" class=\"dataframe\">\n",
       "  <thead>\n",
       "    <tr>\n",
       "      <th></th>\n",
       "      <th>구매자ID</th>\n",
       "      <th>실제주문</th>\n",
       "      <th>5개 추천결과</th>\n",
       "      <th>Top5 추천_주문제한도</th>\n",
       "    </tr>\n",
       "  </thead>\n",
       "  <tbody>\n",
       "    <tr>\n",
       "      <th>1025</th>\n",
       "      <td>15532</td>\n",
       "      <td>{22059, 16235, 22835, 22483, 21428, 21107, 233...</td>\n",
       "      <td>[84912B, 17012D, 72800C, 22834, 17012F]</td>\n",
       "      <td>0.0</td>\n",
       "    </tr>\n",
       "    <tr>\n",
       "      <th>1886</th>\n",
       "      <td>18223</td>\n",
       "      <td>{21137, 21181, 22726, 82600, 23497, 23493, 233...</td>\n",
       "      <td>[85152, 47566, 20914, 21181, 22659]</td>\n",
       "      <td>0.2</td>\n",
       "    </tr>\n",
       "    <tr>\n",
       "      <th>267</th>\n",
       "      <td>13117</td>\n",
       "      <td>{22153, 23058, 22579, 21793, 22457, 35953, 206...</td>\n",
       "      <td>[47566, 84945, 21128, 84879, 71459]</td>\n",
       "      <td>0.0</td>\n",
       "    </tr>\n",
       "    <tr>\n",
       "      <th>1056</th>\n",
       "      <td>15615</td>\n",
       "      <td>{23129, 23681, 22411, 22945, 22841, 23355, 233...</td>\n",
       "      <td>[85099B, 22386, 47566, 85099C, 21931]</td>\n",
       "      <td>1.0</td>\n",
       "    </tr>\n",
       "    <tr>\n",
       "      <th>1363</th>\n",
       "      <td>16668</td>\n",
       "      <td>{21790, 23280, 22536}</td>\n",
       "      <td>[21790, 23280, 21260, 23282, 85053]</td>\n",
       "      <td>0.4</td>\n",
       "    </tr>\n",
       "  </tbody>\n",
       "</table>\n",
       "</div>"
      ],
      "text/plain": [
       "      구매자ID                                               실제주문  \\\n",
       "1025  15532  {22059, 16235, 22835, 22483, 21428, 21107, 233...   \n",
       "1886  18223  {21137, 21181, 22726, 82600, 23497, 23493, 233...   \n",
       "267   13117  {22153, 23058, 22579, 21793, 22457, 35953, 206...   \n",
       "1056  15615  {23129, 23681, 22411, 22945, 22841, 23355, 233...   \n",
       "1363  16668                              {21790, 23280, 22536}   \n",
       "\n",
       "                                      5개 추천결과 Top5 추천_주문제한도  \n",
       "1025  [84912B, 17012D, 72800C, 22834, 17012F]           0.0  \n",
       "1886      [85152, 47566, 20914, 21181, 22659]           0.2  \n",
       "267       [47566, 84945, 21128, 84879, 71459]           0.0  \n",
       "1056    [85099B, 22386, 47566, 85099C, 21931]           1.0  \n",
       "1363      [21790, 23280, 21260, 23282, 85053]           0.4  "
      ]
     },
     "execution_count": 55,
     "metadata": {},
     "output_type": "execute_result"
    }
   ],
   "source": [
    "# 시뮬레이션 최종 결과 정리\n",
    "k = 5\n",
    "result_df = simulation_test_df[simulation_test_df['PredictedOrder(Reorder)'].notnull()]\n",
    "result_df['PredictedOrder(Reorder)'] = result_df['PredictedOrder(Reorder)'].apply(lambda x: x[:k])  # top 5\n",
    "result_df = result_df[['CustomerID', 'RealOrdered', 'PredictedOrder(Reorder)', 'top_k_recall(Reorder)']]\n",
    "result_df.columns = [['구매자ID', '실제주문', '5개 추천결과', 'Top5 추천_주문제한도']]\n",
    "result_df.sample(5).head()"
   ]
  },
  {
   "cell_type": "code",
   "execution_count": null,
   "id": "ec794969",
   "metadata": {},
   "outputs": [],
   "source": []
  }
 ],
 "metadata": {
  "kernelspec": {
   "display_name": "Python 3 (ipykernel)",
   "language": "python",
   "name": "python3"
  },
  "language_info": {
   "codemirror_mode": {
    "name": "ipython",
    "version": 3
   },
   "file_extension": ".py",
   "mimetype": "text/x-python",
   "name": "python",
   "nbconvert_exporter": "python",
   "pygments_lexer": "ipython3",
   "version": "3.10.9"
  }
 },
 "nbformat": 4,
 "nbformat_minor": 5
}
