{
 "cells": [
  {
   "cell_type": "code",
   "execution_count": 1,
   "id": "bb8eee85",
   "metadata": {},
   "outputs": [
    {
     "name": "stderr",
     "output_type": "stream",
     "text": [
      "C:\\Users\\yelin\\AppData\\Local\\Temp\\ipykernel_15420\\543068560.py:17: DeprecationWarning: executable_path has been deprecated, please pass in a Service object\n",
      "  driver = webdriver.Chrome(window_path)  # for Windows\n"
     ]
    }
   ],
   "source": [
    "from selenium import webdriver\n",
    "from bs4 import BeautifulSoup\n",
    "import re\n",
    "\n",
    "# brew 로 설치된 chromedriver의 path (Mac)\n",
    "mac_path = \"/usr/local/bin/chromedriver\"  # m1 이전 맥 OS\n",
    "# mac_path = \"/opt/homebrew/bin/chromedriver\"  # m1 이후 맥 OS\n",
    "\n",
    "# 윈도우용 크롬 웹드라이버 실행 경로 (Windows)\n",
    "window_path = \"chromedriver.exe\"\n",
    "\n",
    "# 크롤링할 사이트 주소를 입력합니다.\n",
    "source_url = \"https://news.naver.com/main/main.naver?mode=LSD&mid=shm&sid1=100\"\n",
    "\n",
    "# 사이트의 html 구조에 기반하여 크롤링을 수행합니다.\n",
    "#driver = webdriver.Chrome(mac_path)  # for Mac\n",
    "driver = webdriver.Chrome(window_path)  # for Windows\n",
    "driver.get(source_url)\n",
    "req = driver.page_source\n",
    "soup = BeautifulSoup(req, \"html.parser\")\n",
    "cluster_text = soup.find_all(name=\"div\", attrs={\"class\":\"cluster_text\"})"
   ]
  },
  {
   "cell_type": "code",
   "execution_count": 2,
   "id": "0cb5f772",
   "metadata": {},
   "outputs": [
    {
     "name": "stdout",
     "output_type": "stream",
     "text": [
      "https://n.news.naver.com/mnews/article/003/0011753869?sid=100\n",
      "https://n.news.naver.com/mnews/article/277/0005233753?sid=100\n",
      "https://n.news.naver.com/mnews/article/057/0001730079?sid=100\n",
      "https://n.news.naver.com/mnews/article/016/0002119058?sid=100\n",
      "https://n.news.naver.com/mnews/article/088/0000804432?sid=100\n"
     ]
    }
   ],
   "source": [
    "# a태그의 href 속성을 리스트로 추출하여, 크롤링 할 페이지 리스트를 생성합니다.\n",
    "page_urls = []\n",
    "for index in range(0, len(cluster_text)):\n",
    "    cluster = cluster_text[index]\n",
    "    news_url = cluster.find(name=\"a\", attrs={\"class\":\"cluster_text_headline nclicks(cls_pol.clsart)\"})\n",
    "    if news_url is not None:\n",
    "        page_urls.append(news_url.get(\"href\"))\n",
    "\n",
    "# 중복 url을 제거합니다.\n",
    "page_urls = list(set(page_urls))\n",
    "\n",
    "# 다섯 개의 페이지를 출력합니다.\n",
    "for page in page_urls[:5]:\n",
    "    print(page)\n",
    "\n",
    "# 크롤링에 사용한 브라우저를 종료합니다.\n",
    "driver.close()"
   ]
  },
  {
   "cell_type": "code",
   "execution_count": 3,
   "id": "5d8a1ae9",
   "metadata": {},
   "outputs": [
    {
     "name": "stderr",
     "output_type": "stream",
     "text": [
      "C:\\Users\\yelin\\AppData\\Local\\Temp\\ipykernel_15420\\1208160076.py:2: DeprecationWarning: executable_path has been deprecated, please pass in a Service object\n",
      "  driver = webdriver.Chrome(window_path)  # for Windows\n"
     ]
    },
    {
     "name": "stdout",
     "output_type": "stream",
     "text": [
      "이재명, SVB 사태에 \"韓 유사 현상 발생 가능성 높아…정부 역할 중요\"\n",
      "\n",
      "\n",
      "\n",
      "\n",
      "기사내용 요약\"정부, 시장 불안 없애고 신뢰 유지하는 역할\" \"모태펀드 예산 늘려야…정책금융 확대 검토\"\n",
      "\n",
      "\n",
      "\n",
      "[서울=뉴시스] 이영환 기자 = 이재명 더불어민주당 대표가 20일 오전 서울 여의도 국회에서 열린 최고위원회의에서 발언을 하고 있다. 2023.03.20. 20hwan@newsis.com[서울=뉴시스] 이승재 하지현 기자 = 이재명 더불어민주당 대표는 21일 미국 실리콘밸리은행(SVB) 붕괴 사태로 촉발된 금융 불안에 대해 \"앞으로 우리 경제에 이런 유사한 현상이 발생할 가능성이 높아 보인다\"고 밝혔다.이 대표는 이날 서울 강남구 팁스타운S6에서 열린 '미 SVB 사태 대응 벤처·스타트업 업계 간담회'에 참석해 \"벤처·스타트업의 올해 통계를 보니 1월 신규 벤처 투자액이 2579억원인데 작년 같은 기간 1조6400억원에 비하면 80% 이상 급감했다. 거의 가뭄이라 봐야 될 것 같다\"고 말했다.또 \"벤처·스타트업들이 자금 부문에서 매우 어려움을 겪는다\"며 \"듣기로는 성공 확률이 약 3% 정도에 불과하다는데, 나머지 97% 가까이는 실제로 위험에 처한 것\"이라고 진단했다.이어 \"어쩌면 자연스러운 현상일 수 있는데 이때 가장 중요한 게 정부의 역할\"이라며 \"비효율을 제거하고 특정한 방향으로 산업 발전을 유도하고, 특히 가장 중요하게 생각하는 정부의 기능은 불안을 없애는 것, 신뢰를 유지하는 것\"이라고 덧붙였다.정부가 정책금융을 확대해 벤처·스타트업을 지원해야 한다는 주장도 이어졌다.이 대표는 \"아쉬운 것은 올해 모태펀드 예산이 40% 삭감된 것이다. 사실은 4배로 늘려도 부족할 판인데 정부의 정책 방향·방침을 도저히 납득하기 어렵다\"며 \"경제를 보는 시각이 없다는 것을 보여준 상징적인 사례\"라고 지적했다.그러면서 \"민주당에서도 모태펀드 예산을 복귀하거나 늘려나가는 정책금융을 확대하는 방향을 진지하게 검토하고 추진하겠다\"고 덧붙였다.경제 전망에 대해서는 \"우리 사회 금융 불안이 매우 심각한 상태인데, 아직은 그 피해가 현실화되지는 않은 것 같다\"며 \"그러나 몇 달 이내에 상당히 심각한 상황이 도래할 수 있다는 일반적인 예측들이 있다\"고 언급했다.그는 \"특히 부동산 프로젝트파이낸싱(PF) 영역에서 금융 위기 현실화되지 않겠냐는 걱정을 하고 있다\"며 \"특정한 부문이나 영역, 회사의 불안이 전체 금융 또는 경제로 확대되지 않도록 하는 것도 정부의 역할\"이라고 했다．\n",
      "\n",
      "\n"
     ]
    }
   ],
   "source": [
    "# driver = webdriver.Chrome(mac_path)  # for Mac\n",
    "driver = webdriver.Chrome(window_path)  # for Windows\n",
    "driver.get(page_urls[0])\n",
    "req = driver.page_source\n",
    "soup = BeautifulSoup(req, 'html.parser')\n",
    "title_area = soup.find(name=\"div\", attrs={\"class\":\"media_end_head_title\"})\n",
    "title = title_area.find_all('h2')[0]\n",
    "content_paragraphs = soup.find(name=\"div\", attrs={\"class\":\"newsct_article\"})\n",
    "content_corpus = content_paragraphs.text\n",
    "\n",
    "print(title.text)\n",
    "print(\"\\n\")\n",
    "print(content_corpus)\n",
    "\n",
    "# 크롤링에 사용한 브라우저를 종료합니다.\n",
    "driver.close()"
   ]
  }
 ],
 "metadata": {
  "kernelspec": {
   "display_name": "Python 3 (ipykernel)",
   "language": "python",
   "name": "python3"
  },
  "language_info": {
   "codemirror_mode": {
    "name": "ipython",
    "version": 3
   },
   "file_extension": ".py",
   "mimetype": "text/x-python",
   "name": "python",
   "nbconvert_exporter": "python",
   "pygments_lexer": "ipython3",
   "version": "3.10.9"
  }
 },
 "nbformat": 4,
 "nbformat_minor": 5
}
