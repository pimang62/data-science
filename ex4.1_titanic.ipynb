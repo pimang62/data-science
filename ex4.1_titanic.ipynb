{
 "cells": [
  {
   "cell_type": "markdown",
   "id": "b40286c4",
   "metadata": {},
   "source": [
    "Step 1 탐색 : 타이타닉 데이터 살펴보기"
   ]
  },
  {
   "cell_type": "code",
   "execution_count": 1,
   "id": "f65f3dc7",
   "metadata": {},
   "outputs": [],
   "source": [
    "# -*- coding : utf-8 -*-\n",
    "%matplotlib inline\n",
    "\n",
    "import pandas as pd\n",
    "import numpy as np\n",
    "import matplotlib.pyplot as plt\n",
    "import seaborn as sns"
   ]
  },
  {
   "cell_type": "code",
   "execution_count": 2,
   "id": "cfd2e6fa",
   "metadata": {},
   "outputs": [],
   "source": [
    "train = pd.read_csv('../data/titanic_train.csv')\n",
    "test = pd.read_csv('../data/titanic_test.csv')"
   ]
  },
  {
   "cell_type": "code",
   "execution_count": 3,
   "id": "4194b917",
   "metadata": {},
   "outputs": [
    {
     "data": {
      "text/html": [
       "<div>\n",
       "<style scoped>\n",
       "    .dataframe tbody tr th:only-of-type {\n",
       "        vertical-align: middle;\n",
       "    }\n",
       "\n",
       "    .dataframe tbody tr th {\n",
       "        vertical-align: top;\n",
       "    }\n",
       "\n",
       "    .dataframe thead th {\n",
       "        text-align: right;\n",
       "    }\n",
       "</style>\n",
       "<table border=\"1\" class=\"dataframe\">\n",
       "  <thead>\n",
       "    <tr style=\"text-align: right;\">\n",
       "      <th></th>\n",
       "      <th>pclass</th>\n",
       "      <th>survived</th>\n",
       "      <th>name</th>\n",
       "      <th>sex</th>\n",
       "      <th>age</th>\n",
       "      <th>sibsp</th>\n",
       "      <th>parch</th>\n",
       "      <th>ticket</th>\n",
       "      <th>fare</th>\n",
       "      <th>cabin</th>\n",
       "      <th>embarked</th>\n",
       "      <th>body</th>\n",
       "      <th>home.dest</th>\n",
       "    </tr>\n",
       "  </thead>\n",
       "  <tbody>\n",
       "    <tr>\n",
       "      <th>0</th>\n",
       "      <td>2</td>\n",
       "      <td>1</td>\n",
       "      <td>Mellinger, Miss. Madeleine Violet</td>\n",
       "      <td>female</td>\n",
       "      <td>13.00</td>\n",
       "      <td>0</td>\n",
       "      <td>1</td>\n",
       "      <td>250644</td>\n",
       "      <td>19.5000</td>\n",
       "      <td>NaN</td>\n",
       "      <td>S</td>\n",
       "      <td>NaN</td>\n",
       "      <td>England / Bennington, VT</td>\n",
       "    </tr>\n",
       "    <tr>\n",
       "      <th>1</th>\n",
       "      <td>2</td>\n",
       "      <td>1</td>\n",
       "      <td>Wells, Miss. Joan</td>\n",
       "      <td>female</td>\n",
       "      <td>4.00</td>\n",
       "      <td>1</td>\n",
       "      <td>1</td>\n",
       "      <td>29103</td>\n",
       "      <td>23.0000</td>\n",
       "      <td>NaN</td>\n",
       "      <td>S</td>\n",
       "      <td>NaN</td>\n",
       "      <td>Cornwall / Akron, OH</td>\n",
       "    </tr>\n",
       "    <tr>\n",
       "      <th>2</th>\n",
       "      <td>2</td>\n",
       "      <td>1</td>\n",
       "      <td>Duran y More, Miss. Florentina</td>\n",
       "      <td>female</td>\n",
       "      <td>30.00</td>\n",
       "      <td>1</td>\n",
       "      <td>0</td>\n",
       "      <td>SC/PARIS 2148</td>\n",
       "      <td>13.8583</td>\n",
       "      <td>NaN</td>\n",
       "      <td>C</td>\n",
       "      <td>NaN</td>\n",
       "      <td>Barcelona, Spain / Havana, Cuba</td>\n",
       "    </tr>\n",
       "    <tr>\n",
       "      <th>3</th>\n",
       "      <td>3</td>\n",
       "      <td>0</td>\n",
       "      <td>Scanlan, Mr. James</td>\n",
       "      <td>male</td>\n",
       "      <td>NaN</td>\n",
       "      <td>0</td>\n",
       "      <td>0</td>\n",
       "      <td>36209</td>\n",
       "      <td>7.7250</td>\n",
       "      <td>NaN</td>\n",
       "      <td>Q</td>\n",
       "      <td>NaN</td>\n",
       "      <td>NaN</td>\n",
       "    </tr>\n",
       "    <tr>\n",
       "      <th>4</th>\n",
       "      <td>3</td>\n",
       "      <td>1</td>\n",
       "      <td>Bradley, Miss. Bridget Delia</td>\n",
       "      <td>female</td>\n",
       "      <td>22.00</td>\n",
       "      <td>0</td>\n",
       "      <td>0</td>\n",
       "      <td>334914</td>\n",
       "      <td>7.7250</td>\n",
       "      <td>NaN</td>\n",
       "      <td>Q</td>\n",
       "      <td>NaN</td>\n",
       "      <td>Kingwilliamstown, Co Cork, Ireland Glens Falls...</td>\n",
       "    </tr>\n",
       "    <tr>\n",
       "      <th>...</th>\n",
       "      <td>...</td>\n",
       "      <td>...</td>\n",
       "      <td>...</td>\n",
       "      <td>...</td>\n",
       "      <td>...</td>\n",
       "      <td>...</td>\n",
       "      <td>...</td>\n",
       "      <td>...</td>\n",
       "      <td>...</td>\n",
       "      <td>...</td>\n",
       "      <td>...</td>\n",
       "      <td>...</td>\n",
       "      <td>...</td>\n",
       "    </tr>\n",
       "    <tr>\n",
       "      <th>911</th>\n",
       "      <td>3</td>\n",
       "      <td>1</td>\n",
       "      <td>Dean, Miss. Elizabeth Gladys \"Millvina\"</td>\n",
       "      <td>female</td>\n",
       "      <td>0.17</td>\n",
       "      <td>1</td>\n",
       "      <td>2</td>\n",
       "      <td>C.A. 2315</td>\n",
       "      <td>20.5750</td>\n",
       "      <td>NaN</td>\n",
       "      <td>S</td>\n",
       "      <td>NaN</td>\n",
       "      <td>Devon, England Wichita, KS</td>\n",
       "    </tr>\n",
       "    <tr>\n",
       "      <th>912</th>\n",
       "      <td>3</td>\n",
       "      <td>0</td>\n",
       "      <td>Guest, Mr. Robert</td>\n",
       "      <td>male</td>\n",
       "      <td>NaN</td>\n",
       "      <td>0</td>\n",
       "      <td>0</td>\n",
       "      <td>376563</td>\n",
       "      <td>8.0500</td>\n",
       "      <td>NaN</td>\n",
       "      <td>S</td>\n",
       "      <td>NaN</td>\n",
       "      <td>NaN</td>\n",
       "    </tr>\n",
       "    <tr>\n",
       "      <th>913</th>\n",
       "      <td>3</td>\n",
       "      <td>1</td>\n",
       "      <td>Smyth, Miss. Julia</td>\n",
       "      <td>female</td>\n",
       "      <td>NaN</td>\n",
       "      <td>0</td>\n",
       "      <td>0</td>\n",
       "      <td>335432</td>\n",
       "      <td>7.7333</td>\n",
       "      <td>NaN</td>\n",
       "      <td>Q</td>\n",
       "      <td>NaN</td>\n",
       "      <td>NaN</td>\n",
       "    </tr>\n",
       "    <tr>\n",
       "      <th>914</th>\n",
       "      <td>2</td>\n",
       "      <td>1</td>\n",
       "      <td>Sincock, Miss. Maude</td>\n",
       "      <td>female</td>\n",
       "      <td>20.00</td>\n",
       "      <td>0</td>\n",
       "      <td>0</td>\n",
       "      <td>C.A. 33112</td>\n",
       "      <td>36.7500</td>\n",
       "      <td>NaN</td>\n",
       "      <td>S</td>\n",
       "      <td>NaN</td>\n",
       "      <td>Cornwall / Hancock, MI</td>\n",
       "    </tr>\n",
       "    <tr>\n",
       "      <th>915</th>\n",
       "      <td>3</td>\n",
       "      <td>0</td>\n",
       "      <td>Bourke, Mrs. John (Catherine)</td>\n",
       "      <td>female</td>\n",
       "      <td>32.00</td>\n",
       "      <td>1</td>\n",
       "      <td>1</td>\n",
       "      <td>364849</td>\n",
       "      <td>15.5000</td>\n",
       "      <td>NaN</td>\n",
       "      <td>Q</td>\n",
       "      <td>NaN</td>\n",
       "      <td>Ireland Chicago, IL</td>\n",
       "    </tr>\n",
       "  </tbody>\n",
       "</table>\n",
       "<p>916 rows × 13 columns</p>\n",
       "</div>"
      ],
      "text/plain": [
       "     pclass  survived                                     name     sex    age  \\\n",
       "0         2         1        Mellinger, Miss. Madeleine Violet  female  13.00   \n",
       "1         2         1                        Wells, Miss. Joan  female   4.00   \n",
       "2         2         1           Duran y More, Miss. Florentina  female  30.00   \n",
       "3         3         0                       Scanlan, Mr. James    male    NaN   \n",
       "4         3         1             Bradley, Miss. Bridget Delia  female  22.00   \n",
       "..      ...       ...                                      ...     ...    ...   \n",
       "911       3         1  Dean, Miss. Elizabeth Gladys \"Millvina\"  female   0.17   \n",
       "912       3         0                        Guest, Mr. Robert    male    NaN   \n",
       "913       3         1                       Smyth, Miss. Julia  female    NaN   \n",
       "914       2         1                     Sincock, Miss. Maude  female  20.00   \n",
       "915       3         0            Bourke, Mrs. John (Catherine)  female  32.00   \n",
       "\n",
       "     sibsp  parch         ticket     fare cabin embarked  body  \\\n",
       "0        0      1         250644  19.5000   NaN        S   NaN   \n",
       "1        1      1          29103  23.0000   NaN        S   NaN   \n",
       "2        1      0  SC/PARIS 2148  13.8583   NaN        C   NaN   \n",
       "3        0      0          36209   7.7250   NaN        Q   NaN   \n",
       "4        0      0         334914   7.7250   NaN        Q   NaN   \n",
       "..     ...    ...            ...      ...   ...      ...   ...   \n",
       "911      1      2      C.A. 2315  20.5750   NaN        S   NaN   \n",
       "912      0      0         376563   8.0500   NaN        S   NaN   \n",
       "913      0      0         335432   7.7333   NaN        Q   NaN   \n",
       "914      0      0     C.A. 33112  36.7500   NaN        S   NaN   \n",
       "915      1      1         364849  15.5000   NaN        Q   NaN   \n",
       "\n",
       "                                             home.dest  \n",
       "0                             England / Bennington, VT  \n",
       "1                                 Cornwall / Akron, OH  \n",
       "2                      Barcelona, Spain / Havana, Cuba  \n",
       "3                                                  NaN  \n",
       "4    Kingwilliamstown, Co Cork, Ireland Glens Falls...  \n",
       "..                                                 ...  \n",
       "911                         Devon, England Wichita, KS  \n",
       "912                                                NaN  \n",
       "913                                                NaN  \n",
       "914                             Cornwall / Hancock, MI  \n",
       "915                                Ireland Chicago, IL  \n",
       "\n",
       "[916 rows x 13 columns]"
      ]
     },
     "execution_count": 3,
     "metadata": {},
     "output_type": "execute_result"
    }
   ],
   "source": [
    "train"
   ]
  },
  {
   "cell_type": "code",
   "execution_count": 4,
   "id": "6bb455ba",
   "metadata": {},
   "outputs": [
    {
     "data": {
      "text/html": [
       "<div>\n",
       "<style scoped>\n",
       "    .dataframe tbody tr th:only-of-type {\n",
       "        vertical-align: middle;\n",
       "    }\n",
       "\n",
       "    .dataframe tbody tr th {\n",
       "        vertical-align: top;\n",
       "    }\n",
       "\n",
       "    .dataframe thead th {\n",
       "        text-align: right;\n",
       "    }\n",
       "</style>\n",
       "<table border=\"1\" class=\"dataframe\">\n",
       "  <thead>\n",
       "    <tr style=\"text-align: right;\">\n",
       "      <th></th>\n",
       "      <th>pclass</th>\n",
       "      <th>survived</th>\n",
       "      <th>name</th>\n",
       "      <th>sex</th>\n",
       "      <th>age</th>\n",
       "      <th>sibsp</th>\n",
       "      <th>parch</th>\n",
       "      <th>ticket</th>\n",
       "      <th>fare</th>\n",
       "      <th>cabin</th>\n",
       "      <th>embarked</th>\n",
       "      <th>body</th>\n",
       "      <th>home.dest</th>\n",
       "    </tr>\n",
       "  </thead>\n",
       "  <tbody>\n",
       "    <tr>\n",
       "      <th>0</th>\n",
       "      <td>3</td>\n",
       "      <td>0</td>\n",
       "      <td>Rekic, Mr. Tido</td>\n",
       "      <td>male</td>\n",
       "      <td>38.0</td>\n",
       "      <td>0</td>\n",
       "      <td>0</td>\n",
       "      <td>349249</td>\n",
       "      <td>7.8958</td>\n",
       "      <td>NaN</td>\n",
       "      <td>S</td>\n",
       "      <td>NaN</td>\n",
       "      <td>NaN</td>\n",
       "    </tr>\n",
       "    <tr>\n",
       "      <th>1</th>\n",
       "      <td>2</td>\n",
       "      <td>1</td>\n",
       "      <td>Phillips, Miss. Alice Frances Louisa</td>\n",
       "      <td>female</td>\n",
       "      <td>21.0</td>\n",
       "      <td>0</td>\n",
       "      <td>1</td>\n",
       "      <td>S.O./P.P. 2</td>\n",
       "      <td>21.0000</td>\n",
       "      <td>NaN</td>\n",
       "      <td>S</td>\n",
       "      <td>NaN</td>\n",
       "      <td>Ilfracombe, Devon</td>\n",
       "    </tr>\n",
       "    <tr>\n",
       "      <th>2</th>\n",
       "      <td>2</td>\n",
       "      <td>0</td>\n",
       "      <td>Jacobsohn, Mr. Sidney Samuel</td>\n",
       "      <td>male</td>\n",
       "      <td>42.0</td>\n",
       "      <td>1</td>\n",
       "      <td>0</td>\n",
       "      <td>243847</td>\n",
       "      <td>27.0000</td>\n",
       "      <td>NaN</td>\n",
       "      <td>S</td>\n",
       "      <td>NaN</td>\n",
       "      <td>London</td>\n",
       "    </tr>\n",
       "    <tr>\n",
       "      <th>3</th>\n",
       "      <td>3</td>\n",
       "      <td>0</td>\n",
       "      <td>Risien, Mr. Samuel Beard</td>\n",
       "      <td>male</td>\n",
       "      <td>NaN</td>\n",
       "      <td>0</td>\n",
       "      <td>0</td>\n",
       "      <td>364498</td>\n",
       "      <td>14.5000</td>\n",
       "      <td>NaN</td>\n",
       "      <td>S</td>\n",
       "      <td>NaN</td>\n",
       "      <td>NaN</td>\n",
       "    </tr>\n",
       "    <tr>\n",
       "      <th>4</th>\n",
       "      <td>2</td>\n",
       "      <td>0</td>\n",
       "      <td>Denbury, Mr. Herbert</td>\n",
       "      <td>male</td>\n",
       "      <td>25.0</td>\n",
       "      <td>0</td>\n",
       "      <td>0</td>\n",
       "      <td>C.A. 31029</td>\n",
       "      <td>31.5000</td>\n",
       "      <td>NaN</td>\n",
       "      <td>S</td>\n",
       "      <td>NaN</td>\n",
       "      <td>Guernsey / Elizabeth, NJ</td>\n",
       "    </tr>\n",
       "    <tr>\n",
       "      <th>...</th>\n",
       "      <td>...</td>\n",
       "      <td>...</td>\n",
       "      <td>...</td>\n",
       "      <td>...</td>\n",
       "      <td>...</td>\n",
       "      <td>...</td>\n",
       "      <td>...</td>\n",
       "      <td>...</td>\n",
       "      <td>...</td>\n",
       "      <td>...</td>\n",
       "      <td>...</td>\n",
       "      <td>...</td>\n",
       "      <td>...</td>\n",
       "    </tr>\n",
       "    <tr>\n",
       "      <th>388</th>\n",
       "      <td>3</td>\n",
       "      <td>0</td>\n",
       "      <td>Karlsson, Mr. Julius Konrad Eugen</td>\n",
       "      <td>male</td>\n",
       "      <td>33.0</td>\n",
       "      <td>0</td>\n",
       "      <td>0</td>\n",
       "      <td>347465</td>\n",
       "      <td>7.8542</td>\n",
       "      <td>NaN</td>\n",
       "      <td>S</td>\n",
       "      <td>NaN</td>\n",
       "      <td>NaN</td>\n",
       "    </tr>\n",
       "    <tr>\n",
       "      <th>389</th>\n",
       "      <td>2</td>\n",
       "      <td>1</td>\n",
       "      <td>Ware, Mrs. John James (Florence Louise Long)</td>\n",
       "      <td>female</td>\n",
       "      <td>31.0</td>\n",
       "      <td>0</td>\n",
       "      <td>0</td>\n",
       "      <td>CA 31352</td>\n",
       "      <td>21.0000</td>\n",
       "      <td>NaN</td>\n",
       "      <td>S</td>\n",
       "      <td>NaN</td>\n",
       "      <td>Bristol, England / New Britain, CT</td>\n",
       "    </tr>\n",
       "    <tr>\n",
       "      <th>390</th>\n",
       "      <td>3</td>\n",
       "      <td>1</td>\n",
       "      <td>O'Keefe, Mr. Patrick</td>\n",
       "      <td>male</td>\n",
       "      <td>NaN</td>\n",
       "      <td>0</td>\n",
       "      <td>0</td>\n",
       "      <td>368402</td>\n",
       "      <td>7.7500</td>\n",
       "      <td>NaN</td>\n",
       "      <td>Q</td>\n",
       "      <td>NaN</td>\n",
       "      <td>NaN</td>\n",
       "    </tr>\n",
       "    <tr>\n",
       "      <th>391</th>\n",
       "      <td>3</td>\n",
       "      <td>0</td>\n",
       "      <td>Tobin, Mr. Roger</td>\n",
       "      <td>male</td>\n",
       "      <td>NaN</td>\n",
       "      <td>0</td>\n",
       "      <td>0</td>\n",
       "      <td>383121</td>\n",
       "      <td>7.7500</td>\n",
       "      <td>F38</td>\n",
       "      <td>Q</td>\n",
       "      <td>NaN</td>\n",
       "      <td>NaN</td>\n",
       "    </tr>\n",
       "    <tr>\n",
       "      <th>392</th>\n",
       "      <td>1</td>\n",
       "      <td>1</td>\n",
       "      <td>Daniels, Miss. Sarah</td>\n",
       "      <td>female</td>\n",
       "      <td>33.0</td>\n",
       "      <td>0</td>\n",
       "      <td>0</td>\n",
       "      <td>113781</td>\n",
       "      <td>151.5500</td>\n",
       "      <td>NaN</td>\n",
       "      <td>S</td>\n",
       "      <td>NaN</td>\n",
       "      <td>NaN</td>\n",
       "    </tr>\n",
       "  </tbody>\n",
       "</table>\n",
       "<p>393 rows × 13 columns</p>\n",
       "</div>"
      ],
      "text/plain": [
       "     pclass  survived                                          name     sex  \\\n",
       "0         3         0                               Rekic, Mr. Tido    male   \n",
       "1         2         1          Phillips, Miss. Alice Frances Louisa  female   \n",
       "2         2         0                  Jacobsohn, Mr. Sidney Samuel    male   \n",
       "3         3         0                      Risien, Mr. Samuel Beard    male   \n",
       "4         2         0                          Denbury, Mr. Herbert    male   \n",
       "..      ...       ...                                           ...     ...   \n",
       "388       3         0             Karlsson, Mr. Julius Konrad Eugen    male   \n",
       "389       2         1  Ware, Mrs. John James (Florence Louise Long)  female   \n",
       "390       3         1                          O'Keefe, Mr. Patrick    male   \n",
       "391       3         0                              Tobin, Mr. Roger    male   \n",
       "392       1         1                          Daniels, Miss. Sarah  female   \n",
       "\n",
       "      age  sibsp  parch       ticket      fare cabin embarked  body  \\\n",
       "0    38.0      0      0       349249    7.8958   NaN        S   NaN   \n",
       "1    21.0      0      1  S.O./P.P. 2   21.0000   NaN        S   NaN   \n",
       "2    42.0      1      0       243847   27.0000   NaN        S   NaN   \n",
       "3     NaN      0      0       364498   14.5000   NaN        S   NaN   \n",
       "4    25.0      0      0   C.A. 31029   31.5000   NaN        S   NaN   \n",
       "..    ...    ...    ...          ...       ...   ...      ...   ...   \n",
       "388  33.0      0      0       347465    7.8542   NaN        S   NaN   \n",
       "389  31.0      0      0     CA 31352   21.0000   NaN        S   NaN   \n",
       "390   NaN      0      0       368402    7.7500   NaN        Q   NaN   \n",
       "391   NaN      0      0       383121    7.7500   F38        Q   NaN   \n",
       "392  33.0      0      0       113781  151.5500   NaN        S   NaN   \n",
       "\n",
       "                              home.dest  \n",
       "0                                   NaN  \n",
       "1                     Ilfracombe, Devon  \n",
       "2                                London  \n",
       "3                                   NaN  \n",
       "4              Guernsey / Elizabeth, NJ  \n",
       "..                                  ...  \n",
       "388                                 NaN  \n",
       "389  Bristol, England / New Britain, CT  \n",
       "390                                 NaN  \n",
       "391                                 NaN  \n",
       "392                                 NaN  \n",
       "\n",
       "[393 rows x 13 columns]"
      ]
     },
     "execution_count": 4,
     "metadata": {},
     "output_type": "execute_result"
    }
   ],
   "source": [
    "test"
   ]
  },
  {
   "cell_type": "code",
   "execution_count": 5,
   "id": "85102c54",
   "metadata": {},
   "outputs": [
    {
     "name": "stdout",
     "output_type": "stream",
     "text": [
      "<class 'pandas.core.frame.DataFrame'>\n",
      "RangeIndex: 916 entries, 0 to 915\n",
      "Data columns (total 13 columns):\n",
      " #   Column     Non-Null Count  Dtype  \n",
      "---  ------     --------------  -----  \n",
      " 0   pclass     916 non-null    int64  \n",
      " 1   survived   916 non-null    int64  \n",
      " 2   name       916 non-null    object \n",
      " 3   sex        916 non-null    object \n",
      " 4   age        741 non-null    float64\n",
      " 5   sibsp      916 non-null    int64  \n",
      " 6   parch      916 non-null    int64  \n",
      " 7   ticket     916 non-null    object \n",
      " 8   fare       916 non-null    float64\n",
      " 9   cabin      214 non-null    object \n",
      " 10  embarked   914 non-null    object \n",
      " 11  body       85 non-null     float64\n",
      " 12  home.dest  527 non-null    object \n",
      "dtypes: float64(3), int64(4), object(6)\n",
      "memory usage: 93.2+ KB\n",
      "None\n",
      "---------------------------------------\n",
      "<class 'pandas.core.frame.DataFrame'>\n",
      "RangeIndex: 393 entries, 0 to 392\n",
      "Data columns (total 13 columns):\n",
      " #   Column     Non-Null Count  Dtype  \n",
      "---  ------     --------------  -----  \n",
      " 0   pclass     393 non-null    int64  \n",
      " 1   survived   393 non-null    int64  \n",
      " 2   name       393 non-null    object \n",
      " 3   sex        393 non-null    object \n",
      " 4   age        305 non-null    float64\n",
      " 5   sibsp      393 non-null    int64  \n",
      " 6   parch      393 non-null    int64  \n",
      " 7   ticket     393 non-null    object \n",
      " 8   fare       393 non-null    float64\n",
      " 9   cabin      81 non-null     object \n",
      " 10  embarked   393 non-null    object \n",
      " 11  body       36 non-null     float64\n",
      " 12  home.dest  218 non-null    object \n",
      "dtypes: float64(3), int64(4), object(6)\n",
      "memory usage: 40.0+ KB\n",
      "None\n"
     ]
    }
   ],
   "source": [
    "print(train.info())\n",
    "print('---------------------------------------')\n",
    "print(test.info())"
   ]
  },
  {
   "cell_type": "code",
   "execution_count": 6,
   "id": "1fee4ee0",
   "metadata": {},
   "outputs": [],
   "source": [
    "# 버릴 것 : 생존과 관련 없어 보이는 것들 제거 drop([], axis = )\n",
    "train = train.drop(['name', 'ticket', 'body', 'cabin', 'home.dest'], axis = 1)\n",
    "test = test.drop(['name', 'ticket', 'body', 'cabin', 'home.dest'], axis = 1)"
   ]
  },
  {
   "cell_type": "code",
   "execution_count": 7,
   "id": "7c921fb5",
   "metadata": {},
   "outputs": [
    {
     "name": "stdout",
     "output_type": "stream",
     "text": [
      "0    563\n",
      "1    353\n",
      "Name: survived, dtype: int64\n"
     ]
    },
    {
     "data": {
      "text/plain": [
       "<AxesSubplot:>"
      ]
     },
     "execution_count": 7,
     "metadata": {},
     "output_type": "execute_result"
    },
    {
     "data": {
      "image/png": "[encoded data removed]",
      "text/plain": [
       "<Figure size 640x480 with 1 Axes>"
      ]
     },
     "metadata": {},
     "output_type": "display_data"
    }
   ],
   "source": [
    "print(train['survived'].value_counts())\n",
    "train['survived'].value_counts().plot.bar()"
   ]
  },
  {
   "cell_type": "code",
   "execution_count": 8,
   "id": "c975e618",
   "metadata": {},
   "outputs": [
    {
     "name": "stdout",
     "output_type": "stream",
     "text": [
      "3    498\n",
      "1    230\n",
      "2    188\n",
      "Name: pclass, dtype: int64\n"
     ]
    },
    {
     "data": {
      "image/png": "[encoded data removed]",
      "text/plain": [
       "<Figure size 640x480 with 1 Axes>"
      ]
     },
     "metadata": {},
     "output_type": "display_data"
    }
   ],
   "source": [
    "print(train['pclass'].value_counts())\n",
    "# pclass 별 survived count\n",
    "ax = sns.countplot(x='pclass', hue='survived', data=train)"
   ]
  },
  {
   "cell_type": "code",
   "execution_count": 9,
   "id": "e22e169f",
   "metadata": {},
   "outputs": [],
   "source": [
    "from scipy import stats\n",
    "\n",
    "# distribution_check : 내장 if문 실행\n",
    "def valid_features(df, col_name, distribution_check=True):\n",
    "    \n",
    "    # 두 집단 (survived = 1, survived = 0)의 ex.'age'에 대한 분포 그래프 출력\n",
    "    g = sns.FacetGrid(df, col = 'survived')\n",
    "    g.map(plt.hist, col_name, bins=30)\n",
    "    \n",
    "    # 두 집단 (survived = 1, survived = 0)의 ex.'age'에 대한 표준편차 출력\n",
    "    titanic_survived = df[df['survived'] == 1]\n",
    "    titanic_survived_static = np.array(titanic_survived[col_name])\n",
    "    print(\"data std is\", \"%.2f\" % np.std(titanic_survived_static))\n",
    "    \n",
    "    titanic_not_survived = df[df['survived'] == 0]\n",
    "    titanic_not_survived_static = np.array(titanic_not_survived[col_name])\n",
    "    print(\"data std is\", \"%.2f\" % np.std(titanic_not_survived_static))\n",
    "    \n",
    "    # T-test로 두 집단의 평균 차이를 검정 ex. p-value가 ~~0.000 이면 평균이 다르다 채택, ~~0.05 이상이면 평균이 같다 채택\n",
    "    tTestResult = stats.ttest_ind(titanic_survived[col_name], titanic_not_survived[col_name])  # 공분산 같을 때\n",
    "    tTestResultDiffVar = stats.ttest_ind(titanic_survived[col_name], titanic_not_survived[col_name])  # 공분산 다를 때\n",
    "    print(\"The t-statistic and p-value assuming equal variances is %.3f and %.3f\" % tTestResult)\n",
    "    print(\"The t-statistic and p-value not assuming equal variances is %.3f and %.3f\" % tTestResultDiffVar)\n",
    "    \n",
    "    if distribution_check:\n",
    "        # Shapiro-Wilk 검정 : (샘플의 수가 적을 때) 분포의 정규성 정도 검증\n",
    "        print(\"The w-statistic and p-value in Survived %.3f and %.3f\" % stats.shapiro(titanic_survived[col_name]))\n",
    "        print(\"The w-statistic and p-value in Non-Survived %.3f and %.3f\" % stats.shapiro(titanic_not_survived[col_name]))"
   ]
  },
  {
   "cell_type": "code",
   "execution_count": 10,
   "id": "794f900a",
   "metadata": {},
   "outputs": [
    {
     "name": "stdout",
     "output_type": "stream",
     "text": [
      "data std is 14.22\n",
      "data std is 13.71\n",
      "The t-statistic and p-value assuming equal variances is -0.546 and 0.585\n",
      "The t-statistic and p-value not assuming equal variances is -0.546 and 0.585\n",
      "The w-statistic and p-value in Survived 0.982 and 0.001\n",
      "The w-statistic and p-value in Non-Survived 0.968 and 0.000\n"
     ]
    },
    {
     "data": {
      "image/png": "[encoded data removed]",
      "text/plain": [
       "<Figure size 600x300 with 2 Axes>"
      ]
     },
     "metadata": {},
     "output_type": "display_data"
    }
   ],
   "source": [
    "# valid_features 함수를 실행, age 피처와 sibsp 피처 탐색\n",
    "valid_features(train[train['age'] > 0], 'age', distribution_check = True)  # 평균 차이 없음 : 생존자 분류 영향력 낮음"
   ]
  },
  {
   "cell_type": "code",
   "execution_count": 11,
   "id": "8e0bf6b6",
   "metadata": {},
   "outputs": [
    {
     "name": "stdout",
     "output_type": "stream",
     "text": [
      "data std is 0.64\n",
      "data std is 1.34\n",
      "The t-statistic and p-value assuming equal variances is -2.118 and 0.034\n",
      "The t-statistic and p-value not assuming equal variances is -2.118 and 0.034\n",
      "The w-statistic and p-value in Survived 0.656 and 0.000\n",
      "The w-statistic and p-value in Non-Survived 0.492 and 0.000\n"
     ]
    },
    {
     "data": {
      "image/png": "[encoded data removed]",
      "text/plain": [
       "<Figure size 600x300 with 2 Axes>"
      ]
     },
     "metadata": {},
     "output_type": "display_data"
    }
   ],
   "source": [
    "valid_features(train, 'sibsp', distribution_check = True)  # 평균 차이 어느 정도 존재 : 생존자 분류 영향력 있음"
   ]
  },
  {
   "cell_type": "code",
   "execution_count": 12,
   "id": "e533a6db",
   "metadata": {},
   "outputs": [
    {
     "name": "stdout",
     "output_type": "stream",
     "text": [
      "data std is 0.74\n",
      "data std is 0.89\n",
      "The t-statistic and p-value assuming equal variances is 1.865 and 0.063\n",
      "The t-statistic and p-value not assuming equal variances is 1.865 and 0.063\n",
      "The w-statistic and p-value in Survived 0.630 and 0.000\n",
      "The w-statistic and p-value in Non-Survived 0.421 and 0.000\n"
     ]
    },
    {
     "data": {
      "image/png": "[encoded data removed]",
      "text/plain": [
       "<Figure size 600x300 with 2 Axes>"
      ]
     },
     "metadata": {},
     "output_type": "display_data"
    }
   ],
   "source": [
    "valid_features(train, 'parch', distribution_check = True)  # 평균 차이 없음 : 생존자 분류 영향력 낮음"
   ]
  },
  {
   "cell_type": "code",
   "execution_count": 13,
   "id": "49336df5",
   "metadata": {},
   "outputs": [
    {
     "name": "stdout",
     "output_type": "stream",
     "text": [
      "data std is 0.88\n",
      "data std is 0.75\n",
      "The t-statistic and p-value assuming equal variances is -9.848 and 0.000\n",
      "The t-statistic and p-value not assuming equal variances is -9.848 and 0.000\n",
      "The w-statistic and p-value in Survived 0.759 and 0.000\n",
      "The w-statistic and p-value in Non-Survived 0.657 and 0.000\n"
     ]
    },
    {
     "data": {
      "image/png": "[encoded data removed]",
      "text/plain": [
       "<Figure size 600x300 with 2 Axes>"
      ]
     },
     "metadata": {},
     "output_type": "display_data"
    }
   ],
   "source": [
    "valid_features(train, 'pclass', distribution_check = True)  # 평균 차이 많이 존재 : 생존자 분류 영향력 있음"
   ]
  },
  {
   "cell_type": "code",
   "execution_count": 14,
   "id": "569340d0",
   "metadata": {},
   "outputs": [
    {
     "name": "stdout",
     "output_type": "stream",
     "text": [
      "data std is 60.68\n",
      "data std is 33.65\n",
      "The t-statistic and p-value assuming equal variances is 7.523 and 0.000\n",
      "The t-statistic and p-value not assuming equal variances is 7.523 and 0.000\n",
      "The w-statistic and p-value in Survived 0.660 and 0.000\n",
      "The w-statistic and p-value in Non-Survived 0.520 and 0.000\n"
     ]
    },
    {
     "data": {
      "image/png": "[encoded data removed]",
      "text/plain": [
       "<Figure size 600x300 with 2 Axes>"
      ]
     },
     "metadata": {},
     "output_type": "display_data"
    }
   ],
   "source": [
    "valid_features(train, 'fare', distribution_check = True)  # 평균 차이 어느 정도 존재 : 생존자 분류 영향력 있음"
   ]
  },
  {
   "cell_type": "code",
   "execution_count": 15,
   "id": "8102585d",
   "metadata": {
    "scrolled": false
   },
   "outputs": [],
   "source": [
    "# 성별 0과 1로 변경\n",
    "# train.loc[train[\"sex\"] == 'male', \"sex\"] = int(1)\n",
    "# train.loc[train[\"sex\"] == 'female', \"sex\"] = int(0)"
   ]
  },
  {
   "cell_type": "code",
   "execution_count": 16,
   "id": "0919f18b",
   "metadata": {},
   "outputs": [
    {
     "data": {
      "text/plain": [
       "<seaborn.axisgrid.FacetGrid at 0x17f026868e0>"
      ]
     },
     "execution_count": 16,
     "metadata": {},
     "output_type": "execute_result"
    },
    {
     "data": {
      "image/png": "[encoded data removed]",
      "text/plain": [
       "<Figure size 600x300 with 2 Axes>"
      ]
     },
     "metadata": {},
     "output_type": "display_data"
    }
   ],
   "source": [
    "g = sns.FacetGrid(train, col = 'sex')\n",
    "g.map(plt.hist, 'sex', bins=30)"
   ]
  },
  {
   "cell_type": "markdown",
   "id": "cc5228dd",
   "metadata": {},
   "source": [
    "Step 2 분류 : 생존자 분류 모델 만들기"
   ]
  },
  {
   "cell_type": "code",
   "execution_count": 17,
   "id": "7d357ce4",
   "metadata": {},
   "outputs": [
    {
     "data": {
      "text/html": [
       "<div>\n",
       "<style scoped>\n",
       "    .dataframe tbody tr th:only-of-type {\n",
       "        vertical-align: middle;\n",
       "    }\n",
       "\n",
       "    .dataframe tbody tr th {\n",
       "        vertical-align: top;\n",
       "    }\n",
       "\n",
       "    .dataframe thead th {\n",
       "        text-align: right;\n",
       "    }\n",
       "</style>\n",
       "<table border=\"1\" class=\"dataframe\">\n",
       "  <thead>\n",
       "    <tr style=\"text-align: right;\">\n",
       "      <th></th>\n",
       "      <th>pclass</th>\n",
       "      <th>survived</th>\n",
       "      <th>age</th>\n",
       "      <th>sibsp</th>\n",
       "      <th>parch</th>\n",
       "      <th>fare</th>\n",
       "      <th>sex_female</th>\n",
       "      <th>sex_male</th>\n",
       "      <th>embarked_C</th>\n",
       "      <th>embarked_Q</th>\n",
       "      <th>embarked_S</th>\n",
       "    </tr>\n",
       "  </thead>\n",
       "  <tbody>\n",
       "    <tr>\n",
       "      <th>0</th>\n",
       "      <td>2</td>\n",
       "      <td>1</td>\n",
       "      <td>13.000000</td>\n",
       "      <td>0</td>\n",
       "      <td>1</td>\n",
       "      <td>19.5000</td>\n",
       "      <td>1</td>\n",
       "      <td>0</td>\n",
       "      <td>0</td>\n",
       "      <td>0</td>\n",
       "      <td>1</td>\n",
       "    </tr>\n",
       "    <tr>\n",
       "      <th>1</th>\n",
       "      <td>2</td>\n",
       "      <td>1</td>\n",
       "      <td>4.000000</td>\n",
       "      <td>1</td>\n",
       "      <td>1</td>\n",
       "      <td>23.0000</td>\n",
       "      <td>1</td>\n",
       "      <td>0</td>\n",
       "      <td>0</td>\n",
       "      <td>0</td>\n",
       "      <td>1</td>\n",
       "    </tr>\n",
       "    <tr>\n",
       "      <th>2</th>\n",
       "      <td>2</td>\n",
       "      <td>1</td>\n",
       "      <td>30.000000</td>\n",
       "      <td>1</td>\n",
       "      <td>0</td>\n",
       "      <td>13.8583</td>\n",
       "      <td>1</td>\n",
       "      <td>0</td>\n",
       "      <td>1</td>\n",
       "      <td>0</td>\n",
       "      <td>0</td>\n",
       "    </tr>\n",
       "    <tr>\n",
       "      <th>3</th>\n",
       "      <td>3</td>\n",
       "      <td>0</td>\n",
       "      <td>30.231444</td>\n",
       "      <td>0</td>\n",
       "      <td>0</td>\n",
       "      <td>7.7250</td>\n",
       "      <td>0</td>\n",
       "      <td>1</td>\n",
       "      <td>0</td>\n",
       "      <td>1</td>\n",
       "      <td>0</td>\n",
       "    </tr>\n",
       "    <tr>\n",
       "      <th>4</th>\n",
       "      <td>3</td>\n",
       "      <td>1</td>\n",
       "      <td>22.000000</td>\n",
       "      <td>0</td>\n",
       "      <td>0</td>\n",
       "      <td>7.7250</td>\n",
       "      <td>1</td>\n",
       "      <td>0</td>\n",
       "      <td>0</td>\n",
       "      <td>1</td>\n",
       "      <td>0</td>\n",
       "    </tr>\n",
       "  </tbody>\n",
       "</table>\n",
       "</div>"
      ],
      "text/plain": [
       "   pclass  survived        age  sibsp  parch     fare  sex_female  sex_male  \\\n",
       "0       2         1  13.000000      0      1  19.5000           1         0   \n",
       "1       2         1   4.000000      1      1  23.0000           1         0   \n",
       "2       2         1  30.000000      1      0  13.8583           1         0   \n",
       "3       3         0  30.231444      0      0   7.7250           0         1   \n",
       "4       3         1  22.000000      0      0   7.7250           1         0   \n",
       "\n",
       "   embarked_C  embarked_Q  embarked_S  \n",
       "0           0           0           1  \n",
       "1           0           0           1  \n",
       "2           1           0           0  \n",
       "3           0           1           0  \n",
       "4           0           1           0  "
      ]
     },
     "execution_count": 17,
     "metadata": {},
     "output_type": "execute_result"
    }
   ],
   "source": [
    "# age의 결측값을 평균값으로 대체 (replace_mean = train[train['age']]['age'].mean() : NaN값이 포홤되어 있으므로 > 0 해주어야!)\n",
    "replace_mean = train[train['age'] > 0]['age'].mean()\n",
    "train['age'] = train['age'].fillna(replace_mean)\n",
    "test['age'] = test['age'].fillna(replace_mean)\n",
    "\n",
    "\n",
    "# embark : 2개의 결측값을 최빈값으로 대체\n",
    "embarked_mode = train['embarked'].value_counts().index[0]  # 첫 번째\n",
    "train['embarked'] = train['embarked'].fillna(embarked_mode)\n",
    "test['embarked'] = test['embarked'].fillna(embarked_mode)\n",
    "\n",
    "\n",
    "# 원-핫 인코딩을 위한 통합 데이터 프레임(whole)를 생성\n",
    "whole = pd.concat([train, test])  # append -> concat으로 변경\n",
    "train_idx = len(train)  # parsing 위함\n",
    "\n",
    "\n",
    "# pandas 패키지를 이용한 원-핫 인코딩을 수행\n",
    "whole_encoded = pd.get_dummies(whole)\n",
    "train = whole_encoded[:train_idx]\n",
    "test = whole_encoded[train_idx:]\n",
    "\n",
    "train.head()"
   ]
  },
  {
   "cell_type": "markdown",
   "id": "a17c7e16",
   "metadata": {},
   "source": [
    "분류 모델링 : 로지스틱 회귀 모델"
   ]
  },
  {
   "cell_type": "code",
   "execution_count": 18,
   "id": "86cc4ae8",
   "metadata": {},
   "outputs": [],
   "source": [
    "from sklearn.linear_model import LogisticRegression\n",
    "from sklearn.metrics import accuracy_score, precision_score, recall_score, f1_score\n",
    "\n",
    "# x : 'survived' 빼고 나머지, y : 'survived' 값만\n",
    "x_train, y_train = train.loc[:, train.columns != 'survived'].values, train['survived'].values\n",
    "x_test, y_test = test.loc[:, test.columns != 'survived'].values, test['survived'].values\n",
    "\n",
    "# LogistivRegression\n",
    "# max_iter = 5000 오류 참조 : https://nsbg.tistory.com/entry/Sklearn-ConvergenceWarning-lbfgs-failed-to-converge-status1\n",
    "lr = LogisticRegression(random_state = 0, max_iter = 5000)\n",
    "lr.fit(x_train, y_train)\n",
    "\n",
    "# 학습한 모델의 테스트 데이터셋에 대한 예측 결과 반환\n",
    "y_pred = lr.predict(x_test)\n",
    "y_pred_probability = lr.predict_proba(x_test)[:,1]"
   ]
  },
  {
   "cell_type": "code",
   "execution_count": 19,
   "id": "69fc32e3",
   "metadata": {},
   "outputs": [
    {
     "data": {
      "text/plain": [
       "array([0, 1, 0, 0, 0, 1, 0, 0, 0, 0, 0, 0, 0, 1, 1, 0, 1, 0, 1, 0, 0, 0,\n",
       "       0, 1, 0, 1, 0, 0, 0, 1, 1, 1, 1, 0, 1, 0, 0, 0, 0, 0, 0, 0, 0, 0,\n",
       "       1, 0, 0, 1, 0, 0, 1, 0, 0, 1, 0, 0, 1, 0, 1, 1, 0, 0, 0, 0, 1, 1,\n",
       "       0, 0, 0, 1, 1, 0, 0, 0, 1, 1, 0, 1, 1, 0, 0, 1, 0, 0, 0, 1, 0, 0,\n",
       "       0, 0, 0, 0, 0, 0, 0, 0, 0, 1, 0, 1, 0, 0, 0, 1, 0, 0, 1, 0, 0, 0,\n",
       "       0, 1, 0, 0, 1, 0, 0, 0, 0, 1, 0, 0, 1, 1, 0, 0, 0, 0, 0, 0, 0, 1,\n",
       "       0, 1, 0, 0, 0, 1, 0, 1, 0, 1, 0, 0, 0, 0, 1, 0, 1, 0, 1, 0, 0, 1,\n",
       "       0, 0, 1, 1, 0, 0, 0, 0, 0, 1, 0, 1, 0, 0, 0, 0, 0, 0, 1, 0, 1, 0,\n",
       "       0, 1, 1, 1, 1, 0, 1, 0, 1, 1, 1, 0, 0, 0, 0, 0, 1, 0, 0, 1, 0, 1,\n",
       "       0, 0, 0, 0, 0, 1, 0, 0, 0, 0, 0, 0, 1, 0, 0, 0, 1, 0, 0, 0, 0, 0,\n",
       "       1, 1, 1, 1, 1, 0, 1, 1, 1, 1, 1, 0, 0, 1, 0, 0, 1, 0, 0, 0, 0, 0,\n",
       "       0, 0, 0, 0, 0, 0, 1, 0, 0, 0, 0, 0, 1, 0, 1, 0, 0, 0, 0, 0, 0, 1,\n",
       "       0, 1, 0, 0, 0, 1, 0, 1, 0, 0, 0, 1, 1, 1, 0, 1, 0, 1, 0, 0, 1, 0,\n",
       "       0, 0, 1, 0, 1, 0, 1, 1, 1, 0, 1, 0, 0, 0, 0, 1, 0, 0, 1, 0, 1, 0,\n",
       "       1, 0, 1, 0, 0, 0, 0, 1, 0, 1, 0, 1, 0, 0, 1, 0, 1, 0, 0, 0, 0, 0,\n",
       "       1, 0, 0, 1, 0, 1, 0, 0, 1, 0, 1, 0, 1, 1, 1, 1, 0, 0, 0, 0, 1, 1,\n",
       "       0, 0, 1, 0, 0, 0, 1, 0, 0, 0, 0, 0, 1, 1, 1, 0, 0, 0, 1, 0, 1, 0,\n",
       "       0, 0, 0, 0, 0, 0, 0, 0, 0, 0, 0, 1, 1, 0, 0, 1, 0, 0, 1],\n",
       "      dtype=int64)"
      ]
     },
     "execution_count": 19,
     "metadata": {},
     "output_type": "execute_result"
    }
   ],
   "source": [
    "y_pred"
   ]
  },
  {
   "cell_type": "code",
   "execution_count": 20,
   "id": "6320146f",
   "metadata": {},
   "outputs": [
    {
     "data": {
      "text/plain": [
       "array([0.08273497, 0.83104918, 0.12225792, 0.10318752, 0.25345074,\n",
       "       0.69838282, 0.29281546, 0.26843939, 0.11127931, 0.10282234,\n",
       "       0.33737712, 0.13748026, 0.33325422, 0.68056078, 0.92502749,\n",
       "       0.25683696, 0.62069497, 0.48604482, 0.88335563, 0.09521187,\n",
       "       0.12862698, 0.04503276, 0.10932498, 0.91893479, 0.23309698,\n",
       "       0.71689223, 0.28732502, 0.14973814, 0.12332088, 0.7064844 ,\n",
       "       0.85551997, 0.96292311, 0.81513426, 0.30927494, 0.77520577,\n",
       "       0.10279166, 0.09520366, 0.43713861, 0.16936417, 0.12192953,\n",
       "       0.10277311, 0.12161143, 0.36920957, 0.31806761, 0.54367488,\n",
       "       0.06167695, 0.15159413, 0.91425607, 0.34100808, 0.10285659,\n",
       "       0.8452555 , 0.10280949, 0.12191932, 0.61591513, 0.115484  ,\n",
       "       0.10281877, 0.90373001, 0.42896318, 0.69680609, 0.90682348,\n",
       "       0.13585689, 0.31231651, 0.49394675, 0.22763421, 0.54772263,\n",
       "       0.78855511, 0.25713234, 0.16936417, 0.1321681 , 0.72221282,\n",
       "       0.79572545, 0.08998321, 0.41772475, 0.05697894, 0.64072292,\n",
       "       0.94066236, 0.29367559, 0.88493934, 0.55452433, 0.12280336,\n",
       "       0.38086427, 0.76106771, 0.21786334, 0.33246961, 0.46491598,\n",
       "       0.94475973, 0.11934449, 0.06395605, 0.22080566, 0.10561719,\n",
       "       0.16936417, 0.16936417, 0.07388219, 0.17177261, 0.08433675,\n",
       "       0.44747324, 0.15903424, 0.55584613, 0.20854003, 0.90123614,\n",
       "       0.32725526, 0.10509152, 0.31107215, 0.50645003, 0.10356175,\n",
       "       0.12895685, 0.57587475, 0.12285058, 0.09003389, 0.30129707,\n",
       "       0.4207379 , 0.55476777, 0.30182637, 0.28640638, 0.65328668,\n",
       "       0.14574427, 0.30835878, 0.29473505, 0.19911729, 0.7641395 ,\n",
       "       0.42793735, 0.1674434 , 0.56048469, 0.63653836, 0.07739153,\n",
       "       0.12280336, 0.10280997, 0.11230735, 0.46059967, 0.35998112,\n",
       "       0.10280997, 0.56048469, 0.14539793, 0.67397601, 0.13404998,\n",
       "       0.12867177, 0.1157279 , 0.64070571, 0.12519923, 0.64077811,\n",
       "       0.28271105, 0.87211387, 0.13220418, 0.13940735, 0.2690254 ,\n",
       "       0.4178    , 0.76017917, 0.10280997, 0.92029526, 0.4172056 ,\n",
       "       0.5360541 , 0.24373964, 0.26877454, 0.88490022, 0.17482915,\n",
       "       0.16936453, 0.61495341, 0.90658219, 0.17036978, 0.18645993,\n",
       "       0.1093281 , 0.29911156, 0.33737654, 0.62245241, 0.1412486 ,\n",
       "       0.73913072, 0.12280336, 0.13881082, 0.08042781, 0.12028968,\n",
       "       0.25845339, 0.33469976, 0.64072707, 0.12202562, 0.68903307,\n",
       "       0.13264027, 0.13575159, 0.90410083, 0.71022355, 0.94314535,\n",
       "       0.94982273, 0.12280336, 0.59421098, 0.30866183, 0.78564103,\n",
       "       0.6444319 , 0.84692476, 0.16936453, 0.14179908, 0.15096382,\n",
       "       0.48553796, 0.45464302, 0.9210821 , 0.19374856, 0.37468697,\n",
       "       0.64828604, 0.12020123, 0.81350159, 0.12534671, 0.15118479,\n",
       "       0.14777594, 0.10281877, 0.12868247, 0.88139125, 0.35328492,\n",
       "       0.13938694, 0.16390656, 0.06030378, 0.1469543 , 0.09259039,\n",
       "       0.64074132, 0.41855276, 0.26306191, 0.05698892, 0.78652288,\n",
       "       0.12745208, 0.15118479, 0.04997917, 0.24975101, 0.1027617 ,\n",
       "       0.89325959, 0.56740727, 0.88233609, 0.94428459, 0.7624163 ,\n",
       "       0.062754  , 0.55452433, 0.83649912, 0.77192362, 0.80593794,\n",
       "       0.7690382 , 0.33250566, 0.11861714, 0.64601265, 0.13583692,\n",
       "       0.13582257, 0.64071876, 0.07728295, 0.13389679, 0.13474983,\n",
       "       0.17037014, 0.34357455, 0.10322188, 0.22219277, 0.1568759 ,\n",
       "       0.16822839, 0.41885773, 0.31231651, 0.72181621, 0.06219508,\n",
       "       0.10343257, 0.10205794, 0.42234368, 0.10636181, 0.59320274,\n",
       "       0.16936417, 0.735237  , 0.12868247, 0.10280997, 0.22342767,\n",
       "       0.24553822, 0.10281877, 0.11866081, 0.92567293, 0.12280225,\n",
       "       0.6802827 , 0.17159431, 0.13937766, 0.15049065, 0.60754855,\n",
       "       0.41712285, 0.93564428, 0.15687011, 0.12868247, 0.10280997,\n",
       "       0.75286904, 0.89009244, 0.93619528, 0.33361401, 0.73800881,\n",
       "       0.41321659, 0.64621531, 0.37419821, 0.31606149, 0.60624899,\n",
       "       0.10636059, 0.08753356, 0.08998701, 0.91565626, 0.35833718,\n",
       "       0.65306882, 0.16936453, 0.77508026, 0.64074132, 0.60730782,\n",
       "       0.12280336, 0.50475248, 0.05334035, 0.14312596, 0.06975015,\n",
       "       0.28732502, 0.64234571, 0.12401372, 0.12189282, 0.77925097,\n",
       "       0.07632934, 0.89006175, 0.08761287, 0.5934775 , 0.10636475,\n",
       "       0.91406387, 0.41711157, 0.10280307, 0.09679544, 0.16936417,\n",
       "       0.73728506, 0.13579606, 0.9351617 , 0.42179767, 0.9353568 ,\n",
       "       0.09837238, 0.30069982, 0.71903695, 0.28764189, 0.84849896,\n",
       "       0.12191656, 0.46231015, 0.13573738, 0.2284505 , 0.25129086,\n",
       "       0.88934783, 0.25099992, 0.10932748, 0.73438769, 0.1239173 ,\n",
       "       0.64072292, 0.29149234, 0.06777719, 0.81586289, 0.38195382,\n",
       "       0.81913125, 0.16936453, 0.55343317, 0.66876674, 0.8311843 ,\n",
       "       0.51949531, 0.49760117, 0.38411853, 0.10280997, 0.19845287,\n",
       "       0.95601094, 0.86571752, 0.10561719, 0.10561719, 0.64178356,\n",
       "       0.12867177, 0.33274332, 0.1896011 , 0.64072292, 0.14701378,\n",
       "       0.10281877, 0.07540731, 0.24553822, 0.10581288, 0.54116379,\n",
       "       0.75536549, 0.93529331, 0.06385132, 0.16936453, 0.13217698,\n",
       "       0.56078636, 0.13573738, 0.59774145, 0.10942418, 0.23869801,\n",
       "       0.34574443, 0.10318752, 0.05929019, 0.08205094, 0.26605532,\n",
       "       0.10279023, 0.13187518, 0.36609098, 0.42959998, 0.04356679,\n",
       "       0.72579148, 0.71679153, 0.07605819, 0.09520144, 0.78125342,\n",
       "       0.12280336, 0.12280336, 0.90046803])"
      ]
     },
     "execution_count": 20,
     "metadata": {},
     "output_type": "execute_result"
    }
   ],
   "source": [
    "y_pred_probability"
   ]
  },
  {
   "cell_type": "code",
   "execution_count": 21,
   "id": "db5e106f",
   "metadata": {},
   "outputs": [
    {
     "name": "stdout",
     "output_type": "stream",
     "text": [
      "accuracy: 0.80\n",
      "Precision: 0.756\n",
      "Recall: 0.673\n",
      "F1: 0.712\n"
     ]
    }
   ],
   "source": [
    "print(\"accuracy: %.2f\" % accuracy_score(y_test, y_pred))\n",
    "print(\"Precision: %.3f\" % precision_score(y_test, y_pred))\n",
    "print(\"Recall: %.3f\" % recall_score(y_test, y_pred))\n",
    "print(\"F1: %.3f\" % f1_score(y_test, y_pred))"
   ]
  },
  {
   "cell_type": "code",
   "execution_count": 22,
   "id": "643e2874",
   "metadata": {},
   "outputs": [
    {
     "name": "stdout",
     "output_type": "stream",
     "text": [
      "[[214  32]\n",
      " [ 48  99]]\n"
     ]
    }
   ],
   "source": [
    "# Confusion Matrix\n",
    "from sklearn.metrics import confusion_matrix\n",
    "\n",
    "confmat = confusion_matrix(y_true = y_test, y_pred = y_pred)\n",
    "print(confmat)"
   ]
  },
  {
   "cell_type": "code",
   "execution_count": 23,
   "id": "91061fe1",
   "metadata": {},
   "outputs": [
    {
     "name": "stdout",
     "output_type": "stream",
     "text": [
      "AUC: 0.838\n"
     ]
    },
    {
     "data": {
      "text/plain": [
       "<matplotlib.legend.Legend at 0x17f03f51ac0>"
      ]
     },
     "execution_count": 23,
     "metadata": {},
     "output_type": "execute_result"
    },
    {
     "data": {
      "image/png": "[encoded data removed]",
      "text/plain": [
       "<Figure size 500x400 with 1 Axes>"
      ]
     },
     "metadata": {},
     "output_type": "display_data"
    }
   ],
   "source": [
    "# AUC(Area Under Curve) : 성능의 지표 == 1 good\n",
    "from sklearn.metrics import roc_curve, roc_auc_score\n",
    "\n",
    "# y_test, y_pred_probability = 정답, 예측값\n",
    "false_positive_rate, true_positive_rate, thresholds = roc_curve(y_test, y_pred_probability)\n",
    "roc_auc = roc_auc_score(y_test, y_pred_probability)\n",
    "print(\"AUC: %.3f\" % roc_auc)\n",
    "\n",
    "# graph\n",
    "plt.rcParams['figure.figsize'] = [5, 4]\n",
    "plt.plot(false_positive_rate, true_positive_rate, label = 'ROC curve (area = %.3f)' % roc_auc, color = 'r', linewidth = 4.0)\n",
    "plt.plot([0, 1], [0, 1], 'k--')  # (0,0) ~ (1,1)를 잇는 검은(k) 점선(--) 그리기\n",
    "plt.xlim([0.0, 1.0])\n",
    "plt.ylim([0.0, 1.0])\n",
    "plt.xlabel('False Positive Rate')\n",
    "plt.ylabel('True Positive Rate')\n",
    "plt.title('ROC curve of Logistic regression')\n",
    "plt.legend(loc = 'lower right')"
   ]
  },
  {
   "cell_type": "markdown",
   "id": "2bfe3efe",
   "metadata": {},
   "source": [
    "의사결정 나무(Decision Tree) 모델"
   ]
  },
  {
   "cell_type": "code",
   "execution_count": 24,
   "id": "6e6784d2",
   "metadata": {},
   "outputs": [],
   "source": [
    "from sklearn.tree import DecisionTreeClassifier\n",
    "\n",
    "dtc = DecisionTreeClassifier()\n",
    "dtc.fit(x_train, y_train)\n",
    "# 클래스 예측\n",
    "y_pred = dtc.predict(x_test)\n",
    "# 해당 클래스가 맞을 확률 \n",
    "y_pred_probability = dtc.predict_proba(x_test)[:, 1]"
   ]
  },
  {
   "cell_type": "code",
   "execution_count": 25,
   "id": "be42c226",
   "metadata": {},
   "outputs": [
    {
     "name": "stdout",
     "output_type": "stream",
     "text": [
      "accuracy: 0.76\n",
      "Precision: 0.696\n",
      "Recall: 0.639\n",
      "F1: 0.667\n"
     ]
    }
   ],
   "source": [
    "print(\"accuracy: %.2f\" % accuracy_score(y_test, y_pred))\n",
    "print(\"Precision: %.3f\" % precision_score(y_test, y_pred))\n",
    "print(\"Recall: %.3f\" % recall_score(y_test, y_pred))\n",
    "print(\"F1: %.3f\" % f1_score(y_test, y_pred))"
   ]
  },
  {
   "cell_type": "code",
   "execution_count": 26,
   "id": "c5c77943",
   "metadata": {},
   "outputs": [
    {
     "name": "stdout",
     "output_type": "stream",
     "text": [
      "AUC: 0.744\n"
     ]
    },
    {
     "data": {
      "text/plain": [
       "<matplotlib.legend.Legend at 0x17f040dac10>"
      ]
     },
     "execution_count": 26,
     "metadata": {},
     "output_type": "execute_result"
    },
    {
     "data": {
      "image/png": "[encoded data removed]",
      "text/plain": [
       "<Figure size 500x400 with 1 Axes>"
      ]
     },
     "metadata": {},
     "output_type": "display_data"
    }
   ],
   "source": [
    "# AUC\n",
    "false_positive_rate, true_positive_rate, thresholds = roc_curve(y_test, y_pred_probability)\n",
    "roc_auc = roc_auc_score(y_test, y_pred_probability)\n",
    "print(\"AUC: %.3f\" % roc_auc)\n",
    "\n",
    "# graph\n",
    "plt.rcParams['figure.figsize'] = [5, 4]\n",
    "plt.plot(false_positive_rate, true_positive_rate, label = 'ROC curve (area = %.3f)' % roc_auc, color = 'r', linewidth = 4.0)\n",
    "plt.plot([0, 1], [0, 1], 'k--')  # (0,0) ~ (1,1)를 잇는 검은(k) 점선(--) 그리기\n",
    "plt.xlim([0.0, 1.0])\n",
    "plt.ylim([0.0, 1.0])\n",
    "plt.xlabel('False Positive Rate')\n",
    "plt.ylabel('True Positive Rate')\n",
    "plt.title('ROC curve of Logistic regression')\n",
    "plt.legend(loc = 'lower right')"
   ]
  },
  {
   "cell_type": "markdown",
   "id": "e51dfa55",
   "metadata": {},
   "source": [
    "Step 3 모델 개선 : 피처 엔지니어링 첫걸음"
   ]
  },
  {
   "cell_type": "code",
   "execution_count": 27,
   "id": "419a7b6d",
   "metadata": {},
   "outputs": [],
   "source": [
    "# 데이터 재정의\n",
    "df_train = pd.read_csv('../data/titanic_train.csv')\n",
    "df_test = pd.read_csv('../data/titanic_test.csv')\n",
    "df_train = df_train.drop(['ticket', 'body', 'home.dest'], axis = 1)\n",
    "df_test = df_test.drop(['ticket', 'body', 'home.dest'], axis = 1)\n",
    "\n",
    "# age의 결측값을 평균값으로 대체 (replace_mean = train[train['age']]['age'].mean() : NaN값이 포홤되어 있으므로 > 0 해주어야!)\n",
    "replace_mean = df_train[df_train['age'] > 0]['age'].mean()\n",
    "df_train['age'] = df_train['age'].fillna(replace_mean)\n",
    "df_test['age'] = df_test['age'].fillna(replace_mean)\n",
    "\n",
    "# embark : 2개의 결측값을 최빈값으로 대체\n",
    "embarked_mode = df_train['embarked'].value_counts().index[0]  # 첫 번째\n",
    "df_train['embarked'] = df_train['embarked'].fillna(embarked_mode)\n",
    "df_test['embarked'] = df_test['embarked'].fillna(embarked_mode)\n",
    "\n",
    "whole_df = pd.concat([df_train, df_test])\n",
    "train_idx = len(df_train)"
   ]
  },
  {
   "cell_type": "code",
   "execution_count": 28,
   "id": "7eb832db",
   "metadata": {},
   "outputs": [
    {
     "data": {
      "text/html": [
       "<div>\n",
       "<style scoped>\n",
       "    .dataframe tbody tr th:only-of-type {\n",
       "        vertical-align: middle;\n",
       "    }\n",
       "\n",
       "    .dataframe tbody tr th {\n",
       "        vertical-align: top;\n",
       "    }\n",
       "\n",
       "    .dataframe thead th {\n",
       "        text-align: right;\n",
       "    }\n",
       "</style>\n",
       "<table border=\"1\" class=\"dataframe\">\n",
       "  <thead>\n",
       "    <tr style=\"text-align: right;\">\n",
       "      <th></th>\n",
       "      <th>pclass</th>\n",
       "      <th>survived</th>\n",
       "      <th>name</th>\n",
       "      <th>sex</th>\n",
       "      <th>age</th>\n",
       "      <th>sibsp</th>\n",
       "      <th>parch</th>\n",
       "      <th>fare</th>\n",
       "      <th>cabin</th>\n",
       "      <th>embarked</th>\n",
       "    </tr>\n",
       "  </thead>\n",
       "  <tbody>\n",
       "    <tr>\n",
       "      <th>0</th>\n",
       "      <td>2</td>\n",
       "      <td>1</td>\n",
       "      <td>Mellinger, Miss. Madeleine Violet</td>\n",
       "      <td>female</td>\n",
       "      <td>13.000000</td>\n",
       "      <td>0</td>\n",
       "      <td>1</td>\n",
       "      <td>19.5000</td>\n",
       "      <td>NaN</td>\n",
       "      <td>S</td>\n",
       "    </tr>\n",
       "    <tr>\n",
       "      <th>1</th>\n",
       "      <td>2</td>\n",
       "      <td>1</td>\n",
       "      <td>Wells, Miss. Joan</td>\n",
       "      <td>female</td>\n",
       "      <td>4.000000</td>\n",
       "      <td>1</td>\n",
       "      <td>1</td>\n",
       "      <td>23.0000</td>\n",
       "      <td>NaN</td>\n",
       "      <td>S</td>\n",
       "    </tr>\n",
       "    <tr>\n",
       "      <th>2</th>\n",
       "      <td>2</td>\n",
       "      <td>1</td>\n",
       "      <td>Duran y More, Miss. Florentina</td>\n",
       "      <td>female</td>\n",
       "      <td>30.000000</td>\n",
       "      <td>1</td>\n",
       "      <td>0</td>\n",
       "      <td>13.8583</td>\n",
       "      <td>NaN</td>\n",
       "      <td>C</td>\n",
       "    </tr>\n",
       "    <tr>\n",
       "      <th>3</th>\n",
       "      <td>3</td>\n",
       "      <td>0</td>\n",
       "      <td>Scanlan, Mr. James</td>\n",
       "      <td>male</td>\n",
       "      <td>30.231444</td>\n",
       "      <td>0</td>\n",
       "      <td>0</td>\n",
       "      <td>7.7250</td>\n",
       "      <td>NaN</td>\n",
       "      <td>Q</td>\n",
       "    </tr>\n",
       "    <tr>\n",
       "      <th>4</th>\n",
       "      <td>3</td>\n",
       "      <td>1</td>\n",
       "      <td>Bradley, Miss. Bridget Delia</td>\n",
       "      <td>female</td>\n",
       "      <td>22.000000</td>\n",
       "      <td>0</td>\n",
       "      <td>0</td>\n",
       "      <td>7.7250</td>\n",
       "      <td>NaN</td>\n",
       "      <td>Q</td>\n",
       "    </tr>\n",
       "    <tr>\n",
       "      <th>...</th>\n",
       "      <td>...</td>\n",
       "      <td>...</td>\n",
       "      <td>...</td>\n",
       "      <td>...</td>\n",
       "      <td>...</td>\n",
       "      <td>...</td>\n",
       "      <td>...</td>\n",
       "      <td>...</td>\n",
       "      <td>...</td>\n",
       "      <td>...</td>\n",
       "    </tr>\n",
       "    <tr>\n",
       "      <th>388</th>\n",
       "      <td>3</td>\n",
       "      <td>0</td>\n",
       "      <td>Karlsson, Mr. Julius Konrad Eugen</td>\n",
       "      <td>male</td>\n",
       "      <td>33.000000</td>\n",
       "      <td>0</td>\n",
       "      <td>0</td>\n",
       "      <td>7.8542</td>\n",
       "      <td>NaN</td>\n",
       "      <td>S</td>\n",
       "    </tr>\n",
       "    <tr>\n",
       "      <th>389</th>\n",
       "      <td>2</td>\n",
       "      <td>1</td>\n",
       "      <td>Ware, Mrs. John James (Florence Louise Long)</td>\n",
       "      <td>female</td>\n",
       "      <td>31.000000</td>\n",
       "      <td>0</td>\n",
       "      <td>0</td>\n",
       "      <td>21.0000</td>\n",
       "      <td>NaN</td>\n",
       "      <td>S</td>\n",
       "    </tr>\n",
       "    <tr>\n",
       "      <th>390</th>\n",
       "      <td>3</td>\n",
       "      <td>1</td>\n",
       "      <td>O'Keefe, Mr. Patrick</td>\n",
       "      <td>male</td>\n",
       "      <td>30.231444</td>\n",
       "      <td>0</td>\n",
       "      <td>0</td>\n",
       "      <td>7.7500</td>\n",
       "      <td>NaN</td>\n",
       "      <td>Q</td>\n",
       "    </tr>\n",
       "    <tr>\n",
       "      <th>391</th>\n",
       "      <td>3</td>\n",
       "      <td>0</td>\n",
       "      <td>Tobin, Mr. Roger</td>\n",
       "      <td>male</td>\n",
       "      <td>30.231444</td>\n",
       "      <td>0</td>\n",
       "      <td>0</td>\n",
       "      <td>7.7500</td>\n",
       "      <td>F38</td>\n",
       "      <td>Q</td>\n",
       "    </tr>\n",
       "    <tr>\n",
       "      <th>392</th>\n",
       "      <td>1</td>\n",
       "      <td>1</td>\n",
       "      <td>Daniels, Miss. Sarah</td>\n",
       "      <td>female</td>\n",
       "      <td>33.000000</td>\n",
       "      <td>0</td>\n",
       "      <td>0</td>\n",
       "      <td>151.5500</td>\n",
       "      <td>NaN</td>\n",
       "      <td>S</td>\n",
       "    </tr>\n",
       "  </tbody>\n",
       "</table>\n",
       "<p>1309 rows × 10 columns</p>\n",
       "</div>"
      ],
      "text/plain": [
       "     pclass  survived                                          name     sex  \\\n",
       "0         2         1             Mellinger, Miss. Madeleine Violet  female   \n",
       "1         2         1                             Wells, Miss. Joan  female   \n",
       "2         2         1                Duran y More, Miss. Florentina  female   \n",
       "3         3         0                            Scanlan, Mr. James    male   \n",
       "4         3         1                  Bradley, Miss. Bridget Delia  female   \n",
       "..      ...       ...                                           ...     ...   \n",
       "388       3         0             Karlsson, Mr. Julius Konrad Eugen    male   \n",
       "389       2         1  Ware, Mrs. John James (Florence Louise Long)  female   \n",
       "390       3         1                          O'Keefe, Mr. Patrick    male   \n",
       "391       3         0                              Tobin, Mr. Roger    male   \n",
       "392       1         1                          Daniels, Miss. Sarah  female   \n",
       "\n",
       "           age  sibsp  parch      fare cabin embarked  \n",
       "0    13.000000      0      1   19.5000   NaN        S  \n",
       "1     4.000000      1      1   23.0000   NaN        S  \n",
       "2    30.000000      1      0   13.8583   NaN        C  \n",
       "3    30.231444      0      0    7.7250   NaN        Q  \n",
       "4    22.000000      0      0    7.7250   NaN        Q  \n",
       "..         ...    ...    ...       ...   ...      ...  \n",
       "388  33.000000      0      0    7.8542   NaN        S  \n",
       "389  31.000000      0      0   21.0000   NaN        S  \n",
       "390  30.231444      0      0    7.7500   NaN        Q  \n",
       "391  30.231444      0      0    7.7500   F38        Q  \n",
       "392  33.000000      0      0  151.5500   NaN        S  \n",
       "\n",
       "[1309 rows x 10 columns]"
      ]
     },
     "execution_count": 28,
     "metadata": {},
     "output_type": "execute_result"
    }
   ],
   "source": [
    "whole_df"
   ]
  },
  {
   "cell_type": "code",
   "execution_count": 29,
   "id": "1c516f5d",
   "metadata": {},
   "outputs": [
    {
     "name": "stdout",
     "output_type": "stream",
     "text": [
      "C23 C25 C27        6\n",
      "B57 B59 B63 B66    5\n",
      "G6                 5\n",
      "F4                 4\n",
      "B96 B98            4\n",
      "F33                4\n",
      "C78                4\n",
      "D                  4\n",
      "F2                 4\n",
      "C22 C26            4\n",
      "Name: cabin, dtype: int64\n"
     ]
    }
   ],
   "source": [
    "print(whole_df['cabin'].value_counts()[:10])"
   ]
  },
  {
   "cell_type": "code",
   "execution_count": 30,
   "id": "25012c5d",
   "metadata": {},
   "outputs": [
    {
     "data": {
      "text/plain": [
       "X    1014\n",
       "C      94\n",
       "B      65\n",
       "D      46\n",
       "E      41\n",
       "A      22\n",
       "F      21\n",
       "G       5\n",
       "T       1\n",
       "Name: cabin, dtype: int64"
      ]
     },
     "execution_count": 30,
     "metadata": {},
     "output_type": "execute_result"
    }
   ],
   "source": [
    "# 결측 데이터 'X'로 대체\n",
    "whole_df['cabin'] = whole_df['cabin'].fillna('X')\n",
    "\n",
    "# cabin 데이터의 첫 번째 알파벳\n",
    "whole_df['cabin'] = whole_df['cabin'].apply(lambda x : x[0])\n",
    "\n",
    "whole_df['cabin'].value_counts()"
   ]
  },
  {
   "cell_type": "code",
   "execution_count": 31,
   "id": "9726501d",
   "metadata": {},
   "outputs": [
    {
     "data": {
      "image/png": "[encoded data removed]",
      "text/plain": [
       "<Figure size 500x400 with 1 Axes>"
      ]
     },
     "metadata": {},
     "output_type": "display_data"
    }
   ],
   "source": [
    "# G와 T는 수가 너무 적으므로 'X'로 대체\n",
    "whole_df['cabin'] = whole_df['cabin'].replace({'G':'X', 'T':'X'})\n",
    "\n",
    "# cabin 피처에 대한 생존자/비생존자 차이\n",
    "ax = sns.countplot(x='cabin', hue='survived', data=whole_df)  \n",
    "plt.show()  # 지정되지 않은 cabin 중 비생존자 많음"
   ]
  },
  {
   "cell_type": "code",
   "execution_count": 32,
   "id": "5c16af2a",
   "metadata": {},
   "outputs": [
    {
     "data": {
      "text/plain": [
       "Mr              757\n",
       "Miss            260\n",
       "Mrs             197\n",
       "Master           61\n",
       "Dr                8\n",
       "Rev               8\n",
       "Col               4\n",
       "Mlle              2\n",
       "Ms                2\n",
       "Major             2\n",
       "Jonkheer          1\n",
       "Don               1\n",
       "Lady              1\n",
       "Mme               1\n",
       "Dona              1\n",
       "the Countess      1\n",
       "Sir               1\n",
       "Capt              1\n",
       "Name: name, dtype: int64"
      ]
     },
     "execution_count": 32,
     "metadata": {},
     "output_type": "execute_result"
    }
   ],
   "source": [
    "# 이름에서 호칭 추출\n",
    "whole_df['name'] = whole_df['name'].apply(lambda x: x.split(', ')[1].split('.')[0])\n",
    "whole_df['name'].value_counts()"
   ]
  },
  {
   "cell_type": "code",
   "execution_count": 33,
   "id": "a3923b82",
   "metadata": {},
   "outputs": [
    {
     "name": "stdout",
     "output_type": "stream",
     "text": [
      "['Miss', 'Mr', 'Master', 'Mrs', 'Dr', 'Mlle', 'Col', 'Rev', 'Ms', 'Mme', 'Sir', 'the Countess', 'Dona', 'Jonkheer', 'Lady', 'Major', 'Don', 'Capt']\n"
     ]
    }
   ],
   "source": [
    "name_grade = whole_df['name'].unique().tolist()\n",
    "print(name_grade)"
   ]
  },
  {
   "cell_type": "code",
   "execution_count": 34,
   "id": "fabc191a",
   "metadata": {},
   "outputs": [],
   "source": [
    "# 호칭에 따른 사회적 지위(1910년대 기준) 정의\n",
    "grade_dict = {'A':['Rev', 'Col', 'Major', 'Dr', 'Capt', 'Sir'],  # 명예직\n",
    "              'B':['Ms', 'Mme', 'Mrs', 'Dona'],                  # 여성\n",
    "              'C':['Jonkheer', 'the Countess'],                  # 귀족이나 작위\n",
    "              'D':['Mr', 'Don'],                                 # 남성\n",
    "              'E':['Master'],                                    # 젊은 남성\n",
    "              'F':['Miss', 'Mlle', 'Lady']}                      # 젊은 여성\n",
    "\n",
    "# 정의한 호칭의 기준에 따라 A~F의 문자로 name 피처 재정의\n",
    "def give_grade(x):\n",
    "    for key, value in grade_dict.items():\n",
    "        for one in value:  # value가 list형이기 때문\n",
    "            if x == one:\n",
    "                return key\n",
    "    return 'G'  # 어느 것도 속하지 않으면        "
   ]
  },
  {
   "cell_type": "code",
   "execution_count": 35,
   "id": "600e4b00",
   "metadata": {},
   "outputs": [
    {
     "data": {
      "text/plain": [
       "0      Miss\n",
       "1      Miss\n",
       "2      Miss\n",
       "3        Mr\n",
       "4      Miss\n",
       "       ... \n",
       "388      Mr\n",
       "389     Mrs\n",
       "390      Mr\n",
       "391      Mr\n",
       "392    Miss\n",
       "Name: name, Length: 1309, dtype: object"
      ]
     },
     "execution_count": 35,
     "metadata": {},
     "output_type": "execute_result"
    }
   ],
   "source": [
    "whole_df['name']"
   ]
  },
  {
   "cell_type": "code",
   "execution_count": 36,
   "id": "4a23419a",
   "metadata": {},
   "outputs": [
    {
     "data": {
      "text/plain": [
       "D    758\n",
       "F    263\n",
       "B    201\n",
       "E     61\n",
       "A     24\n",
       "C      2\n",
       "Name: name, dtype: int64"
      ]
     },
     "execution_count": 36,
     "metadata": {},
     "output_type": "execute_result"
    }
   ],
   "source": [
    "whole_df['name'] = whole_df['name'].apply(lambda x: give_grade(x))\n",
    "whole_df['name'].value_counts()"
   ]
  },
  {
   "cell_type": "code",
   "execution_count": 37,
   "id": "80a81bbf",
   "metadata": {},
   "outputs": [
    {
     "data": {
      "image/png": "[encoded data removed]",
      "text/plain": [
       "<Figure size 500x400 with 1 Axes>"
      ]
     },
     "metadata": {},
     "output_type": "display_data"
    }
   ],
   "source": [
    "# name 피처에 대한 생존자/비생존자 차이\n",
    "ax = sns.countplot(x='name', hue='survived', data=whole_df)\n",
    "plt.show()  # 'D'그룹(남성) 비생존자 많음 ㅜㅜ"
   ]
  },
  {
   "cell_type": "code",
   "execution_count": 38,
   "id": "fcbf666e",
   "metadata": {},
   "outputs": [
    {
     "data": {
      "text/html": [
       "<div>\n",
       "<style scoped>\n",
       "    .dataframe tbody tr th:only-of-type {\n",
       "        vertical-align: middle;\n",
       "    }\n",
       "\n",
       "    .dataframe tbody tr th {\n",
       "        vertical-align: top;\n",
       "    }\n",
       "\n",
       "    .dataframe thead th {\n",
       "        text-align: right;\n",
       "    }\n",
       "</style>\n",
       "<table border=\"1\" class=\"dataframe\">\n",
       "  <thead>\n",
       "    <tr style=\"text-align: right;\">\n",
       "      <th></th>\n",
       "      <th>pclass</th>\n",
       "      <th>survived</th>\n",
       "      <th>age</th>\n",
       "      <th>sibsp</th>\n",
       "      <th>parch</th>\n",
       "      <th>fare</th>\n",
       "      <th>name_A</th>\n",
       "      <th>name_B</th>\n",
       "      <th>name_C</th>\n",
       "      <th>name_D</th>\n",
       "      <th>...</th>\n",
       "      <th>cabin_A</th>\n",
       "      <th>cabin_B</th>\n",
       "      <th>cabin_C</th>\n",
       "      <th>cabin_D</th>\n",
       "      <th>cabin_E</th>\n",
       "      <th>cabin_F</th>\n",
       "      <th>cabin_X</th>\n",
       "      <th>embarked_C</th>\n",
       "      <th>embarked_Q</th>\n",
       "      <th>embarked_S</th>\n",
       "    </tr>\n",
       "  </thead>\n",
       "  <tbody>\n",
       "    <tr>\n",
       "      <th>0</th>\n",
       "      <td>2</td>\n",
       "      <td>1</td>\n",
       "      <td>13.000000</td>\n",
       "      <td>0</td>\n",
       "      <td>1</td>\n",
       "      <td>19.5000</td>\n",
       "      <td>0</td>\n",
       "      <td>0</td>\n",
       "      <td>0</td>\n",
       "      <td>0</td>\n",
       "      <td>...</td>\n",
       "      <td>0</td>\n",
       "      <td>0</td>\n",
       "      <td>0</td>\n",
       "      <td>0</td>\n",
       "      <td>0</td>\n",
       "      <td>0</td>\n",
       "      <td>1</td>\n",
       "      <td>0</td>\n",
       "      <td>0</td>\n",
       "      <td>1</td>\n",
       "    </tr>\n",
       "    <tr>\n",
       "      <th>1</th>\n",
       "      <td>2</td>\n",
       "      <td>1</td>\n",
       "      <td>4.000000</td>\n",
       "      <td>1</td>\n",
       "      <td>1</td>\n",
       "      <td>23.0000</td>\n",
       "      <td>0</td>\n",
       "      <td>0</td>\n",
       "      <td>0</td>\n",
       "      <td>0</td>\n",
       "      <td>...</td>\n",
       "      <td>0</td>\n",
       "      <td>0</td>\n",
       "      <td>0</td>\n",
       "      <td>0</td>\n",
       "      <td>0</td>\n",
       "      <td>0</td>\n",
       "      <td>1</td>\n",
       "      <td>0</td>\n",
       "      <td>0</td>\n",
       "      <td>1</td>\n",
       "    </tr>\n",
       "    <tr>\n",
       "      <th>2</th>\n",
       "      <td>2</td>\n",
       "      <td>1</td>\n",
       "      <td>30.000000</td>\n",
       "      <td>1</td>\n",
       "      <td>0</td>\n",
       "      <td>13.8583</td>\n",
       "      <td>0</td>\n",
       "      <td>0</td>\n",
       "      <td>0</td>\n",
       "      <td>0</td>\n",
       "      <td>...</td>\n",
       "      <td>0</td>\n",
       "      <td>0</td>\n",
       "      <td>0</td>\n",
       "      <td>0</td>\n",
       "      <td>0</td>\n",
       "      <td>0</td>\n",
       "      <td>1</td>\n",
       "      <td>1</td>\n",
       "      <td>0</td>\n",
       "      <td>0</td>\n",
       "    </tr>\n",
       "    <tr>\n",
       "      <th>3</th>\n",
       "      <td>3</td>\n",
       "      <td>0</td>\n",
       "      <td>30.231444</td>\n",
       "      <td>0</td>\n",
       "      <td>0</td>\n",
       "      <td>7.7250</td>\n",
       "      <td>0</td>\n",
       "      <td>0</td>\n",
       "      <td>0</td>\n",
       "      <td>1</td>\n",
       "      <td>...</td>\n",
       "      <td>0</td>\n",
       "      <td>0</td>\n",
       "      <td>0</td>\n",
       "      <td>0</td>\n",
       "      <td>0</td>\n",
       "      <td>0</td>\n",
       "      <td>1</td>\n",
       "      <td>0</td>\n",
       "      <td>1</td>\n",
       "      <td>0</td>\n",
       "    </tr>\n",
       "    <tr>\n",
       "      <th>4</th>\n",
       "      <td>3</td>\n",
       "      <td>1</td>\n",
       "      <td>22.000000</td>\n",
       "      <td>0</td>\n",
       "      <td>0</td>\n",
       "      <td>7.7250</td>\n",
       "      <td>0</td>\n",
       "      <td>0</td>\n",
       "      <td>0</td>\n",
       "      <td>0</td>\n",
       "      <td>...</td>\n",
       "      <td>0</td>\n",
       "      <td>0</td>\n",
       "      <td>0</td>\n",
       "      <td>0</td>\n",
       "      <td>0</td>\n",
       "      <td>0</td>\n",
       "      <td>1</td>\n",
       "      <td>0</td>\n",
       "      <td>1</td>\n",
       "      <td>0</td>\n",
       "    </tr>\n",
       "  </tbody>\n",
       "</table>\n",
       "<p>5 rows × 24 columns</p>\n",
       "</div>"
      ],
      "text/plain": [
       "   pclass  survived        age  sibsp  parch     fare  name_A  name_B  name_C  \\\n",
       "0       2         1  13.000000      0      1  19.5000       0       0       0   \n",
       "1       2         1   4.000000      1      1  23.0000       0       0       0   \n",
       "2       2         1  30.000000      1      0  13.8583       0       0       0   \n",
       "3       3         0  30.231444      0      0   7.7250       0       0       0   \n",
       "4       3         1  22.000000      0      0   7.7250       0       0       0   \n",
       "\n",
       "   name_D  ...  cabin_A  cabin_B  cabin_C  cabin_D  cabin_E  cabin_F  cabin_X  \\\n",
       "0       0  ...        0        0        0        0        0        0        1   \n",
       "1       0  ...        0        0        0        0        0        0        1   \n",
       "2       0  ...        0        0        0        0        0        0        1   \n",
       "3       1  ...        0        0        0        0        0        0        1   \n",
       "4       0  ...        0        0        0        0        0        0        1   \n",
       "\n",
       "   embarked_C  embarked_Q  embarked_S  \n",
       "0           0           0           1  \n",
       "1           0           0           1  \n",
       "2           1           0           0  \n",
       "3           0           1           0  \n",
       "4           0           1           0  \n",
       "\n",
       "[5 rows x 24 columns]"
      ]
     },
     "execution_count": 38,
     "metadata": {},
     "output_type": "execute_result"
    }
   ],
   "source": [
    "# 원-핫 인코딩\n",
    "whole_df_encoded = pd.get_dummies(whole_df)\n",
    "df_train = whole_df_encoded[:train_idx]\n",
    "df_test = whole_df_encoded[train_idx:]\n",
    "df_train.head()"
   ]
  },
  {
   "cell_type": "markdown",
   "id": "fd09049b",
   "metadata": {},
   "source": [
    "분류 모델 성능 향상된 것 확인"
   ]
  },
  {
   "cell_type": "code",
   "execution_count": 39,
   "id": "69f78508",
   "metadata": {},
   "outputs": [
    {
     "name": "stdout",
     "output_type": "stream",
     "text": [
      "accuracy: 0.80\n",
      "Precision: 0.741\n",
      "Recall: 0.721\n",
      "F1: 0.731\n",
      "AUC : 0.853\n"
     ]
    },
    {
     "data": {
      "text/plain": [
       "<matplotlib.legend.Legend at 0x17f04168d00>"
      ]
     },
     "execution_count": 39,
     "metadata": {},
     "output_type": "execute_result"
    },
    {
     "data": {
      "image/png": "[encoded data removed]",
      "text/plain": [
       "<Figure size 500x400 with 1 Axes>"
      ]
     },
     "metadata": {},
     "output_type": "display_data"
    }
   ],
   "source": [
    "x_train, y_train = df_train.loc[:, df_train.columns != 'survived'].values, df_train['survived'].values\n",
    "x_test, y_test = df_test.loc[:, df_test.columns != 'survived'].values, df_test['survived'].values\n",
    "\n",
    "lr = LogisticRegression(random_state = 0, max_iter = 5000)\n",
    "lr.fit(x_train, y_train)\n",
    "\n",
    "y_pred = lr.predict(x_test)\n",
    "y_pred_probability = lr.predict_proba(x_test)[:, 1]\n",
    "\n",
    "print(\"accuracy: %.2f\" % accuracy_score(y_test, y_pred))\n",
    "print(\"Precision: %.3f\" % precision_score(y_test, y_pred))\n",
    "print(\"Recall: %.3f\" % recall_score(y_test, y_pred))\n",
    "print(\"F1: %.3f\" % f1_score(y_test, y_pred))\n",
    "\n",
    "# false_positive_rate, true_positive_rate, thresholds : 세 값이 나옴\n",
    "false_positive_rate, true_positive_rate, thresholds = roc_curve(y_test, y_pred_probability)\n",
    "roc_auc = roc_auc_score(y_test, y_pred_probability)\n",
    "print(\"AUC : %.3f\" % roc_auc)\n",
    "\n",
    "plt.rcParams['figure.figsize'] = [5, 4]\n",
    "plt.plot(false_positive_rate, true_positive_rate, label = 'ROC curve (area = %.3f)' % roc_auc, color = 'r', linewidth = 4.0)\n",
    "plt.plot([0, 1], [0, 1], 'k--')\n",
    "plt.xlim([0.0, 1.1])\n",
    "plt.ylim([0.0, 1.1])\n",
    "plt.xlabel('False Positive Rate')\n",
    "plt.ylabel('True Positive Rate')\n",
    "plt.title('ROC curve of Logistic regression')\n",
    "plt.legend(loc = 'lower right')"
   ]
  },
  {
   "cell_type": "code",
   "execution_count": 40,
   "id": "c5b7f123",
   "metadata": {},
   "outputs": [
    {
     "data": {
      "text/plain": [
       "array([[-0.64151766, -0.02376329, -0.50536157, -0.16785887,  0.00239783,\n",
       "        -0.24028175,  0.5011628 , -0.33971031, -1.21116551,  1.25971277,\n",
       "         0.01595887,  0.7371257 , -0.75144882, -0.27582228,  0.24298286,\n",
       "        -0.62236528,  0.3971552 ,  0.42784165,  0.53008667, -0.71420194,\n",
       "         0.28803585, -0.05545908, -0.2468999 ]])"
      ]
     },
     "execution_count": 40,
     "metadata": {},
     "output_type": "execute_result"
    }
   ],
   "source": [
    "# 양수로 높을수록 1로 예측하는 데 영향을 줌, 음수로 높을수록 0으로 예측하는 데 영향을 줌\n",
    "lr.coef_\n",
    "# 해당 coefficient를 시그모이드 함수{1/(1+e^(-coef))}에 넣어 : 1 또는 0의 값으로 나옴\n",
    "# ex. name_D : 1/(1+e^(-(-1.21))) ~ 0, name_E : 1/(1+e^(-1.26)) ~ 1"
   ]
  },
  {
   "cell_type": "code",
   "execution_count": 41,
   "id": "633262e2",
   "metadata": {},
   "outputs": [
    {
     "data": {
      "image/png": "[encoded data removed]",
      "text/plain": [
       "<Figure size 500x400 with 1 Axes>"
      ]
     },
     "metadata": {},
     "output_type": "display_data"
    }
   ],
   "source": [
    "cols = df_train.columns.tolist()\n",
    "cols.remove('survived')\n",
    "y_pos = np.arange(len(cols))\n",
    "\n",
    "plt.rcParams['figure.figsize'] = [5, 4]\n",
    "fig, ax = plt.subplots()  # https://m.blog.naver.com/allieverwanted/222146678032\n",
    "ax.barh(y_pos, lr.coef_[0], align = 'center', color = 'g', ecolor = 'k')  # lr.coef_[0] : array 벗겨 주기\n",
    "ax.set_yticks(y_pos)\n",
    "ax.set_yticklabels(cols)\n",
    "ax.invert_yaxis()\n",
    "ax.set_xlabel('Coef')\n",
    "ax.set_title('Each Feature\\'s Coef')\n",
    "\n",
    "plt.show()"
   ]
  },
  {
   "cell_type": "markdown",
   "id": "07d0adb7",
   "metadata": {},
   "source": [
    "Step 4 평가 : 모델 검증하기\n",
    "\n",
    "<모델의 과적합 여부 검증>\n",
    "1) K-fold 교차 검증하기"
   ]
  },
  {
   "cell_type": "code",
   "execution_count": 42,
   "id": "76c35e91",
   "metadata": {},
   "outputs": [
    {
     "name": "stdout",
     "output_type": "stream",
     "text": [
      "[0.8228175228490388, 0.8783850777715808, 0.8657716049382717, 0.8799641148325359, 0.8350694444444444]\n"
     ]
    },
    {
     "data": {
      "text/plain": [
       "[<matplotlib.lines.Line2D at 0x17f029870a0>]"
      ]
     },
     "execution_count": 42,
     "metadata": {},
     "output_type": "execute_result"
    },
    {
     "data": {
      "image/png": "[encoded data removed]",
      "text/plain": [
       "<Figure size 500x400 with 1 Axes>"
      ]
     },
     "metadata": {},
     "output_type": "display_data"
    }
   ],
   "source": [
    "# K-fold 교챠 검증\n",
    "from sklearn.model_selection import KFold\n",
    "\n",
    "# k를 5로 설정\n",
    "k = 5\n",
    "cv = KFold(k, shuffle=True, random_state=0)\n",
    "auc_history = []\n",
    "\n",
    "# K-fold 5번 분할 학습\n",
    "for i, (train_data_row, test_data_row) in enumerate(cv.split(whole_df_encoded)):\n",
    "    \n",
    "    # 5개로 분할된 fold 중 4개를 학습, 1개를 테스트 데이터셋으로 지정\n",
    "    df_train = whole_df_encoded.iloc[train_data_row]\n",
    "    df_test = whole_df_encoded.iloc[test_data_row]\n",
    "    \n",
    "    # survived 피처를 y, 나머지 피처들을 x 데이터로 지정\n",
    "    splited_x_train, splited_y_train = df_train.loc[:, df_train.columns != 'survived'].values, df_train['survived'].values\n",
    "    splited_x_test, splited_y_test = df_test.loc[:, df_test.columns != 'survived'].values, df_test['survived'].values\n",
    "    \n",
    "    # 주어진 데이터로 로지스틱 회귀 모델 학습\n",
    "    lr = LogisticRegression(random_state = 0, max_iter = 5000)\n",
    "    lr.fit(splited_x_train, splited_y_train)\n",
    "    \n",
    "    # 테스트 데이터셋 추정\n",
    "    y_pred = lr.predict(splited_x_test)\n",
    "    y_pred_probability = lr.predict_proba(splited_x_test)[:, 1]\n",
    "    \n",
    "    false_positive_rate, true_positive_rate, thresholds = roc_curve(splited_y_test, y_pred_probability)\n",
    "    roc_auc = roc_auc_score(splited_y_test, y_pred_probability)\n",
    "    auc_history.append(roc_auc)\n",
    " \n",
    "print(auc_history)  # Test AUC가 0.8 이상의 수치를 기록했으므로 '과적합이 발생했지만 대체로 높은 정확도'\n",
    "\n",
    "plt.xlabel(\"Each K-fold\")\n",
    "plt.ylabel(\"AUC of splited test data\")\n",
    "plt.plot(range(1, k+1), auc_history)  # baseline"
   ]
  },
  {
   "cell_type": "markdown",
   "id": "fb8cd225",
   "metadata": {},
   "source": [
    "2) 학습 곡선 분석하기"
   ]
  },
  {
   "cell_type": "code",
   "execution_count": 43,
   "id": "3238ccb7",
   "metadata": {},
   "outputs": [
    {
     "data": {
      "image/png": "[encoded data removed]",
      "text/plain": [
       "<Figure size 500x400 with 1 Axes>"
      ]
     },
     "metadata": {},
     "output_type": "display_data"
    }
   ],
   "source": [
    "import scikitplot as skplt\n",
    "\n",
    "skplt.estimators.plot_learning_curve(lr, x_train, y_train)\n",
    "plt.show()"
   ]
  },
  {
   "cell_type": "code",
   "execution_count": null,
   "id": "675fdcab",
   "metadata": {},
   "outputs": [],
   "source": []
  }
 ],
 "metadata": {
  "kernelspec": {
   "display_name": "Python 3 (ipykernel)",
   "language": "python",
   "name": "python3"
  },
  "language_info": {
   "codemirror_mode": {
    "name": "ipython",
    "version": 3
   },
   "file_extension": ".py",
   "mimetype": "text/x-python",
   "name": "python",
   "nbconvert_exporter": "python",
   "pygments_lexer": "ipython3",
   "version": "3.10.9"
  }
 },
 "nbformat": 4,
 "nbformat_minor": 5
}
