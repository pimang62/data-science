{
 "cells": [
  {
   "cell_type": "code",
   "execution_count": 1,
   "id": "f74add5a",
   "metadata": {},
   "outputs": [],
   "source": [
    "from selenium import webdriver\n",
    "from selenium.webdriver.common.by import By\n",
    "from selenium.webdriver.common.keys import Keys\n",
    "from bs4 import BeautifulSoup\n",
    "import re\n",
    "import time"
   ]
  },
  {
   "cell_type": "code",
   "execution_count": 2,
   "id": "e417ddff",
   "metadata": {},
   "outputs": [],
   "source": [
    "# 작동완료\n",
    "def insta_searching(word):\n",
    "    url = \"https://www.instagram.com/explore/tags/\" + str(word)\n",
    "    return url"
   ]
  },
  {
   "cell_type": "code",
   "execution_count": 3,
   "id": "243fe4c9",
   "metadata": {},
   "outputs": [],
   "source": [
    "# 작동완료\n",
    "def select_first(driver):\n",
    "    first = driver.find_element(By.CLASS_NAME,\"_aagw\")\n",
    "    first.click()\n",
    "    time.sleep(3)"
   ]
  },
  {
   "cell_type": "code",
   "execution_count": 4,
   "id": "aa5f3a0d",
   "metadata": {},
   "outputs": [],
   "source": [
    "def get_content(driver):\n",
    "    html = driver.page_source\n",
    "    soup = BeautivulSoup(html, 'lxml')\n",
    "    # 본문 내용\n",
    "    try:\n",
    "        content = content = soup.select('div._a9zs')[0].text\n",
    "        content = content.replace(\"\\n\", \" \")\n",
    "    except:\n",
    "        content = ' '\n",
    "    # 해시태그\n",
    "    tags = re.findall(r'#[^\\s#,\\\\]+', content)\n",
    "    # 작성일자\n",
    "    date = soup.select('time._a9ze._a9zf')[0]['datetime'][:10] #3월 28일 2023\n",
    "    # 좋아요\n",
    "    try:\n",
    "        like = soup.select('div._ae2s._ae3v._ae3w')[0].findAll('span')[-1].text\n",
    "    except:\n",
    "        like = 0\n",
    "    # 위치\n",
    "    try:\n",
    "        place = soup.select('div._aaqm')[0].text\n",
    "    except:\n",
    "        place = ''\n",
    "        \n",
    "    data = [content, date, like, place, tags]\n",
    "    return data"
   ]
  },
  {
   "cell_type": "code",
   "execution_count": 5,
   "id": "ec7a9c3c",
   "metadata": {},
   "outputs": [],
   "source": [
    "# 작동완료\n",
    "def move_next(driver):\n",
    "    right = driver.find_element(By.CLASS_NAME,'_aaqg._aaqh')\n",
    "    right.click()\n",
    "    time.sleep(3)"
   ]
  },
  {
   "cell_type": "code",
   "execution_count": 6,
   "id": "af1b6c5e",
   "metadata": {},
   "outputs": [
    {
     "name": "stderr",
     "output_type": "stream",
     "text": [
      "C:\\Users\\yelin\\AppData\\Local\\Temp\\ipykernel_12628\\1723116794.py:2: DeprecationWarning: executable_path has been deprecated, please pass in a Service object\n",
      "  driver = webdriver.Chrome('chromedriver.exe')\n"
     ]
    },
    {
     "ename": "NameError",
     "evalue": "name 'url' is not defined",
     "output_type": "error",
     "traceback": [
      "\u001b[1;31m---------------------------------------------------------------------------\u001b[0m",
      "\u001b[1;31mNameError\u001b[0m                                 Traceback (most recent call last)",
      "\u001b[1;32m~\\AppData\\Local\\Temp\\ipykernel_12628\\1723116794.py\u001b[0m in \u001b[0;36m<module>\u001b[1;34m\u001b[0m\n\u001b[0;32m      5\u001b[0m \u001b[0mtime\u001b[0m\u001b[1;33m.\u001b[0m\u001b[0msleep\u001b[0m\u001b[1;33m(\u001b[0m\u001b[1;36m3\u001b[0m\u001b[1;33m)\u001b[0m\u001b[1;33m\u001b[0m\u001b[1;33m\u001b[0m\u001b[0m\n\u001b[0;32m      6\u001b[0m \u001b[1;33m\u001b[0m\u001b[0m\n\u001b[1;32m----> 7\u001b[1;33m \u001b[0mdriver\u001b[0m\u001b[1;33m.\u001b[0m\u001b[0mget\u001b[0m\u001b[1;33m(\u001b[0m\u001b[0murl\u001b[0m\u001b[1;33m)\u001b[0m\u001b[1;33m\u001b[0m\u001b[1;33m\u001b[0m\u001b[0m\n\u001b[0m\u001b[0;32m      8\u001b[0m \u001b[0mtime\u001b[0m\u001b[1;33m.\u001b[0m\u001b[0msleep\u001b[0m\u001b[1;33m(\u001b[0m\u001b[1;36m3\u001b[0m\u001b[1;33m)\u001b[0m\u001b[1;33m\u001b[0m\u001b[1;33m\u001b[0m\u001b[0m\n",
      "\u001b[1;31mNameError\u001b[0m: name 'url' is not defined"
     ]
    }
   ],
   "source": [
    "# 크롬 브라우저 열기\n",
    "driver = webdriver.Chrome('chromedriver.exe')\n",
    "\n",
    "driver.get('https://www.instagram.com')\n",
    "time.sleep(3)\n",
    "\n",
    "driver.get(url)\n",
    "time.sleep(3)"
   ]
  },
  {
   "cell_type": "code",
   "execution_count": 7,
   "id": "946306e2",
   "metadata": {},
   "outputs": [],
   "source": [
    "# 인스타그램 로그인을 위한 계정 정보\n",
    "email = 'pimang62'\n",
    "input_id = driver.find_element(By.NAME,\"username\")\n",
    "input_id.clear()\n",
    "input_id.send_keys(email)\n",
    "\n",
    "password = 'radfs2458'\n",
    "input_pw = driver.find_element(By.NAME,\"password\")\n",
    "input_pw.clear()\n",
    "input_pw.send_keys(password)\n",
    "input_pw.submit()\n",
    "\n",
    "time.sleep(5)"
   ]
  },
  {
   "cell_type": "code",
   "execution_count": null,
   "id": "8b434c5a",
   "metadata": {
    "scrolled": true
   },
   "outputs": [],
   "source": [
    "# 게시물을 조회할 검색 키워드 입력 요청\n",
    "word = input(\"검색어를 입력하세요 : \")\n",
    "word = str(word)\n",
    "url = insta_searching(word)\n",
    "\n",
    "# 검색 결과 페이지 열기\n",
    "driver.get(url)\n",
    "time.sleep(3)"
   ]
  },
  {
   "cell_type": "code",
   "execution_count": null,
   "id": "24f90833",
   "metadata": {},
   "outputs": [],
   "source": [
    "# 첫 번째 게시물 클릭\n",
    "select_first(driver)"
   ]
  },
  {
   "cell_type": "code",
   "execution_count": null,
   "id": "89c498d4",
   "metadata": {},
   "outputs": [],
   "source": [
    "move_next(driver)"
   ]
  },
  {
   "cell_type": "code",
   "execution_count": null,
   "id": "017fb41e",
   "metadata": {},
   "outputs": [],
   "source": [
    "# 첫 번째 게시물 클릭\n",
    "select_first(driver)\n",
    "\n",
    "# 본격적으로 데이터 수집 시작\n",
    "results = []\n",
    "## 수집할 게시물의 수\n",
    "target = 5\n",
    "for i in range(target):\n",
    "    try:\n",
    "        data = get_content(driver)\n",
    "        results.append(data)\n",
    "        move_next(driver)\n",
    "    except:\n",
    "        time.sleep(2)\n",
    "        move_next(driver)\n",
    "\n",
    "print(results[:2])"
   ]
  },
  {
   "cell_type": "code",
   "execution_count": null,
   "id": "e4a43587",
   "metadata": {},
   "outputs": [],
   "source": [
    "import pandas as pd\n",
    "\n",
    "df = pd.DataFrame(results)\n",
    "df = df.columns['content', 'tags', 'date', 'likes', 'place']\n",
    "df"
   ]
  }
 ],
 "metadata": {
  "kernelspec": {
   "display_name": "Python 3 (ipykernel)",
   "language": "python",
   "name": "python3"
  },
  "language_info": {
   "codemirror_mode": {
    "name": "ipython",
    "version": 3
   },
   "file_extension": ".py",
   "mimetype": "text/x-python",
   "name": "python",
   "nbconvert_exporter": "python",
   "pygments_lexer": "ipython3",
   "version": "3.10.9"
  }
 },
 "nbformat": 4,
 "nbformat_minor": 5
}
